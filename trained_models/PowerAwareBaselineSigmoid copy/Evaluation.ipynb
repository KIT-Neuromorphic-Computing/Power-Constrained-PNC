{
 "cells": [
  {
   "cell_type": "code",
   "execution_count": 1,
   "id": "1ec2c855-90e5-473b-85d4-0938c0fa99b4",
   "metadata": {},
   "outputs": [],
   "source": [
    "import os\n",
    "import sys\n",
    "from pathlib import Path\n",
    "sys.path.append(os.getcwd())\n",
    "sys.path.append(str(Path(os.getcwd()).parent))\n",
    "sys.path.append(os.path.join(os.getcwd(), 'utils'))\n",
    "from configuration import *\n",
    "import torch\n",
    "import pprint\n",
    "import pNN_Power_Aware as pNN\n",
    "from utils import *\n",
    "\n",
    "args = parser.parse_args([])\n",
    "args = FormulateArgs(args)\n"
   ]
  },
  {
   "cell_type": "code",
   "execution_count": 2,
   "id": "89ed8537",
   "metadata": {},
   "outputs": [
    {
     "data": {
      "text/plain": [
       "'/pfs/data5/home/kit/itec/qc0876/projects/PowerAwarePNN/PowerAwarePNN/maincode/PowerAwareBaselineHS'"
      ]
     },
     "execution_count": 2,
     "metadata": {},
     "output_type": "execute_result"
    }
   ],
   "source": [
    "%pwd"
   ]
  },
  {
   "cell_type": "code",
   "execution_count": 2,
   "id": "26aed94b",
   "metadata": {},
   "outputs": [],
   "source": [
    "num_seeds = 10\n",
    "num_dataset = 13"
   ]
  },
  {
   "cell_type": "code",
   "execution_count": 3,
   "id": "387f6baa-abf8-4eab-ab41-a2fad060a1d5",
   "metadata": {},
   "outputs": [
    {
     "data": {
      "application/vnd.jupyter.widget-view+json": {
       "model_id": "8b7e2a75a93d4cb3b2ccd3432d377af2",
       "version_major": 2,
       "version_minor": 0
      },
      "text/plain": [
       "Datasets:   0%|          | 0/13 [00:00<?, ?it/s]"
      ]
     },
     "metadata": {},
     "output_type": "display_data"
    },
    {
     "name": "stdout",
     "output_type": "stream",
     "text": [
      "{'dataname': 'acuteinflammation', 'N_feature': 6, 'N_class': 2, 'N_train': 70, 'N_valid': 23, 'N_test': 25}\n"
     ]
    },
    {
     "data": {
      "application/vnd.jupyter.widget-view+json": {
       "model_id": "09e5f11ec24e436b8f4e7455d19f825f",
       "version_major": 2,
       "version_minor": 0
      },
      "text/plain": [
       "Seeds:   0%|          | 0/10 [00:00<?, ?it/s]"
      ]
     },
     "metadata": {},
     "output_type": "display_data"
    },
    {
     "data": {
      "application/vnd.jupyter.widget-view+json": {
       "model_id": "3d69dc17cf2f4082bcb86cf2cd496cda",
       "version_major": 2,
       "version_minor": 0
      },
      "text/plain": [
       "Gammas:   0%|          | 0/51 [00:00<?, ?it/s]"
      ]
     },
     "metadata": {},
     "output_type": "display_data"
    },
    {
     "data": {
      "application/vnd.jupyter.widget-view+json": {
       "model_id": "e6517e0190464cb09d9aa848820db8c7",
       "version_major": 2,
       "version_minor": 0
      },
      "text/plain": [
       "Gammas:   0%|          | 0/51 [00:00<?, ?it/s]"
      ]
     },
     "metadata": {},
     "output_type": "display_data"
    },
    {
     "data": {
      "application/vnd.jupyter.widget-view+json": {
       "model_id": "562bee4b547c4585808290c6176221ac",
       "version_major": 2,
       "version_minor": 0
      },
      "text/plain": [
       "Gammas:   0%|          | 0/51 [00:00<?, ?it/s]"
      ]
     },
     "metadata": {},
     "output_type": "display_data"
    },
    {
     "data": {
      "application/vnd.jupyter.widget-view+json": {
       "model_id": "d1462c147d2d4fe09c66f326a7376f09",
       "version_major": 2,
       "version_minor": 0
      },
      "text/plain": [
       "Gammas:   0%|          | 0/51 [00:00<?, ?it/s]"
      ]
     },
     "metadata": {},
     "output_type": "display_data"
    },
    {
     "data": {
      "application/vnd.jupyter.widget-view+json": {
       "model_id": "dc1557b06515449e8189921be3120eb2",
       "version_major": 2,
       "version_minor": 0
      },
      "text/plain": [
       "Gammas:   0%|          | 0/51 [00:00<?, ?it/s]"
      ]
     },
     "metadata": {},
     "output_type": "display_data"
    },
    {
     "data": {
      "application/vnd.jupyter.widget-view+json": {
       "model_id": "d75d56a308a149168703601d500207c3",
       "version_major": 2,
       "version_minor": 0
      },
      "text/plain": [
       "Gammas:   0%|          | 0/51 [00:00<?, ?it/s]"
      ]
     },
     "metadata": {},
     "output_type": "display_data"
    },
    {
     "data": {
      "application/vnd.jupyter.widget-view+json": {
       "model_id": "faef3acaf5cc4077b5adcf8c4836ff34",
       "version_major": 2,
       "version_minor": 0
      },
      "text/plain": [
       "Gammas:   0%|          | 0/51 [00:00<?, ?it/s]"
      ]
     },
     "metadata": {},
     "output_type": "display_data"
    },
    {
     "data": {
      "application/vnd.jupyter.widget-view+json": {
       "model_id": "819a1e851f9e416d97401b51c69e7a51",
       "version_major": 2,
       "version_minor": 0
      },
      "text/plain": [
       "Gammas:   0%|          | 0/51 [00:00<?, ?it/s]"
      ]
     },
     "metadata": {},
     "output_type": "display_data"
    },
    {
     "data": {
      "application/vnd.jupyter.widget-view+json": {
       "model_id": "dfd3a31d9ffa497e98f664b44411af11",
       "version_major": 2,
       "version_minor": 0
      },
      "text/plain": [
       "Gammas:   0%|          | 0/51 [00:00<?, ?it/s]"
      ]
     },
     "metadata": {},
     "output_type": "display_data"
    },
    {
     "data": {
      "application/vnd.jupyter.widget-view+json": {
       "model_id": "e4f6dfc10b524210971f4af002ceaa49",
       "version_major": 2,
       "version_minor": 0
      },
      "text/plain": [
       "Gammas:   0%|          | 0/51 [00:00<?, ?it/s]"
      ]
     },
     "metadata": {},
     "output_type": "display_data"
    },
    {
     "name": "stdout",
     "output_type": "stream",
     "text": [
      "{'dataname': 'balancescale', 'N_feature': 4, 'N_class': 3, 'N_train': 373, 'N_valid': 124, 'N_test': 126}\n"
     ]
    },
    {
     "data": {
      "application/vnd.jupyter.widget-view+json": {
       "model_id": "38384683dfb942e8baf8c20a9c7bfba8",
       "version_major": 2,
       "version_minor": 0
      },
      "text/plain": [
       "Seeds:   0%|          | 0/10 [00:00<?, ?it/s]"
      ]
     },
     "metadata": {},
     "output_type": "display_data"
    },
    {
     "data": {
      "application/vnd.jupyter.widget-view+json": {
       "model_id": "9ad4cdc602ab42bf838db802dcdfcc18",
       "version_major": 2,
       "version_minor": 0
      },
      "text/plain": [
       "Gammas:   0%|          | 0/51 [00:00<?, ?it/s]"
      ]
     },
     "metadata": {},
     "output_type": "display_data"
    },
    {
     "data": {
      "application/vnd.jupyter.widget-view+json": {
       "model_id": "7ef9ca63480e4ec18d9efbbde74c5bec",
       "version_major": 2,
       "version_minor": 0
      },
      "text/plain": [
       "Gammas:   0%|          | 0/51 [00:00<?, ?it/s]"
      ]
     },
     "metadata": {},
     "output_type": "display_data"
    },
    {
     "data": {
      "application/vnd.jupyter.widget-view+json": {
       "model_id": "b9fb708d31424392815aa51a8c68bbc6",
       "version_major": 2,
       "version_minor": 0
      },
      "text/plain": [
       "Gammas:   0%|          | 0/51 [00:00<?, ?it/s]"
      ]
     },
     "metadata": {},
     "output_type": "display_data"
    },
    {
     "data": {
      "application/vnd.jupyter.widget-view+json": {
       "model_id": "418f23403b214c7a9df616ade04dffb3",
       "version_major": 2,
       "version_minor": 0
      },
      "text/plain": [
       "Gammas:   0%|          | 0/51 [00:00<?, ?it/s]"
      ]
     },
     "metadata": {},
     "output_type": "display_data"
    },
    {
     "data": {
      "application/vnd.jupyter.widget-view+json": {
       "model_id": "db2488f37c0349f4997a5b69cd579fd2",
       "version_major": 2,
       "version_minor": 0
      },
      "text/plain": [
       "Gammas:   0%|          | 0/51 [00:00<?, ?it/s]"
      ]
     },
     "metadata": {},
     "output_type": "display_data"
    },
    {
     "data": {
      "application/vnd.jupyter.widget-view+json": {
       "model_id": "3f81ba1e23e044bf917b85fd52e52172",
       "version_major": 2,
       "version_minor": 0
      },
      "text/plain": [
       "Gammas:   0%|          | 0/51 [00:00<?, ?it/s]"
      ]
     },
     "metadata": {},
     "output_type": "display_data"
    },
    {
     "data": {
      "application/vnd.jupyter.widget-view+json": {
       "model_id": "f7de55300d4648359beabbc9143d1e72",
       "version_major": 2,
       "version_minor": 0
      },
      "text/plain": [
       "Gammas:   0%|          | 0/51 [00:00<?, ?it/s]"
      ]
     },
     "metadata": {},
     "output_type": "display_data"
    },
    {
     "data": {
      "application/vnd.jupyter.widget-view+json": {
       "model_id": "9518df09a5b743f0ae55dafc0fa6f54c",
       "version_major": 2,
       "version_minor": 0
      },
      "text/plain": [
       "Gammas:   0%|          | 0/51 [00:00<?, ?it/s]"
      ]
     },
     "metadata": {},
     "output_type": "display_data"
    },
    {
     "data": {
      "application/vnd.jupyter.widget-view+json": {
       "model_id": "42e5f36aba624acba7828af13f2380ee",
       "version_major": 2,
       "version_minor": 0
      },
      "text/plain": [
       "Gammas:   0%|          | 0/51 [00:00<?, ?it/s]"
      ]
     },
     "metadata": {},
     "output_type": "display_data"
    },
    {
     "data": {
      "application/vnd.jupyter.widget-view+json": {
       "model_id": "7164f8e446ac4da881da086c353d810e",
       "version_major": 2,
       "version_minor": 0
      },
      "text/plain": [
       "Gammas:   0%|          | 0/51 [00:00<?, ?it/s]"
      ]
     },
     "metadata": {},
     "output_type": "display_data"
    },
    {
     "name": "stdout",
     "output_type": "stream",
     "text": [
      "{'dataname': 'breastcancerwisc', 'N_feature': 9, 'N_class': 2, 'N_train': 418, 'N_valid': 139, 'N_test': 140}\n"
     ]
    },
    {
     "data": {
      "application/vnd.jupyter.widget-view+json": {
       "model_id": "b11cb52938c147fda24674a8e31bf528",
       "version_major": 2,
       "version_minor": 0
      },
      "text/plain": [
       "Seeds:   0%|          | 0/10 [00:00<?, ?it/s]"
      ]
     },
     "metadata": {},
     "output_type": "display_data"
    },
    {
     "data": {
      "application/vnd.jupyter.widget-view+json": {
       "model_id": "9a0b5957175f40a0bd46a8020c03e043",
       "version_major": 2,
       "version_minor": 0
      },
      "text/plain": [
       "Gammas:   0%|          | 0/51 [00:00<?, ?it/s]"
      ]
     },
     "metadata": {},
     "output_type": "display_data"
    },
    {
     "data": {
      "application/vnd.jupyter.widget-view+json": {
       "model_id": "b00e866056704a0f94a3d5c03e1ce85f",
       "version_major": 2,
       "version_minor": 0
      },
      "text/plain": [
       "Gammas:   0%|          | 0/51 [00:00<?, ?it/s]"
      ]
     },
     "metadata": {},
     "output_type": "display_data"
    },
    {
     "data": {
      "application/vnd.jupyter.widget-view+json": {
       "model_id": "8c3ebba09a434139b41e78990abf3198",
       "version_major": 2,
       "version_minor": 0
      },
      "text/plain": [
       "Gammas:   0%|          | 0/51 [00:00<?, ?it/s]"
      ]
     },
     "metadata": {},
     "output_type": "display_data"
    },
    {
     "data": {
      "application/vnd.jupyter.widget-view+json": {
       "model_id": "8273a0b136f448db9d4bd4541c2d4a4b",
       "version_major": 2,
       "version_minor": 0
      },
      "text/plain": [
       "Gammas:   0%|          | 0/51 [00:00<?, ?it/s]"
      ]
     },
     "metadata": {},
     "output_type": "display_data"
    },
    {
     "data": {
      "application/vnd.jupyter.widget-view+json": {
       "model_id": "ed66d9b68bdf45d1b1192a2c4c36a2d6",
       "version_major": 2,
       "version_minor": 0
      },
      "text/plain": [
       "Gammas:   0%|          | 0/51 [00:00<?, ?it/s]"
      ]
     },
     "metadata": {},
     "output_type": "display_data"
    },
    {
     "data": {
      "application/vnd.jupyter.widget-view+json": {
       "model_id": "af7c7c212bcc49469de6e678d324ca4c",
       "version_major": 2,
       "version_minor": 0
      },
      "text/plain": [
       "Gammas:   0%|          | 0/51 [00:00<?, ?it/s]"
      ]
     },
     "metadata": {},
     "output_type": "display_data"
    },
    {
     "data": {
      "application/vnd.jupyter.widget-view+json": {
       "model_id": "e1a0b57ba35d4d6b8e88ffa6cd2c6b36",
       "version_major": 2,
       "version_minor": 0
      },
      "text/plain": [
       "Gammas:   0%|          | 0/51 [00:00<?, ?it/s]"
      ]
     },
     "metadata": {},
     "output_type": "display_data"
    },
    {
     "data": {
      "application/vnd.jupyter.widget-view+json": {
       "model_id": "71649f60cd2e464a9c5905aef2ee25c5",
       "version_major": 2,
       "version_minor": 0
      },
      "text/plain": [
       "Gammas:   0%|          | 0/51 [00:00<?, ?it/s]"
      ]
     },
     "metadata": {},
     "output_type": "display_data"
    },
    {
     "data": {
      "application/vnd.jupyter.widget-view+json": {
       "model_id": "b930652e971b44f69c0cde04bc8bb2a5",
       "version_major": 2,
       "version_minor": 0
      },
      "text/plain": [
       "Gammas:   0%|          | 0/51 [00:00<?, ?it/s]"
      ]
     },
     "metadata": {},
     "output_type": "display_data"
    },
    {
     "data": {
      "application/vnd.jupyter.widget-view+json": {
       "model_id": "ac0ab2be06e348b7b4a10b859958fac3",
       "version_major": 2,
       "version_minor": 0
      },
      "text/plain": [
       "Gammas:   0%|          | 0/51 [00:00<?, ?it/s]"
      ]
     },
     "metadata": {},
     "output_type": "display_data"
    },
    {
     "name": "stdout",
     "output_type": "stream",
     "text": [
      "{'dataname': 'cardiotocography3clases', 'N_feature': 21, 'N_class': 3, 'N_train': 1274, 'N_valid': 424, 'N_test': 426}\n"
     ]
    },
    {
     "data": {
      "application/vnd.jupyter.widget-view+json": {
       "model_id": "596bf3fbe06d4fc1bc697dadfd1937a7",
       "version_major": 2,
       "version_minor": 0
      },
      "text/plain": [
       "Seeds:   0%|          | 0/10 [00:00<?, ?it/s]"
      ]
     },
     "metadata": {},
     "output_type": "display_data"
    },
    {
     "data": {
      "application/vnd.jupyter.widget-view+json": {
       "model_id": "9417537b6d7f430bae3929cd5b86dcc1",
       "version_major": 2,
       "version_minor": 0
      },
      "text/plain": [
       "Gammas:   0%|          | 0/51 [00:00<?, ?it/s]"
      ]
     },
     "metadata": {},
     "output_type": "display_data"
    },
    {
     "data": {
      "application/vnd.jupyter.widget-view+json": {
       "model_id": "74deaa83ee074525bbe9fc9cb69e0217",
       "version_major": 2,
       "version_minor": 0
      },
      "text/plain": [
       "Gammas:   0%|          | 0/51 [00:00<?, ?it/s]"
      ]
     },
     "metadata": {},
     "output_type": "display_data"
    },
    {
     "data": {
      "application/vnd.jupyter.widget-view+json": {
       "model_id": "6d5a8ab23ec745d7b0c3c9af55ea044d",
       "version_major": 2,
       "version_minor": 0
      },
      "text/plain": [
       "Gammas:   0%|          | 0/51 [00:00<?, ?it/s]"
      ]
     },
     "metadata": {},
     "output_type": "display_data"
    },
    {
     "data": {
      "application/vnd.jupyter.widget-view+json": {
       "model_id": "1dfc98014fd243d484eac405ed2bae49",
       "version_major": 2,
       "version_minor": 0
      },
      "text/plain": [
       "Gammas:   0%|          | 0/51 [00:00<?, ?it/s]"
      ]
     },
     "metadata": {},
     "output_type": "display_data"
    },
    {
     "data": {
      "application/vnd.jupyter.widget-view+json": {
       "model_id": "5639e67c9a634328a5ef4f143f096ec5",
       "version_major": 2,
       "version_minor": 0
      },
      "text/plain": [
       "Gammas:   0%|          | 0/51 [00:00<?, ?it/s]"
      ]
     },
     "metadata": {},
     "output_type": "display_data"
    },
    {
     "data": {
      "application/vnd.jupyter.widget-view+json": {
       "model_id": "2b13f9ea7d1a457da80d8d5edf08732f",
       "version_major": 2,
       "version_minor": 0
      },
      "text/plain": [
       "Gammas:   0%|          | 0/51 [00:00<?, ?it/s]"
      ]
     },
     "metadata": {},
     "output_type": "display_data"
    },
    {
     "data": {
      "application/vnd.jupyter.widget-view+json": {
       "model_id": "6d49b838230f407490dc3cda2650fa76",
       "version_major": 2,
       "version_minor": 0
      },
      "text/plain": [
       "Gammas:   0%|          | 0/51 [00:00<?, ?it/s]"
      ]
     },
     "metadata": {},
     "output_type": "display_data"
    },
    {
     "data": {
      "application/vnd.jupyter.widget-view+json": {
       "model_id": "2fabeb32de8e401c8387f32c6d4a1ab9",
       "version_major": 2,
       "version_minor": 0
      },
      "text/plain": [
       "Gammas:   0%|          | 0/51 [00:00<?, ?it/s]"
      ]
     },
     "metadata": {},
     "output_type": "display_data"
    },
    {
     "data": {
      "application/vnd.jupyter.widget-view+json": {
       "model_id": "ae0f3b61f3194473aeda71eee854b0df",
       "version_major": 2,
       "version_minor": 0
      },
      "text/plain": [
       "Gammas:   0%|          | 0/51 [00:00<?, ?it/s]"
      ]
     },
     "metadata": {},
     "output_type": "display_data"
    },
    {
     "data": {
      "application/vnd.jupyter.widget-view+json": {
       "model_id": "7f961dc4fc4d4bbba7b2c31d1a86960a",
       "version_major": 2,
       "version_minor": 0
      },
      "text/plain": [
       "Gammas:   0%|          | 0/51 [00:00<?, ?it/s]"
      ]
     },
     "metadata": {},
     "output_type": "display_data"
    },
    {
     "name": "stdout",
     "output_type": "stream",
     "text": [
      "{'dataname': 'energyy1', 'N_feature': 8, 'N_class': 3, 'N_train': 459, 'N_valid': 153, 'N_test': 154}\n"
     ]
    },
    {
     "data": {
      "application/vnd.jupyter.widget-view+json": {
       "model_id": "ae06bac5362b49a6b9ac3dbc49d6da29",
       "version_major": 2,
       "version_minor": 0
      },
      "text/plain": [
       "Seeds:   0%|          | 0/10 [00:00<?, ?it/s]"
      ]
     },
     "metadata": {},
     "output_type": "display_data"
    },
    {
     "data": {
      "application/vnd.jupyter.widget-view+json": {
       "model_id": "c8c51156f5eb4fbcbdd82525b6d9741b",
       "version_major": 2,
       "version_minor": 0
      },
      "text/plain": [
       "Gammas:   0%|          | 0/51 [00:00<?, ?it/s]"
      ]
     },
     "metadata": {},
     "output_type": "display_data"
    },
    {
     "data": {
      "application/vnd.jupyter.widget-view+json": {
       "model_id": "a651266eb35f4f67a236cf9db90d73ce",
       "version_major": 2,
       "version_minor": 0
      },
      "text/plain": [
       "Gammas:   0%|          | 0/51 [00:00<?, ?it/s]"
      ]
     },
     "metadata": {},
     "output_type": "display_data"
    },
    {
     "data": {
      "application/vnd.jupyter.widget-view+json": {
       "model_id": "2c7df21c7e6f4f428a31145c359758bd",
       "version_major": 2,
       "version_minor": 0
      },
      "text/plain": [
       "Gammas:   0%|          | 0/51 [00:00<?, ?it/s]"
      ]
     },
     "metadata": {},
     "output_type": "display_data"
    },
    {
     "data": {
      "application/vnd.jupyter.widget-view+json": {
       "model_id": "3f2cff2e2f1342e18dcd65232b25af9c",
       "version_major": 2,
       "version_minor": 0
      },
      "text/plain": [
       "Gammas:   0%|          | 0/51 [00:00<?, ?it/s]"
      ]
     },
     "metadata": {},
     "output_type": "display_data"
    },
    {
     "data": {
      "application/vnd.jupyter.widget-view+json": {
       "model_id": "fea9afd13b1a4027b5cb9f2d7ab6f7c7",
       "version_major": 2,
       "version_minor": 0
      },
      "text/plain": [
       "Gammas:   0%|          | 0/51 [00:00<?, ?it/s]"
      ]
     },
     "metadata": {},
     "output_type": "display_data"
    },
    {
     "data": {
      "application/vnd.jupyter.widget-view+json": {
       "model_id": "3541ced350624ba9b8a9e96c00932dc0",
       "version_major": 2,
       "version_minor": 0
      },
      "text/plain": [
       "Gammas:   0%|          | 0/51 [00:00<?, ?it/s]"
      ]
     },
     "metadata": {},
     "output_type": "display_data"
    },
    {
     "data": {
      "application/vnd.jupyter.widget-view+json": {
       "model_id": "c868f97a88294d96a492878d44191744",
       "version_major": 2,
       "version_minor": 0
      },
      "text/plain": [
       "Gammas:   0%|          | 0/51 [00:00<?, ?it/s]"
      ]
     },
     "metadata": {},
     "output_type": "display_data"
    },
    {
     "data": {
      "application/vnd.jupyter.widget-view+json": {
       "model_id": "9b9a1658b43f4256b1e42caa867b2698",
       "version_major": 2,
       "version_minor": 0
      },
      "text/plain": [
       "Gammas:   0%|          | 0/51 [00:00<?, ?it/s]"
      ]
     },
     "metadata": {},
     "output_type": "display_data"
    },
    {
     "data": {
      "application/vnd.jupyter.widget-view+json": {
       "model_id": "e62a328b40e84464b275f62dc7935551",
       "version_major": 2,
       "version_minor": 0
      },
      "text/plain": [
       "Gammas:   0%|          | 0/51 [00:00<?, ?it/s]"
      ]
     },
     "metadata": {},
     "output_type": "display_data"
    },
    {
     "data": {
      "application/vnd.jupyter.widget-view+json": {
       "model_id": "43eed3e61de44bbe8202c7b40f744e76",
       "version_major": 2,
       "version_minor": 0
      },
      "text/plain": [
       "Gammas:   0%|          | 0/51 [00:00<?, ?it/s]"
      ]
     },
     "metadata": {},
     "output_type": "display_data"
    },
    {
     "name": "stdout",
     "output_type": "stream",
     "text": [
      "{'dataname': 'energyy2', 'N_feature': 8, 'N_class': 3, 'N_train': 459, 'N_valid': 153, 'N_test': 154}\n"
     ]
    },
    {
     "data": {
      "application/vnd.jupyter.widget-view+json": {
       "model_id": "3d89990c099440c6a5a86dfe353d781d",
       "version_major": 2,
       "version_minor": 0
      },
      "text/plain": [
       "Seeds:   0%|          | 0/10 [00:00<?, ?it/s]"
      ]
     },
     "metadata": {},
     "output_type": "display_data"
    },
    {
     "data": {
      "application/vnd.jupyter.widget-view+json": {
       "model_id": "ae528e87d9de4c6fb05e42dbc6487aea",
       "version_major": 2,
       "version_minor": 0
      },
      "text/plain": [
       "Gammas:   0%|          | 0/51 [00:00<?, ?it/s]"
      ]
     },
     "metadata": {},
     "output_type": "display_data"
    },
    {
     "data": {
      "application/vnd.jupyter.widget-view+json": {
       "model_id": "0cd74a99c78c4111ae190c340ef7cd04",
       "version_major": 2,
       "version_minor": 0
      },
      "text/plain": [
       "Gammas:   0%|          | 0/51 [00:00<?, ?it/s]"
      ]
     },
     "metadata": {},
     "output_type": "display_data"
    },
    {
     "data": {
      "application/vnd.jupyter.widget-view+json": {
       "model_id": "2f04395bf70e4e46b2bab94502e62f15",
       "version_major": 2,
       "version_minor": 0
      },
      "text/plain": [
       "Gammas:   0%|          | 0/51 [00:00<?, ?it/s]"
      ]
     },
     "metadata": {},
     "output_type": "display_data"
    },
    {
     "data": {
      "application/vnd.jupyter.widget-view+json": {
       "model_id": "968c4df5c3794d6aa9a25c3d0e9fa47e",
       "version_major": 2,
       "version_minor": 0
      },
      "text/plain": [
       "Gammas:   0%|          | 0/51 [00:00<?, ?it/s]"
      ]
     },
     "metadata": {},
     "output_type": "display_data"
    },
    {
     "data": {
      "application/vnd.jupyter.widget-view+json": {
       "model_id": "e120b854db7c497dadfaa5c731f37aac",
       "version_major": 2,
       "version_minor": 0
      },
      "text/plain": [
       "Gammas:   0%|          | 0/51 [00:00<?, ?it/s]"
      ]
     },
     "metadata": {},
     "output_type": "display_data"
    },
    {
     "data": {
      "application/vnd.jupyter.widget-view+json": {
       "model_id": "eaf4c6d9725c450d94b84e768abf148a",
       "version_major": 2,
       "version_minor": 0
      },
      "text/plain": [
       "Gammas:   0%|          | 0/51 [00:00<?, ?it/s]"
      ]
     },
     "metadata": {},
     "output_type": "display_data"
    },
    {
     "data": {
      "application/vnd.jupyter.widget-view+json": {
       "model_id": "f61182b2d7fa46a3b90bfef6739902c5",
       "version_major": 2,
       "version_minor": 0
      },
      "text/plain": [
       "Gammas:   0%|          | 0/51 [00:00<?, ?it/s]"
      ]
     },
     "metadata": {},
     "output_type": "display_data"
    },
    {
     "data": {
      "application/vnd.jupyter.widget-view+json": {
       "model_id": "bec21b62f15f4b61b0923a1ed4107bd0",
       "version_major": 2,
       "version_minor": 0
      },
      "text/plain": [
       "Gammas:   0%|          | 0/51 [00:00<?, ?it/s]"
      ]
     },
     "metadata": {},
     "output_type": "display_data"
    },
    {
     "data": {
      "application/vnd.jupyter.widget-view+json": {
       "model_id": "ba49c465aa064319b069c6ab5e74ec33",
       "version_major": 2,
       "version_minor": 0
      },
      "text/plain": [
       "Gammas:   0%|          | 0/51 [00:00<?, ?it/s]"
      ]
     },
     "metadata": {},
     "output_type": "display_data"
    },
    {
     "data": {
      "application/vnd.jupyter.widget-view+json": {
       "model_id": "53b39b148e754e31b45f23794d1af174",
       "version_major": 2,
       "version_minor": 0
      },
      "text/plain": [
       "Gammas:   0%|          | 0/51 [00:00<?, ?it/s]"
      ]
     },
     "metadata": {},
     "output_type": "display_data"
    },
    {
     "name": "stdout",
     "output_type": "stream",
     "text": [
      "{'dataname': 'iris', 'N_feature': 4, 'N_class': 3, 'N_train': 88, 'N_valid': 29, 'N_test': 31}\n"
     ]
    },
    {
     "data": {
      "application/vnd.jupyter.widget-view+json": {
       "model_id": "6550603cccf44357a817a189a4bd0869",
       "version_major": 2,
       "version_minor": 0
      },
      "text/plain": [
       "Seeds:   0%|          | 0/10 [00:00<?, ?it/s]"
      ]
     },
     "metadata": {},
     "output_type": "display_data"
    },
    {
     "data": {
      "application/vnd.jupyter.widget-view+json": {
       "model_id": "6ba33ffd483148249b55e647b576ec50",
       "version_major": 2,
       "version_minor": 0
      },
      "text/plain": [
       "Gammas:   0%|          | 0/51 [00:00<?, ?it/s]"
      ]
     },
     "metadata": {},
     "output_type": "display_data"
    },
    {
     "data": {
      "application/vnd.jupyter.widget-view+json": {
       "model_id": "c77a692c10c049818cad4e13df3c00a2",
       "version_major": 2,
       "version_minor": 0
      },
      "text/plain": [
       "Gammas:   0%|          | 0/51 [00:00<?, ?it/s]"
      ]
     },
     "metadata": {},
     "output_type": "display_data"
    },
    {
     "data": {
      "application/vnd.jupyter.widget-view+json": {
       "model_id": "c5c9a38e400848c3a3581e59faae30ab",
       "version_major": 2,
       "version_minor": 0
      },
      "text/plain": [
       "Gammas:   0%|          | 0/51 [00:00<?, ?it/s]"
      ]
     },
     "metadata": {},
     "output_type": "display_data"
    },
    {
     "data": {
      "application/vnd.jupyter.widget-view+json": {
       "model_id": "a03d94655f8b404bb5ec4207f1783e5b",
       "version_major": 2,
       "version_minor": 0
      },
      "text/plain": [
       "Gammas:   0%|          | 0/51 [00:00<?, ?it/s]"
      ]
     },
     "metadata": {},
     "output_type": "display_data"
    },
    {
     "data": {
      "application/vnd.jupyter.widget-view+json": {
       "model_id": "1e1f7fc3f720493cafc0606288d4b959",
       "version_major": 2,
       "version_minor": 0
      },
      "text/plain": [
       "Gammas:   0%|          | 0/51 [00:00<?, ?it/s]"
      ]
     },
     "metadata": {},
     "output_type": "display_data"
    },
    {
     "data": {
      "application/vnd.jupyter.widget-view+json": {
       "model_id": "d7af3786ce5642d89a89a6fe8d08555f",
       "version_major": 2,
       "version_minor": 0
      },
      "text/plain": [
       "Gammas:   0%|          | 0/51 [00:00<?, ?it/s]"
      ]
     },
     "metadata": {},
     "output_type": "display_data"
    },
    {
     "data": {
      "application/vnd.jupyter.widget-view+json": {
       "model_id": "122deb9591b140c1961c3613024bf818",
       "version_major": 2,
       "version_minor": 0
      },
      "text/plain": [
       "Gammas:   0%|          | 0/51 [00:00<?, ?it/s]"
      ]
     },
     "metadata": {},
     "output_type": "display_data"
    },
    {
     "data": {
      "application/vnd.jupyter.widget-view+json": {
       "model_id": "dd8a9284dd1c4861a504e2b08f8b07ca",
       "version_major": 2,
       "version_minor": 0
      },
      "text/plain": [
       "Gammas:   0%|          | 0/51 [00:00<?, ?it/s]"
      ]
     },
     "metadata": {},
     "output_type": "display_data"
    },
    {
     "data": {
      "application/vnd.jupyter.widget-view+json": {
       "model_id": "c6ba465863ce4930a40e327ac901d948",
       "version_major": 2,
       "version_minor": 0
      },
      "text/plain": [
       "Gammas:   0%|          | 0/51 [00:00<?, ?it/s]"
      ]
     },
     "metadata": {},
     "output_type": "display_data"
    },
    {
     "data": {
      "application/vnd.jupyter.widget-view+json": {
       "model_id": "167aac9689e54b27b6a98169f8fc6f93",
       "version_major": 2,
       "version_minor": 0
      },
      "text/plain": [
       "Gammas:   0%|          | 0/51 [00:00<?, ?it/s]"
      ]
     },
     "metadata": {},
     "output_type": "display_data"
    },
    {
     "name": "stdout",
     "output_type": "stream",
     "text": [
      "{'dataname': 'mammographic', 'N_feature': 5, 'N_class': 2, 'N_train': 575, 'N_valid': 191, 'N_test': 193}\n"
     ]
    },
    {
     "data": {
      "application/vnd.jupyter.widget-view+json": {
       "model_id": "354b367b760d43d984c67f2f35830893",
       "version_major": 2,
       "version_minor": 0
      },
      "text/plain": [
       "Seeds:   0%|          | 0/10 [00:00<?, ?it/s]"
      ]
     },
     "metadata": {},
     "output_type": "display_data"
    },
    {
     "data": {
      "application/vnd.jupyter.widget-view+json": {
       "model_id": "b5df904814594e209e95905df3f4264c",
       "version_major": 2,
       "version_minor": 0
      },
      "text/plain": [
       "Gammas:   0%|          | 0/51 [00:00<?, ?it/s]"
      ]
     },
     "metadata": {},
     "output_type": "display_data"
    },
    {
     "data": {
      "application/vnd.jupyter.widget-view+json": {
       "model_id": "aa2c7ca28947443fb7d40be3304d7c35",
       "version_major": 2,
       "version_minor": 0
      },
      "text/plain": [
       "Gammas:   0%|          | 0/51 [00:00<?, ?it/s]"
      ]
     },
     "metadata": {},
     "output_type": "display_data"
    },
    {
     "data": {
      "application/vnd.jupyter.widget-view+json": {
       "model_id": "3bcfb59275474c6cb9e9fe4bfe4a45b0",
       "version_major": 2,
       "version_minor": 0
      },
      "text/plain": [
       "Gammas:   0%|          | 0/51 [00:00<?, ?it/s]"
      ]
     },
     "metadata": {},
     "output_type": "display_data"
    },
    {
     "data": {
      "application/vnd.jupyter.widget-view+json": {
       "model_id": "df1bb110f81c4c259768bc0a61d79834",
       "version_major": 2,
       "version_minor": 0
      },
      "text/plain": [
       "Gammas:   0%|          | 0/51 [00:00<?, ?it/s]"
      ]
     },
     "metadata": {},
     "output_type": "display_data"
    },
    {
     "data": {
      "application/vnd.jupyter.widget-view+json": {
       "model_id": "a85ff291a48647238168e979aaca870e",
       "version_major": 2,
       "version_minor": 0
      },
      "text/plain": [
       "Gammas:   0%|          | 0/51 [00:00<?, ?it/s]"
      ]
     },
     "metadata": {},
     "output_type": "display_data"
    },
    {
     "data": {
      "application/vnd.jupyter.widget-view+json": {
       "model_id": "d6b633c0c58f4248ba8777736dd070c2",
       "version_major": 2,
       "version_minor": 0
      },
      "text/plain": [
       "Gammas:   0%|          | 0/51 [00:00<?, ?it/s]"
      ]
     },
     "metadata": {},
     "output_type": "display_data"
    },
    {
     "data": {
      "application/vnd.jupyter.widget-view+json": {
       "model_id": "099a4fba62ac4321bb4296f7063734f2",
       "version_major": 2,
       "version_minor": 0
      },
      "text/plain": [
       "Gammas:   0%|          | 0/51 [00:00<?, ?it/s]"
      ]
     },
     "metadata": {},
     "output_type": "display_data"
    },
    {
     "data": {
      "application/vnd.jupyter.widget-view+json": {
       "model_id": "fb9e8eb47a0b48989bb565538e0ffe46",
       "version_major": 2,
       "version_minor": 0
      },
      "text/plain": [
       "Gammas:   0%|          | 0/51 [00:00<?, ?it/s]"
      ]
     },
     "metadata": {},
     "output_type": "display_data"
    },
    {
     "data": {
      "application/vnd.jupyter.widget-view+json": {
       "model_id": "fbb61e653d81489b96c94a3ba6bc5467",
       "version_major": 2,
       "version_minor": 0
      },
      "text/plain": [
       "Gammas:   0%|          | 0/51 [00:00<?, ?it/s]"
      ]
     },
     "metadata": {},
     "output_type": "display_data"
    },
    {
     "data": {
      "application/vnd.jupyter.widget-view+json": {
       "model_id": "25bb82f7e7be44af95398bf3e489ec42",
       "version_major": 2,
       "version_minor": 0
      },
      "text/plain": [
       "Gammas:   0%|          | 0/51 [00:00<?, ?it/s]"
      ]
     },
     "metadata": {},
     "output_type": "display_data"
    },
    {
     "name": "stdout",
     "output_type": "stream",
     "text": [
      "{'dataname': 'Pendigits', 'N_feature': 16, 'N_class': 10, 'N_train': 2198, 'N_valid': 732, 'N_test': 733}\n"
     ]
    },
    {
     "data": {
      "application/vnd.jupyter.widget-view+json": {
       "model_id": "049fcc11ea914bccbf8b466899700fe9",
       "version_major": 2,
       "version_minor": 0
      },
      "text/plain": [
       "Seeds:   0%|          | 0/10 [00:00<?, ?it/s]"
      ]
     },
     "metadata": {},
     "output_type": "display_data"
    },
    {
     "data": {
      "application/vnd.jupyter.widget-view+json": {
       "model_id": "cfd639e9ae83466da302107ba87656ed",
       "version_major": 2,
       "version_minor": 0
      },
      "text/plain": [
       "Gammas:   0%|          | 0/51 [00:00<?, ?it/s]"
      ]
     },
     "metadata": {},
     "output_type": "display_data"
    },
    {
     "data": {
      "application/vnd.jupyter.widget-view+json": {
       "model_id": "4d84796b951f4d6495487d375509037d",
       "version_major": 2,
       "version_minor": 0
      },
      "text/plain": [
       "Gammas:   0%|          | 0/51 [00:00<?, ?it/s]"
      ]
     },
     "metadata": {},
     "output_type": "display_data"
    },
    {
     "data": {
      "application/vnd.jupyter.widget-view+json": {
       "model_id": "4686ef6ca60a4365bbab7bb184776a54",
       "version_major": 2,
       "version_minor": 0
      },
      "text/plain": [
       "Gammas:   0%|          | 0/51 [00:00<?, ?it/s]"
      ]
     },
     "metadata": {},
     "output_type": "display_data"
    },
    {
     "data": {
      "application/vnd.jupyter.widget-view+json": {
       "model_id": "513869d93de84d9b8770f92c36e56b2d",
       "version_major": 2,
       "version_minor": 0
      },
      "text/plain": [
       "Gammas:   0%|          | 0/51 [00:00<?, ?it/s]"
      ]
     },
     "metadata": {},
     "output_type": "display_data"
    },
    {
     "data": {
      "application/vnd.jupyter.widget-view+json": {
       "model_id": "9a9874b62f184c099191bc7baaafec40",
       "version_major": 2,
       "version_minor": 0
      },
      "text/plain": [
       "Gammas:   0%|          | 0/51 [00:00<?, ?it/s]"
      ]
     },
     "metadata": {},
     "output_type": "display_data"
    },
    {
     "data": {
      "application/vnd.jupyter.widget-view+json": {
       "model_id": "2ee2dfb5189b42919da572f8365f570f",
       "version_major": 2,
       "version_minor": 0
      },
      "text/plain": [
       "Gammas:   0%|          | 0/51 [00:00<?, ?it/s]"
      ]
     },
     "metadata": {},
     "output_type": "display_data"
    },
    {
     "data": {
      "application/vnd.jupyter.widget-view+json": {
       "model_id": "0165ca7a672f4ca2b31180af16f302e6",
       "version_major": 2,
       "version_minor": 0
      },
      "text/plain": [
       "Gammas:   0%|          | 0/51 [00:00<?, ?it/s]"
      ]
     },
     "metadata": {},
     "output_type": "display_data"
    },
    {
     "data": {
      "application/vnd.jupyter.widget-view+json": {
       "model_id": "ab6572e0143c4857974a5b2d81ea58c6",
       "version_major": 2,
       "version_minor": 0
      },
      "text/plain": [
       "Gammas:   0%|          | 0/51 [00:00<?, ?it/s]"
      ]
     },
     "metadata": {},
     "output_type": "display_data"
    },
    {
     "data": {
      "application/vnd.jupyter.widget-view+json": {
       "model_id": "ad3a698fa3184366ac1f08070e1e38c4",
       "version_major": 2,
       "version_minor": 0
      },
      "text/plain": [
       "Gammas:   0%|          | 0/51 [00:00<?, ?it/s]"
      ]
     },
     "metadata": {},
     "output_type": "display_data"
    },
    {
     "data": {
      "application/vnd.jupyter.widget-view+json": {
       "model_id": "be04abaa9ad340e79614bd04d31e7c0e",
       "version_major": 2,
       "version_minor": 0
      },
      "text/plain": [
       "Gammas:   0%|          | 0/51 [00:00<?, ?it/s]"
      ]
     },
     "metadata": {},
     "output_type": "display_data"
    },
    {
     "name": "stdout",
     "output_type": "stream",
     "text": [
      "{'dataname': 'seeds', 'N_feature': 7, 'N_class': 3, 'N_train': 124, 'N_valid': 41, 'N_test': 43}\n"
     ]
    },
    {
     "data": {
      "application/vnd.jupyter.widget-view+json": {
       "model_id": "a1177426e6ad4d1e8370ea288ebababc",
       "version_major": 2,
       "version_minor": 0
      },
      "text/plain": [
       "Seeds:   0%|          | 0/10 [00:00<?, ?it/s]"
      ]
     },
     "metadata": {},
     "output_type": "display_data"
    },
    {
     "data": {
      "application/vnd.jupyter.widget-view+json": {
       "model_id": "4d051fc2b36c4cb6baf2c2be3e9eb7b1",
       "version_major": 2,
       "version_minor": 0
      },
      "text/plain": [
       "Gammas:   0%|          | 0/51 [00:00<?, ?it/s]"
      ]
     },
     "metadata": {},
     "output_type": "display_data"
    },
    {
     "data": {
      "application/vnd.jupyter.widget-view+json": {
       "model_id": "58e0431e35404b92ae98b545b6036c18",
       "version_major": 2,
       "version_minor": 0
      },
      "text/plain": [
       "Gammas:   0%|          | 0/51 [00:00<?, ?it/s]"
      ]
     },
     "metadata": {},
     "output_type": "display_data"
    },
    {
     "data": {
      "application/vnd.jupyter.widget-view+json": {
       "model_id": "30fd5719bb3e4daf93375863a8532450",
       "version_major": 2,
       "version_minor": 0
      },
      "text/plain": [
       "Gammas:   0%|          | 0/51 [00:00<?, ?it/s]"
      ]
     },
     "metadata": {},
     "output_type": "display_data"
    },
    {
     "data": {
      "application/vnd.jupyter.widget-view+json": {
       "model_id": "3e368490c68a42a788b4cb019dff1919",
       "version_major": 2,
       "version_minor": 0
      },
      "text/plain": [
       "Gammas:   0%|          | 0/51 [00:00<?, ?it/s]"
      ]
     },
     "metadata": {},
     "output_type": "display_data"
    },
    {
     "data": {
      "application/vnd.jupyter.widget-view+json": {
       "model_id": "e4fd4c0ac7014c2db57677180a8db3d4",
       "version_major": 2,
       "version_minor": 0
      },
      "text/plain": [
       "Gammas:   0%|          | 0/51 [00:00<?, ?it/s]"
      ]
     },
     "metadata": {},
     "output_type": "display_data"
    },
    {
     "data": {
      "application/vnd.jupyter.widget-view+json": {
       "model_id": "fc09a62a88324a728356df0dfb4a22cb",
       "version_major": 2,
       "version_minor": 0
      },
      "text/plain": [
       "Gammas:   0%|          | 0/51 [00:00<?, ?it/s]"
      ]
     },
     "metadata": {},
     "output_type": "display_data"
    },
    {
     "data": {
      "application/vnd.jupyter.widget-view+json": {
       "model_id": "73b87207405d42a4879812b08e997585",
       "version_major": 2,
       "version_minor": 0
      },
      "text/plain": [
       "Gammas:   0%|          | 0/51 [00:00<?, ?it/s]"
      ]
     },
     "metadata": {},
     "output_type": "display_data"
    },
    {
     "data": {
      "application/vnd.jupyter.widget-view+json": {
       "model_id": "36f8c23870b44956b752f98280c4038d",
       "version_major": 2,
       "version_minor": 0
      },
      "text/plain": [
       "Gammas:   0%|          | 0/51 [00:00<?, ?it/s]"
      ]
     },
     "metadata": {},
     "output_type": "display_data"
    },
    {
     "data": {
      "application/vnd.jupyter.widget-view+json": {
       "model_id": "074d559791bf45898291457c65b92ac7",
       "version_major": 2,
       "version_minor": 0
      },
      "text/plain": [
       "Gammas:   0%|          | 0/51 [00:00<?, ?it/s]"
      ]
     },
     "metadata": {},
     "output_type": "display_data"
    },
    {
     "data": {
      "application/vnd.jupyter.widget-view+json": {
       "model_id": "c3422eda83844588854135d81cad6f2a",
       "version_major": 2,
       "version_minor": 0
      },
      "text/plain": [
       "Gammas:   0%|          | 0/51 [00:00<?, ?it/s]"
      ]
     },
     "metadata": {},
     "output_type": "display_data"
    },
    {
     "name": "stdout",
     "output_type": "stream",
     "text": [
      "{'dataname': 'tictactoe', 'N_feature': 9, 'N_class': 2, 'N_train': 573, 'N_valid': 191, 'N_test': 192}\n"
     ]
    },
    {
     "data": {
      "application/vnd.jupyter.widget-view+json": {
       "model_id": "c7d474d4304c42e0a29c97578b2ac505",
       "version_major": 2,
       "version_minor": 0
      },
      "text/plain": [
       "Seeds:   0%|          | 0/10 [00:00<?, ?it/s]"
      ]
     },
     "metadata": {},
     "output_type": "display_data"
    },
    {
     "data": {
      "application/vnd.jupyter.widget-view+json": {
       "model_id": "de7e1103c2cd4e2abfd3f9f9f07e7ec0",
       "version_major": 2,
       "version_minor": 0
      },
      "text/plain": [
       "Gammas:   0%|          | 0/51 [00:00<?, ?it/s]"
      ]
     },
     "metadata": {},
     "output_type": "display_data"
    },
    {
     "data": {
      "application/vnd.jupyter.widget-view+json": {
       "model_id": "dd36a0bcc8014351b82a1cacdfe1da35",
       "version_major": 2,
       "version_minor": 0
      },
      "text/plain": [
       "Gammas:   0%|          | 0/51 [00:00<?, ?it/s]"
      ]
     },
     "metadata": {},
     "output_type": "display_data"
    },
    {
     "data": {
      "application/vnd.jupyter.widget-view+json": {
       "model_id": "ecce12f12d914e638118c5d0ead7e3d9",
       "version_major": 2,
       "version_minor": 0
      },
      "text/plain": [
       "Gammas:   0%|          | 0/51 [00:00<?, ?it/s]"
      ]
     },
     "metadata": {},
     "output_type": "display_data"
    },
    {
     "data": {
      "application/vnd.jupyter.widget-view+json": {
       "model_id": "17f63b021ea24b90bba0af33cb9354d5",
       "version_major": 2,
       "version_minor": 0
      },
      "text/plain": [
       "Gammas:   0%|          | 0/51 [00:00<?, ?it/s]"
      ]
     },
     "metadata": {},
     "output_type": "display_data"
    },
    {
     "data": {
      "application/vnd.jupyter.widget-view+json": {
       "model_id": "8af06cfc84174b6cb4dc3ab9fd50e5cb",
       "version_major": 2,
       "version_minor": 0
      },
      "text/plain": [
       "Gammas:   0%|          | 0/51 [00:00<?, ?it/s]"
      ]
     },
     "metadata": {},
     "output_type": "display_data"
    },
    {
     "data": {
      "application/vnd.jupyter.widget-view+json": {
       "model_id": "661b86372ec846b6801d1eee3c70e692",
       "version_major": 2,
       "version_minor": 0
      },
      "text/plain": [
       "Gammas:   0%|          | 0/51 [00:00<?, ?it/s]"
      ]
     },
     "metadata": {},
     "output_type": "display_data"
    },
    {
     "data": {
      "application/vnd.jupyter.widget-view+json": {
       "model_id": "12079154021b405fa983d72cf8e9ed89",
       "version_major": 2,
       "version_minor": 0
      },
      "text/plain": [
       "Gammas:   0%|          | 0/51 [00:00<?, ?it/s]"
      ]
     },
     "metadata": {},
     "output_type": "display_data"
    },
    {
     "data": {
      "application/vnd.jupyter.widget-view+json": {
       "model_id": "8486411f602b44719f1b711b81ef26c4",
       "version_major": 2,
       "version_minor": 0
      },
      "text/plain": [
       "Gammas:   0%|          | 0/51 [00:00<?, ?it/s]"
      ]
     },
     "metadata": {},
     "output_type": "display_data"
    },
    {
     "data": {
      "application/vnd.jupyter.widget-view+json": {
       "model_id": "9fb608fc226f49c9b5a566eb19763d4d",
       "version_major": 2,
       "version_minor": 0
      },
      "text/plain": [
       "Gammas:   0%|          | 0/51 [00:00<?, ?it/s]"
      ]
     },
     "metadata": {},
     "output_type": "display_data"
    },
    {
     "data": {
      "application/vnd.jupyter.widget-view+json": {
       "model_id": "d50968334eed4ec984e767014b63bbe3",
       "version_major": 2,
       "version_minor": 0
      },
      "text/plain": [
       "Gammas:   0%|          | 0/51 [00:00<?, ?it/s]"
      ]
     },
     "metadata": {},
     "output_type": "display_data"
    },
    {
     "name": "stdout",
     "output_type": "stream",
     "text": [
      "{'dataname': 'vertebralcolumn2clases', 'N_feature': 6, 'N_class': 2, 'N_train': 184, 'N_valid': 61, 'N_test': 63}\n"
     ]
    },
    {
     "data": {
      "application/vnd.jupyter.widget-view+json": {
       "model_id": "c6f5c657e2594fd08c5d1950ce9fa7fe",
       "version_major": 2,
       "version_minor": 0
      },
      "text/plain": [
       "Seeds:   0%|          | 0/10 [00:00<?, ?it/s]"
      ]
     },
     "metadata": {},
     "output_type": "display_data"
    },
    {
     "data": {
      "application/vnd.jupyter.widget-view+json": {
       "model_id": "3f91bade4fce4bc2884bbfa8257613c1",
       "version_major": 2,
       "version_minor": 0
      },
      "text/plain": [
       "Gammas:   0%|          | 0/51 [00:00<?, ?it/s]"
      ]
     },
     "metadata": {},
     "output_type": "display_data"
    },
    {
     "data": {
      "application/vnd.jupyter.widget-view+json": {
       "model_id": "c320d63b91674954ac44c92aa2fdc75d",
       "version_major": 2,
       "version_minor": 0
      },
      "text/plain": [
       "Gammas:   0%|          | 0/51 [00:00<?, ?it/s]"
      ]
     },
     "metadata": {},
     "output_type": "display_data"
    },
    {
     "data": {
      "application/vnd.jupyter.widget-view+json": {
       "model_id": "eb0429a2fb4546b4ab60b5499fe962b7",
       "version_major": 2,
       "version_minor": 0
      },
      "text/plain": [
       "Gammas:   0%|          | 0/51 [00:00<?, ?it/s]"
      ]
     },
     "metadata": {},
     "output_type": "display_data"
    },
    {
     "data": {
      "application/vnd.jupyter.widget-view+json": {
       "model_id": "62eb79e506ef42f49cd335c51637ca43",
       "version_major": 2,
       "version_minor": 0
      },
      "text/plain": [
       "Gammas:   0%|          | 0/51 [00:00<?, ?it/s]"
      ]
     },
     "metadata": {},
     "output_type": "display_data"
    },
    {
     "data": {
      "application/vnd.jupyter.widget-view+json": {
       "model_id": "8039c4283975446faa2f15e4641151c6",
       "version_major": 2,
       "version_minor": 0
      },
      "text/plain": [
       "Gammas:   0%|          | 0/51 [00:00<?, ?it/s]"
      ]
     },
     "metadata": {},
     "output_type": "display_data"
    },
    {
     "data": {
      "application/vnd.jupyter.widget-view+json": {
       "model_id": "1e86552d72bb4788a43c13439cbd41b6",
       "version_major": 2,
       "version_minor": 0
      },
      "text/plain": [
       "Gammas:   0%|          | 0/51 [00:00<?, ?it/s]"
      ]
     },
     "metadata": {},
     "output_type": "display_data"
    },
    {
     "data": {
      "application/vnd.jupyter.widget-view+json": {
       "model_id": "679f3f7de17d489e9c1bee2060480522",
       "version_major": 2,
       "version_minor": 0
      },
      "text/plain": [
       "Gammas:   0%|          | 0/51 [00:00<?, ?it/s]"
      ]
     },
     "metadata": {},
     "output_type": "display_data"
    },
    {
     "data": {
      "application/vnd.jupyter.widget-view+json": {
       "model_id": "3b61133e20554dcead3bf4d40485f47b",
       "version_major": 2,
       "version_minor": 0
      },
      "text/plain": [
       "Gammas:   0%|          | 0/51 [00:00<?, ?it/s]"
      ]
     },
     "metadata": {},
     "output_type": "display_data"
    },
    {
     "data": {
      "application/vnd.jupyter.widget-view+json": {
       "model_id": "6fc61ef676ba47dea358e0ae8ed1e232",
       "version_major": 2,
       "version_minor": 0
      },
      "text/plain": [
       "Gammas:   0%|          | 0/51 [00:00<?, ?it/s]"
      ]
     },
     "metadata": {},
     "output_type": "display_data"
    },
    {
     "data": {
      "application/vnd.jupyter.widget-view+json": {
       "model_id": "378f875cdc0d40ecb94b3926804dd33d",
       "version_major": 2,
       "version_minor": 0
      },
      "text/plain": [
       "Gammas:   0%|          | 0/51 [00:00<?, ?it/s]"
      ]
     },
     "metadata": {},
     "output_type": "display_data"
    },
    {
     "name": "stdout",
     "output_type": "stream",
     "text": [
      "{'dataname': 'vertebralcolumn3clases', 'N_feature': 6, 'N_class': 3, 'N_train': 184, 'N_valid': 61, 'N_test': 63}\n"
     ]
    },
    {
     "data": {
      "application/vnd.jupyter.widget-view+json": {
       "model_id": "a1a59aa5eeac4281b126368a68207405",
       "version_major": 2,
       "version_minor": 0
      },
      "text/plain": [
       "Seeds:   0%|          | 0/10 [00:00<?, ?it/s]"
      ]
     },
     "metadata": {},
     "output_type": "display_data"
    },
    {
     "data": {
      "application/vnd.jupyter.widget-view+json": {
       "model_id": "e8cc155df4c74b94959760cc854375cd",
       "version_major": 2,
       "version_minor": 0
      },
      "text/plain": [
       "Gammas:   0%|          | 0/51 [00:00<?, ?it/s]"
      ]
     },
     "metadata": {},
     "output_type": "display_data"
    },
    {
     "data": {
      "application/vnd.jupyter.widget-view+json": {
       "model_id": "aa8683d8129b4605b25ac740b58b4cc4",
       "version_major": 2,
       "version_minor": 0
      },
      "text/plain": [
       "Gammas:   0%|          | 0/51 [00:00<?, ?it/s]"
      ]
     },
     "metadata": {},
     "output_type": "display_data"
    },
    {
     "data": {
      "application/vnd.jupyter.widget-view+json": {
       "model_id": "d12210bcb7f44869b7134a38e38162a9",
       "version_major": 2,
       "version_minor": 0
      },
      "text/plain": [
       "Gammas:   0%|          | 0/51 [00:00<?, ?it/s]"
      ]
     },
     "metadata": {},
     "output_type": "display_data"
    },
    {
     "data": {
      "application/vnd.jupyter.widget-view+json": {
       "model_id": "fe24195cd9934a8dbf681b470d0a26b4",
       "version_major": 2,
       "version_minor": 0
      },
      "text/plain": [
       "Gammas:   0%|          | 0/51 [00:00<?, ?it/s]"
      ]
     },
     "metadata": {},
     "output_type": "display_data"
    },
    {
     "data": {
      "application/vnd.jupyter.widget-view+json": {
       "model_id": "bab0fedfb60149fcae2b628f78e7397e",
       "version_major": 2,
       "version_minor": 0
      },
      "text/plain": [
       "Gammas:   0%|          | 0/51 [00:00<?, ?it/s]"
      ]
     },
     "metadata": {},
     "output_type": "display_data"
    },
    {
     "data": {
      "application/vnd.jupyter.widget-view+json": {
       "model_id": "e008bffd9a11408180481a4a64a2325b",
       "version_major": 2,
       "version_minor": 0
      },
      "text/plain": [
       "Gammas:   0%|          | 0/51 [00:00<?, ?it/s]"
      ]
     },
     "metadata": {},
     "output_type": "display_data"
    },
    {
     "data": {
      "application/vnd.jupyter.widget-view+json": {
       "model_id": "429159f5e6bd49f0beb7dc1f57018566",
       "version_major": 2,
       "version_minor": 0
      },
      "text/plain": [
       "Gammas:   0%|          | 0/51 [00:00<?, ?it/s]"
      ]
     },
     "metadata": {},
     "output_type": "display_data"
    },
    {
     "data": {
      "application/vnd.jupyter.widget-view+json": {
       "model_id": "fd153602908f4e739a6892cf6451fd06",
       "version_major": 2,
       "version_minor": 0
      },
      "text/plain": [
       "Gammas:   0%|          | 0/51 [00:00<?, ?it/s]"
      ]
     },
     "metadata": {},
     "output_type": "display_data"
    },
    {
     "data": {
      "application/vnd.jupyter.widget-view+json": {
       "model_id": "58c3e092754748118f113a597378752e",
       "version_major": 2,
       "version_minor": 0
      },
      "text/plain": [
       "Gammas:   0%|          | 0/51 [00:00<?, ?it/s]"
      ]
     },
     "metadata": {},
     "output_type": "display_data"
    },
    {
     "data": {
      "application/vnd.jupyter.widget-view+json": {
       "model_id": "60860c4f26744e8c8f60885c98ee6966",
       "version_major": 2,
       "version_minor": 0
      },
      "text/plain": [
       "Gammas:   0%|          | 0/51 [00:00<?, ?it/s]"
      ]
     },
     "metadata": {},
     "output_type": "display_data"
    }
   ],
   "source": [
    "from tqdm.notebook import tqdm\n",
    "\n",
    "# results = torch.zeros([num_dataset, num_seeds, 51, 8])\n",
    "gammas = torch.linspace(0, 1, 51)\n",
    "\n",
    "# evaluator = Evaluator(args).to(args.DEVICE)\n",
    "\n",
    "for ds in tqdm(range(num_dataset), desc=\"Datasets\"):\n",
    "    args.DATASET = ds\n",
    "    # valid_loader, datainfo = GetDataLoader(args, 'valid', path='../dataset/')\n",
    "    test_loader, datainfo = GetDataLoader(args, 'test', path='../dataset/')\n",
    "    print(datainfo)\n",
    "\n",
    "    for seed in tqdm(range(num_seeds), desc=\"Seeds\", leave=False):\n",
    "\n",
    "        args.SEED = seed\n",
    "            \n",
    "        for g, gamma in enumerate(tqdm(gammas, desc=\"Gammas\", leave=False)):\n",
    "            # rounded_num = np.round(gamma, 3)\n",
    "                \n",
    "            # # Convert to string and remove trailing zeros\n",
    "            # formatted_num = ('{:.3f}'.format(rounded_num)).rstrip('0')\n",
    "            # if formatted_num[-1] == '.':\n",
    "            #     formatted_num += '0'\n",
    "            \n",
    "            # # Special case for 0 and 1 to ensure they have one decimal place\n",
    "            # if rounded_num == 0 or rounded_num == 1:\n",
    "            #     formatted_num = '{:.1f}'.format(rounded_num)\n",
    "            # args.powerbalance = formatted_num\n",
    "            args.powerbalance = int(np.round(gamma, 3)*1e2)\n",
    "            if args.powerbalance == 58:\n",
    "                args.powerbalance = 57\n",
    "            \n",
    "            # for x, y in valid_loader:\n",
    "            #     X_valid, y_valid = x.to(args.DEVICE), y.to(args.DEVICE)\n",
    "            # for x, y in test_loader:\n",
    "            #     X_test, y_test = x.to(args.DEVICE), y.to(args.DEVICE)\n",
    "\n",
    "            setup = f\"data_{datainfo['dataname']}_seed_{args.SEED}_Penalty_{args.powerestimator}_Factor_{args.powerbalance}\"\n",
    "\n",
    "            model_PT_name = f'./models/pNN_{setup}.model'\n",
    "            model_FT_name = f'./models/pNN_{setup}_FT.model'\n",
    "            \n",
    "            try:\n",
    "                model_PT = torch.load(model_PT_name)\n",
    "            except Exception as e:\n",
    "                print(f\"Error loading model_PT: {model_PT_name}\")\n",
    "                print(e)\n",
    "                continue\n",
    "            \n",
    "            try:\n",
    "                model_FT = torch.load(model_FT_name)\n",
    "            except Exception as e:\n",
    "                print(f\"Error loading model_FT: {model_FT_name}\")\n",
    "                print(e)\n",
    "                continue\n",
    "            \n",
    "            # acc_valid_pt, power_valid_pt = evaluator(model_PT, X_valid, y_valid)\n",
    "            # acc_test_pt, power_test_pt = evaluator(model_PT, X_test, y_test)\n",
    "\n",
    "            # acc_valid_ft, power_valid_ft = evaluator(model_FT, X_valid, y_valid)\n",
    "            # acc_test_ft, power_test_ft = evaluator(model_FT, X_test, y_test)\n",
    "            \n",
    "            # results[ds, seed, g, 0] = acc_valid_pt\n",
    "            # results[ds, seed, g, 1] = power_valid_pt.cpu().item() * 1000000\n",
    "            # results[ds, seed, g, 2] = acc_test_pt\n",
    "            # results[ds, seed, g, 3] = power_test_pt.cpu().item() * 1000000\n",
    "\n",
    "            # results[ds, seed, g, 4] = acc_valid_ft\n",
    "            # results[ds, seed, g, 5] = power_valid_ft.cpu().item() * 1000000\n",
    "            # results[ds, seed, g, 6] = acc_test_ft\n",
    "            # results[ds, seed, g, 7] = power_test_ft.cpu().item() * 1000000\n"
   ]
  },
  {
   "cell_type": "code",
   "execution_count": 1,
   "id": "ceca417c-f036-45cc-a39d-87eda14701c4",
   "metadata": {},
   "outputs": [
    {
     "ename": "NameError",
     "evalue": "name 'torch' is not defined",
     "output_type": "error",
     "traceback": [
      "\u001b[0;31m---------------------------------------------------------------------------\u001b[0m",
      "\u001b[0;31mNameError\u001b[0m                                 Traceback (most recent call last)",
      "Cell \u001b[0;32mIn[1], line 1\u001b[0m\n\u001b[0;32m----> 1\u001b[0m \u001b[43mtorch\u001b[49m\u001b[38;5;241m.\u001b[39msave(results, \u001b[38;5;124m'\u001b[39m\u001b[38;5;124m./result.matrix\u001b[39m\u001b[38;5;124m'\u001b[39m)\n\u001b[1;32m      2\u001b[0m torch\u001b[38;5;241m.\u001b[39msave(results, \u001b[38;5;124m'\u001b[39m\u001b[38;5;124m../RESULT/result.matrix\u001b[39m\u001b[38;5;124m'\u001b[39m)\n",
      "\u001b[0;31mNameError\u001b[0m: name 'torch' is not defined"
     ]
    }
   ],
   "source": [
    "torch.save(results, './result.matrix')\n",
    "torch.save(results, '../RESULT/result.matrix')"
   ]
  },
  {
   "cell_type": "code",
   "execution_count": 52,
   "id": "1b22fe73-bcb4-4cad-a4a3-36061fc2f168",
   "metadata": {},
   "outputs": [],
   "source": [
    "import torch"
   ]
  },
  {
   "cell_type": "code",
   "execution_count": 53,
   "id": "9100dbef-5c09-4a23-96d6-bfea72a8a83f",
   "metadata": {},
   "outputs": [],
   "source": [
    "results = torch.load('./result.matrix')"
   ]
  },
  {
   "cell_type": "code",
   "execution_count": 54,
   "id": "163603bc-306c-4935-99d0-8b54bf7d208f",
   "metadata": {},
   "outputs": [
    {
     "data": {
      "text/plain": [
       "torch.Size([2, 2, 51])"
      ]
     },
     "execution_count": 54,
     "metadata": {},
     "output_type": "execute_result"
    }
   ],
   "source": [
    "power = results[:,:,:,5]\n",
    "power.shape"
   ]
  },
  {
   "cell_type": "code",
   "execution_count": 55,
   "id": "57cf4a44-a4b1-48ef-927c-c965ee4823dc",
   "metadata": {},
   "outputs": [],
   "source": [
    "import matplotlib.pyplot as  plt"
   ]
  },
  {
   "cell_type": "code",
   "execution_count": 56,
   "id": "4398cff8-09ec-401f-98a6-37d3cafad3cf",
   "metadata": {},
   "outputs": [],
   "source": [
    "gammas = torch.linspace(0,1,51)"
   ]
  },
  {
   "cell_type": "code",
   "execution_count": 58,
   "id": "53d34276-00d4-46e2-9d03-d04c76899b76",
   "metadata": {},
   "outputs": [
    {
     "data": {
      "text/plain": [
       "tensor([1.5070e-03, 6.6821e-04, 6.6859e-04, 6.1230e-04, 7.6404e-04, 5.1233e-04,\n",
       "        4.9599e-04, 4.9051e-04, 7.6393e-04, 6.9126e-04, 4.9383e-04, 6.6875e-04,\n",
       "        6.6866e-04, 3.9993e-04, 3.8267e-04, 4.0526e-04, 7.6328e-04, 5.7271e-04,\n",
       "        3.9241e-04, 6.6909e-04, 3.9217e-04, 4.8587e-04, 3.8286e-04, 3.9038e-04,\n",
       "        6.6842e-04, 5.7311e-04, 6.6868e-04, 4.7713e-04, 3.9302e-04, 0.0000e+00,\n",
       "        5.8119e-04, 3.8609e-04, 3.8655e-04, 2.8654e-04, 2.8724e-04, 2.9854e-04,\n",
       "        2.9245e-04, 5.7246e-04, 1.9646e-04, 3.8633e-04, 3.8586e-04, 4.8103e-04,\n",
       "        2.8863e-04, 4.8150e-04, 1.9385e-04, 3.2373e-06, 2.8706e-04, 9.7687e-05,\n",
       "        1.9332e-04, 8.3432e-07, 9.1853e-07])"
      ]
     },
     "execution_count": 58,
     "metadata": {},
     "output_type": "execute_result"
    }
   ],
   "source": [
    "power[0,0,:] / 1e6"
   ]
  },
  {
   "cell_type": "code",
   "execution_count": 59,
   "id": "a1b25db8-3e9c-4b42-918b-2e6ac56aebb1",
   "metadata": {},
   "outputs": [
    {
     "data": {
      "image/png": "[encoded data removed]",
      "text/plain": [
       "<Figure size 640x480 with 1 Axes>"
      ]
     },
     "metadata": {},
     "output_type": "display_data"
    },
    {
     "data": {
      "image/png": "[encoded data removed]",
      "text/plain": [
       "<Figure size 640x480 with 1 Axes>"
      ]
     },
     "metadata": {},
     "output_type": "display_data"
    }
   ],
   "source": [
    "for i in range(num_dataset):\n",
    "    plt.figure()\n",
    "    for seed in range(num_seeds):\n",
    "        plt.plot(gammas, power[i,seed,:], label=f'{seed}')\n",
    "        plt.title(f'{i}')\n",
    "        plt.legend()"
   ]
  },
  {
   "cell_type": "code",
   "execution_count": 60,
   "id": "9c9ca7a4-1fc6-45fe-b36a-93261e5ea114",
   "metadata": {},
   "outputs": [],
   "source": [
    "min_power = [0.] * 13\n",
    "max_power = [1000., 1200., 2000., 2500., 1500., 1500., 1000., 1500., 3000., 1400., 1700., 1400., 1200.]"
   ]
  },
  {
   "cell_type": "code",
   "execution_count": 61,
   "id": "09543c06-23c4-4218-8216-bcbe04578203",
   "metadata": {},
   "outputs": [],
   "source": [
    "power = torch.stack([torch.tensor(min_power), torch.tensor(max_power)])"
   ]
  },
  {
   "cell_type": "code",
   "execution_count": 62,
   "id": "1dcd05af-8115-4ebd-94e4-f80027d74c74",
   "metadata": {},
   "outputs": [
    {
     "data": {
      "text/plain": [
       "torch.Size([2, 13])"
      ]
     },
     "execution_count": 62,
     "metadata": {},
     "output_type": "execute_result"
    }
   ],
   "source": [
    "power.shape"
   ]
  },
  {
   "cell_type": "code",
   "execution_count": 63,
   "id": "5224357e-7ce8-4d44-ab81-f7f50f84e052",
   "metadata": {},
   "outputs": [
    {
     "data": {
      "text/plain": [
       "tensor([200., 240., 400., 500., 300., 300., 200., 300., 600., 280., 340., 280.,\n",
       "        240.])"
      ]
     },
     "execution_count": 63,
     "metadata": {},
     "output_type": "execute_result"
    }
   ],
   "source": [
    "delta = (power[1] - power[0]) / 5\n",
    "delta"
   ]
  },
  {
   "cell_type": "code",
   "execution_count": 64,
   "id": "0a197cbf-42b8-48f1-a11e-889b55963068",
   "metadata": {},
   "outputs": [
    {
     "data": {
      "text/plain": [
       "tensor([[ 200.,  240.,  400.,  500.,  300.,  300.,  200.,  300.,  600.,  280.,\n",
       "          340.,  280.,  240.],\n",
       "        [ 400.,  480.,  800., 1000.,  600.,  600.,  400.,  600., 1200.,  560.,\n",
       "          680.,  560.,  480.],\n",
       "        [ 600.,  720., 1200., 1500.,  900.,  900.,  600.,  900., 1800.,  840.,\n",
       "         1020.,  840.,  720.],\n",
       "        [ 800.,  960., 1600., 2000., 1200., 1200.,  800., 1200., 2400., 1120.,\n",
       "         1360., 1120.,  960.]])"
      ]
     },
     "execution_count": 64,
     "metadata": {},
     "output_type": "execute_result"
    }
   ],
   "source": [
    "target = torch.stack([delta * i for i in range(1,5)])\n",
    "target"
   ]
  },
  {
   "cell_type": "code",
   "execution_count": 65,
   "id": "82b209ae-7eec-4028-aa1e-682731f60c50",
   "metadata": {},
   "outputs": [
    {
     "data": {
      "text/plain": [
       "torch.Size([4, 13])"
      ]
     },
     "execution_count": 65,
     "metadata": {},
     "output_type": "execute_result"
    }
   ],
   "source": [
    "target.shape"
   ]
  }
 ],
 "metadata": {
  "kernelspec": {
   "display_name": "train-model",
   "language": "python",
   "name": "python3"
  },
  "language_info": {
   "codemirror_mode": {
    "name": "ipython",
    "version": 3
   },
   "file_extension": ".py",
   "mimetype": "text/x-python",
   "name": "python",
   "nbconvert_exporter": "python",
   "pygments_lexer": "ipython3",
   "version": "3.12.2"
  }
 },
 "nbformat": 4,
 "nbformat_minor": 5
}
