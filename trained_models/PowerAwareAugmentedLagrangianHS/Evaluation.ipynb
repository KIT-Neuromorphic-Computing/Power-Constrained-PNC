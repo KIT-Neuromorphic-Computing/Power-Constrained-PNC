{
 "cells": [
  {
   "cell_type": "markdown",
   "id": "5129c176",
   "metadata": {},
   "source": [
    "## Import Libraries"
   ]
  },
  {
   "cell_type": "code",
   "execution_count": 10,
   "id": "1ec2c855-90e5-473b-85d4-0938c0fa99b4",
   "metadata": {},
   "outputs": [],
   "source": [
    "import os\n",
    "import sys\n",
    "from pathlib import Path\n",
    "sys.path.append(os.getcwd())\n",
    "sys.path.append(str(Path(os.getcwd()).parent))\n",
    "sys.path.append(os.path.join(os.getcwd(), 'utils'))\n",
    "import matplotlib.pyplot as plt\n",
    "from configuration import *\n",
    "import torch\n",
    "import numpy as np\n",
    "import pprint\n",
    "import pNN_Power_Aware as pNN\n",
    "from utils import *\n",
    "\n",
    "args = parser.parse_args([])\n",
    "args = FormulateArgs(args)\n",
    "\n",
    "args.powerestimator = 'AL'"
   ]
  },
  {
   "cell_type": "markdown",
   "id": "b76f4282",
   "metadata": {},
   "source": [
    "## Constant values"
   ]
  },
  {
   "cell_type": "code",
   "execution_count": 7,
   "id": "264aa840-df61-4c50-93a3-5c5cdcbe53d4",
   "metadata": {},
   "outputs": [
    {
     "data": {
      "text/plain": [
       "(4, 13)"
      ]
     },
     "execution_count": 7,
     "metadata": {},
     "output_type": "execute_result"
    }
   ],
   "source": [
    "target = [[ 200.,  240.,  400.,  500.,  300.,  300.,  200.,  300.,  600.,  280.,  340.,  280.,  240.],\n",
    "          [ 400.,  480.,  800., 1000.,  600.,  600.,  400.,  600., 1200.,  560.,  680.,  560.,  480.],\n",
    "          [ 600.,  720., 1200., 1500.,  900.,  900.,  600.,  900., 1800.,  840., 1020.,  840.,  720.],\n",
    "          [ 800.,  960., 1600., 2000., 1200., 1200.,  800., 1200., 2400., 1120., 1360., 1120.,  960.]]\n",
    "\n",
    "target = np.array(target)\n",
    "target.shape"
   ]
  },
  {
   "cell_type": "markdown",
   "id": "afa5e30c",
   "metadata": {},
   "source": [
    "## Check the model existence"
   ]
  },
  {
   "cell_type": "code",
   "execution_count": null,
   "id": "5c705551",
   "metadata": {},
   "outputs": [],
   "source": [
    "from tqdm.notebook import tqdm\n",
    "\n",
    "\n",
    "for ds in tqdm(range(13), desc=\"Datasets\"):\n",
    "    args.DATASET = ds\n",
    "    valid_loader, datainfo = GetDataLoader(args, 'valid', path='../dataset/')\n",
    "    test_loader, datainfo = GetDataLoader(args, 'test', path='../dataset/')\n",
    "    print(datainfo)\n",
    "\n",
    "    for p, power in enumerate(tqdm(target[:,ds], desc=\"Power\", leave=False)):\n",
    "        \n",
    "        args.powerbalance = power\n",
    "        \n",
    "        for seed in tqdm(range(10), desc=\"Seeds\", leave=False):\n",
    "\n",
    "            args.SEED = seed\n",
    "\n",
    "            setup = f\"data_{datainfo['dataname']}_seed_{args.SEED}_Penalty_{args.powerestimator}_Factor_{int(args.powerbalance):04d}\"\n",
    "\n",
    "            model_PT_name = f'./models/pNN_{setup}.model'\n",
    "            model_FT_name = f'./models/pNN_{setup}_FT.model'\n",
    "            \n",
    "            try:\n",
    "                model_PT = torch.load(model_PT_name)\n",
    "            except Exception as e:\n",
    "                print(f\"Error loading model_PT: {model_PT_name}\")\n",
    "                print(e)\n",
    "                continue\n",
    "            \n",
    "            try:\n",
    "                model_FT = torch.load(model_FT_name)\n",
    "            except Exception as e:\n",
    "                print(f\"Error loading model_FT: {model_FT_name}\")\n",
    "                print(e)\n",
    "                continue\n"
   ]
  },
  {
   "cell_type": "markdown",
   "id": "cb25c676",
   "metadata": {},
   "source": [
    "## Evalute model on val-test set"
   ]
  },
  {
   "cell_type": "code",
   "execution_count": null,
   "id": "387f6baa-abf8-4eab-ab41-a2fad060a1d5",
   "metadata": {},
   "outputs": [],
   "source": [
    "# from tqdm.notebook import tqdm\n",
    "\n",
    "# results = torch.zeros([10, 4, 13, 8])\n",
    "\n",
    "# evaluator = Evaluator(args).to(args.DEVICE)\n",
    "\n",
    "# for ds in tqdm(range(13), desc=\"Datasets\"):\n",
    "#     args.DATASET = ds\n",
    "#     valid_loader, datainfo = GetDataLoader(args, 'valid', path='../dataset/')\n",
    "#     test_loader, datainfo = GetDataLoader(args, 'test', path='../dataset/')\n",
    "#     print(datainfo)\n",
    "\n",
    "#     for p, power in enumerate(tqdm(target[:,ds], desc=\"Power\", leave=False)):\n",
    "        \n",
    "#         args.powerbalance = power\n",
    "        \n",
    "#         for seed in tqdm(range(10), desc=\"Seeds\", leave=False):\n",
    "\n",
    "#             args.SEED = seed\n",
    "            \n",
    "#             for x, y in valid_loader:\n",
    "#                 X_valid, y_valid = x.to(args.DEVICE), y.to(args.DEVICE)\n",
    "#             for x, y in test_loader:\n",
    "#                 X_test, y_test = x.to(args.DEVICE), y.to(args.DEVICE)\n",
    "\n",
    "#             setup = f\"data_{datainfo['dataname']}_seed_{args.SEED}_Penalty_{args.powerestimator}_Factor_{int(args.powerbalance):04d}\"\n",
    "\n",
    "#             model_PT_name = f'./models/pNN_{setup}.model'\n",
    "#             model_FT_name = f'./models/pNN_{setup}_FT.model'\n",
    "#             # model_FT_RESET_name = f'./models/pNN_{setup}_FT_reset.model'\n",
    "            \n",
    "#             try:\n",
    "#                 model_PT = torch.load(model_PT_name)\n",
    "#             except Exception as e:\n",
    "#                 print(f\"Error loading model_PT: {model_PT_name}\")\n",
    "#                 print(e)\n",
    "#                 continue\n",
    "            \n",
    "#             try:\n",
    "#                 model_FT = torch.load(model_FT_name)\n",
    "#             except Exception as e:\n",
    "#                 print(f\"Error loading model_FT: {model_FT_name}\")\n",
    "#                 print(e)\n",
    "#                 continue\n",
    "\n",
    "#             # try:\n",
    "#             #     model_FT_RESET = torch.load(model_FT_RESET_name)\n",
    "#             # except Exception as e:\n",
    "#             #     print(f\"Error loading model_FT: {model_FT_RESET_name}\")\n",
    "#             #     print(e)\n",
    "#             #     continue\n",
    "            \n",
    "#             acc_valid_pt, power_valid_pt = evaluator(model_PT, X_valid, y_valid)\n",
    "#             acc_test_pt, power_test_pt = evaluator(model_PT, X_test, y_test)\n",
    "\n",
    "#             acc_valid_ft, power_valid_ft = evaluator(model_FT, X_valid, y_valid)\n",
    "#             acc_test_ft, power_test_ft = evaluator(model_FT, X_test, y_test)\n",
    "\n",
    "#             # acc_valid_ft_reset, power_valid_ft_reset = evaluator(model_FT_RESET, X_valid, y_valid)\n",
    "#             # acc_test_ft_reset, power_test_ft_reset = evaluator(model_FT_RESET, X_test, y_test)\n",
    "            \n",
    "#             results[seed, p, ds, 0] = acc_valid_pt\n",
    "#             results[seed, p, ds, 1] = power_valid_pt.cpu().item() * 1000000\n",
    "#             results[seed, p, ds, 2] = acc_test_pt\n",
    "#             results[seed, p, ds, 3] = power_test_pt.cpu().item() * 1000000\n",
    "\n",
    "#             results[seed, p, ds, 4] = acc_valid_ft\n",
    "#             results[seed, p, ds, 5] = power_valid_ft.cpu().item() * 1000000\n",
    "#             results[seed, p, ds, 6] = acc_test_ft\n",
    "#             results[seed, p, ds, 7] = power_test_ft.cpu().item() * 1000000\n",
    "\n",
    "#             # results[seed, p, ds, 8] = acc_valid_ft_reset\n",
    "#             # results[seed, p, ds, 9] = power_valid_ft_reset.cpu().item() * 1000000\n",
    "#             # results[seed, p, ds, 10] = acc_test_ft_reset\n",
    "#             # results[seed, p, ds, 11] = power_test_ft_reset.cpu().item() * 1000000\n"
   ]
  },
  {
   "cell_type": "code",
   "execution_count": null,
   "id": "ceca417c-f036-45cc-a39d-87eda14701c4",
   "metadata": {},
   "outputs": [],
   "source": [
    "# torch.save(results, './result.matrix')\n",
    "# torch.save(results, '../RESULT/result_AL_hs.matrix')"
   ]
  },
  {
   "cell_type": "markdown",
   "id": "c54e1239",
   "metadata": {},
   "source": [
    "## Visualize data"
   ]
  },
  {
   "cell_type": "markdown",
   "id": "66ed11a7",
   "metadata": {},
   "source": [
    "### Load data"
   ]
  },
  {
   "cell_type": "code",
   "execution_count": 11,
   "id": "9100dbef-5c09-4a23-96d6-bfea72a8a83f",
   "metadata": {},
   "outputs": [
    {
     "data": {
      "text/plain": [
       "torch.Size([10, 4, 13, 8])"
      ]
     },
     "execution_count": 11,
     "metadata": {},
     "output_type": "execute_result"
    }
   ],
   "source": [
    "results = torch.load('./result.matrix')\n",
    "results.shape"
   ]
  },
  {
   "cell_type": "code",
   "execution_count": 12,
   "id": "da58f7e5-b522-4a0d-8a15-2f90803627c2",
   "metadata": {},
   "outputs": [],
   "source": [
    "sys.path.append('../utils/')\n",
    "import FigureConfig as FC"
   ]
  },
  {
   "cell_type": "code",
   "execution_count": 13,
   "id": "b8d4c259-3790-4389-81b8-9a72b313633a",
   "metadata": {},
   "outputs": [
    {
     "data": {
      "text/plain": [
       "torch.Size([10, 4, 8])"
      ]
     },
     "execution_count": 13,
     "metadata": {},
     "output_type": "execute_result"
    }
   ],
   "source": [
    "ds = 5\n",
    "result_temp = results[:,:,ds,:]\n",
    "result_temp.shape"
   ]
  },
  {
   "cell_type": "code",
   "execution_count": 20,
   "id": "82747ba7-9b2d-4b29-8d31-1fd25d9bbb1b",
   "metadata": {},
   "outputs": [
    {
     "data": {
      "image/png": "[encoded data removed]",
      "text/plain": [
       "<Figure size 640x480 with 1 Axes>"
      ]
     },
     "metadata": {},
     "output_type": "display_data"
    }
   ],
   "source": [
    "plt.figure()\n",
    "for i in range(4):\n",
    "    idx = torch.argmax(result_temp[:,i,2].flatten())\n",
    "    plt.scatter(result_temp[idx,i,3],result_temp[idx,i,2], color = 'blue', label = 'PT', marker = 'x')\n",
    "    plt.scatter(result_temp[idx,i,7],result_temp[idx,i,6], color = 'red', label = 'FT')\n",
    "    # plt.scatter(result_temp[idx,i,11],result_temp[idx,i,10], color = 'orange')"
   ]
  },
  {
   "cell_type": "code",
   "execution_count": 23,
   "id": "e49c590d",
   "metadata": {},
   "outputs": [
    {
     "data": {
      "text/plain": [
       "(tensor([0.7273, 0.9351, 0.8117, 0.7273, 0.7273, 0.9221, 0.5260, 0.7273, 0.7273,\n",
       "         0.7273]),\n",
       " tensor(1))"
      ]
     },
     "execution_count": 23,
     "metadata": {},
     "output_type": "execute_result"
    }
   ],
   "source": [
    "result_temp[:,1,2].flatten(), torch.argmax(result_temp[:,1,2].flatten())"
   ]
  }
 ],
 "metadata": {
  "kernelspec": {
   "display_name": "train-model",
   "language": "python",
   "name": "python3"
  },
  "language_info": {
   "codemirror_mode": {
    "name": "ipython",
    "version": 3
   },
   "file_extension": ".py",
   "mimetype": "text/x-python",
   "name": "python",
   "nbconvert_exporter": "python",
   "pygments_lexer": "ipython3",
   "version": "undefined.undefined.undefined"
  }
 },
 "nbformat": 4,
 "nbformat_minor": 5
}
