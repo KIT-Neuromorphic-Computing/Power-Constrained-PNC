{
 "cells": [
  {
   "cell_type": "code",
   "execution_count": 1,
   "id": "1ec2c855-90e5-473b-85d4-0938c0fa99b4",
   "metadata": {},
   "outputs": [],
   "source": [
    "import os\n",
    "import sys\n",
    "from pathlib import Path\n",
    "sys.path.append(os.getcwd())\n",
    "sys.path.append(str(Path(os.getcwd()).parent))\n",
    "sys.path.append(os.path.join(os.getcwd(), 'utils'))\n",
    "from configuration import *\n",
    "import torch\n",
    "import pprint\n",
    "import pNN_Power_Aware as pNN\n",
    "from utils import *\n",
    "\n",
    "args = parser.parse_args([])\n",
    "args = FormulateArgs(args)\n",
    "\n",
    "args.powerestimator = 'AL'"
   ]
  },
  {
   "cell_type": "code",
   "execution_count": 2,
   "id": "264aa840-df61-4c50-93a3-5c5cdcbe53d4",
   "metadata": {},
   "outputs": [
    {
     "data": {
      "text/plain": [
       "(4, 13)"
      ]
     },
     "execution_count": 2,
     "metadata": {},
     "output_type": "execute_result"
    }
   ],
   "source": [
    "import numpy as np\n",
    "\n",
    "target = [[ 200.,  240.,  400.,  500.,  300.,  300.,  200.,  300.,  600.,  280.,  340.,  280.,  240.],\n",
    "          [ 400.,  480.,  800., 1000.,  600.,  600.,  400.,  600., 1200.,  560.,  680.,  560.,  480.],\n",
    "          [ 600.,  720., 1200., 1500.,  900.,  900.,  600.,  900., 1800.,  840., 1020.,  840.,  720.],\n",
    "          [ 800.,  960., 1600., 2000., 1200., 1200.,  800., 1200., 2400., 1120., 1360., 1120.,  960.]]\n",
    "\n",
    "target = np.array(target)\n",
    "target.shape"
   ]
  },
  {
   "cell_type": "code",
   "execution_count": 3,
   "id": "7c41afd5",
   "metadata": {},
   "outputs": [
    {
     "data": {
      "application/vnd.jupyter.widget-view+json": {
       "model_id": "690511df7e4e4386be3d559481dca865",
       "version_major": 2,
       "version_minor": 0
      },
      "text/plain": [
       "Datasets:   0%|          | 0/13 [00:00<?, ?it/s]"
      ]
     },
     "metadata": {},
     "output_type": "display_data"
    },
    {
     "name": "stdout",
     "output_type": "stream",
     "text": [
      "{'dataname': 'acuteinflammation', 'N_feature': 6, 'N_class': 2, 'N_train': 70, 'N_valid': 23, 'N_test': 25}\n"
     ]
    },
    {
     "data": {
      "application/vnd.jupyter.widget-view+json": {
       "model_id": "80b83b7d4ae34ec9b9b98bba85939fe2",
       "version_major": 2,
       "version_minor": 0
      },
      "text/plain": [
       "Power:   0%|          | 0/4 [00:00<?, ?it/s]"
      ]
     },
     "metadata": {},
     "output_type": "display_data"
    },
    {
     "data": {
      "application/vnd.jupyter.widget-view+json": {
       "model_id": "3a56c730a5c544488c8616cef9d7a72f",
       "version_major": 2,
       "version_minor": 0
      },
      "text/plain": [
       "Seeds:   0%|          | 0/10 [00:00<?, ?it/s]"
      ]
     },
     "metadata": {},
     "output_type": "display_data"
    },
    {
     "data": {
      "application/vnd.jupyter.widget-view+json": {
       "model_id": "f4b5597c32c948439df8bd2118693b78",
       "version_major": 2,
       "version_minor": 0
      },
      "text/plain": [
       "Seeds:   0%|          | 0/10 [00:00<?, ?it/s]"
      ]
     },
     "metadata": {},
     "output_type": "display_data"
    },
    {
     "data": {
      "application/vnd.jupyter.widget-view+json": {
       "model_id": "ac505033d36045e98508b12b80c2b44b",
       "version_major": 2,
       "version_minor": 0
      },
      "text/plain": [
       "Seeds:   0%|          | 0/10 [00:00<?, ?it/s]"
      ]
     },
     "metadata": {},
     "output_type": "display_data"
    },
    {
     "data": {
      "application/vnd.jupyter.widget-view+json": {
       "model_id": "543699e2986e4c3483f04b840101afff",
       "version_major": 2,
       "version_minor": 0
      },
      "text/plain": [
       "Seeds:   0%|          | 0/10 [00:00<?, ?it/s]"
      ]
     },
     "metadata": {},
     "output_type": "display_data"
    },
    {
     "name": "stdout",
     "output_type": "stream",
     "text": [
      "{'dataname': 'balancescale', 'N_feature': 4, 'N_class': 3, 'N_train': 373, 'N_valid': 124, 'N_test': 126}\n"
     ]
    },
    {
     "data": {
      "application/vnd.jupyter.widget-view+json": {
       "model_id": "cf14c35257364e7491f7a29412fa4f65",
       "version_major": 2,
       "version_minor": 0
      },
      "text/plain": [
       "Power:   0%|          | 0/4 [00:00<?, ?it/s]"
      ]
     },
     "metadata": {},
     "output_type": "display_data"
    },
    {
     "data": {
      "application/vnd.jupyter.widget-view+json": {
       "model_id": "f3e3966d0fab4086a5c131d664554b89",
       "version_major": 2,
       "version_minor": 0
      },
      "text/plain": [
       "Seeds:   0%|          | 0/10 [00:00<?, ?it/s]"
      ]
     },
     "metadata": {},
     "output_type": "display_data"
    },
    {
     "data": {
      "application/vnd.jupyter.widget-view+json": {
       "model_id": "6cd5ae5474f7498d8ba8b56370da3516",
       "version_major": 2,
       "version_minor": 0
      },
      "text/plain": [
       "Seeds:   0%|          | 0/10 [00:00<?, ?it/s]"
      ]
     },
     "metadata": {},
     "output_type": "display_data"
    },
    {
     "data": {
      "application/vnd.jupyter.widget-view+json": {
       "model_id": "c9a234ccfb5940a1a0e177e66a6dbe11",
       "version_major": 2,
       "version_minor": 0
      },
      "text/plain": [
       "Seeds:   0%|          | 0/10 [00:00<?, ?it/s]"
      ]
     },
     "metadata": {},
     "output_type": "display_data"
    },
    {
     "data": {
      "application/vnd.jupyter.widget-view+json": {
       "model_id": "2ec8bcf2b05e4f549de1b52c25b986e5",
       "version_major": 2,
       "version_minor": 0
      },
      "text/plain": [
       "Seeds:   0%|          | 0/10 [00:00<?, ?it/s]"
      ]
     },
     "metadata": {},
     "output_type": "display_data"
    },
    {
     "name": "stdout",
     "output_type": "stream",
     "text": [
      "{'dataname': 'breastcancerwisc', 'N_feature': 9, 'N_class': 2, 'N_train': 418, 'N_valid': 139, 'N_test': 140}\n"
     ]
    },
    {
     "data": {
      "application/vnd.jupyter.widget-view+json": {
       "model_id": "0224b7d90f1b42ad9b34a9e65d35e90d",
       "version_major": 2,
       "version_minor": 0
      },
      "text/plain": [
       "Power:   0%|          | 0/4 [00:00<?, ?it/s]"
      ]
     },
     "metadata": {},
     "output_type": "display_data"
    },
    {
     "data": {
      "application/vnd.jupyter.widget-view+json": {
       "model_id": "35253accc7fb49c0bc82a6527b58fe7c",
       "version_major": 2,
       "version_minor": 0
      },
      "text/plain": [
       "Seeds:   0%|          | 0/10 [00:00<?, ?it/s]"
      ]
     },
     "metadata": {},
     "output_type": "display_data"
    },
    {
     "data": {
      "application/vnd.jupyter.widget-view+json": {
       "model_id": "cb5d93ad1fe24ad7b15ac0087a0ffbdf",
       "version_major": 2,
       "version_minor": 0
      },
      "text/plain": [
       "Seeds:   0%|          | 0/10 [00:00<?, ?it/s]"
      ]
     },
     "metadata": {},
     "output_type": "display_data"
    },
    {
     "data": {
      "application/vnd.jupyter.widget-view+json": {
       "model_id": "fff24ebe8aa34645b401135daaa18872",
       "version_major": 2,
       "version_minor": 0
      },
      "text/plain": [
       "Seeds:   0%|          | 0/10 [00:00<?, ?it/s]"
      ]
     },
     "metadata": {},
     "output_type": "display_data"
    },
    {
     "data": {
      "application/vnd.jupyter.widget-view+json": {
       "model_id": "1dc30adff13146ceae6db35f993269a2",
       "version_major": 2,
       "version_minor": 0
      },
      "text/plain": [
       "Seeds:   0%|          | 0/10 [00:00<?, ?it/s]"
      ]
     },
     "metadata": {},
     "output_type": "display_data"
    },
    {
     "name": "stdout",
     "output_type": "stream",
     "text": [
      "{'dataname': 'cardiotocography3clases', 'N_feature': 21, 'N_class': 3, 'N_train': 1274, 'N_valid': 424, 'N_test': 426}\n"
     ]
    },
    {
     "data": {
      "application/vnd.jupyter.widget-view+json": {
       "model_id": "8dd1e334f99a4075ae24692b1124880e",
       "version_major": 2,
       "version_minor": 0
      },
      "text/plain": [
       "Power:   0%|          | 0/4 [00:00<?, ?it/s]"
      ]
     },
     "metadata": {},
     "output_type": "display_data"
    },
    {
     "data": {
      "application/vnd.jupyter.widget-view+json": {
       "model_id": "f73f717aca204a91b60f9f1628b0d6d6",
       "version_major": 2,
       "version_minor": 0
      },
      "text/plain": [
       "Seeds:   0%|          | 0/10 [00:00<?, ?it/s]"
      ]
     },
     "metadata": {},
     "output_type": "display_data"
    },
    {
     "data": {
      "application/vnd.jupyter.widget-view+json": {
       "model_id": "5852bda23e214409bfe396bdf7eb6a9a",
       "version_major": 2,
       "version_minor": 0
      },
      "text/plain": [
       "Seeds:   0%|          | 0/10 [00:00<?, ?it/s]"
      ]
     },
     "metadata": {},
     "output_type": "display_data"
    },
    {
     "data": {
      "application/vnd.jupyter.widget-view+json": {
       "model_id": "0ea7aa6aaccd4110a064336e9b5c40ce",
       "version_major": 2,
       "version_minor": 0
      },
      "text/plain": [
       "Seeds:   0%|          | 0/10 [00:00<?, ?it/s]"
      ]
     },
     "metadata": {},
     "output_type": "display_data"
    },
    {
     "data": {
      "application/vnd.jupyter.widget-view+json": {
       "model_id": "e42b541b755340ae905be5db5aea4201",
       "version_major": 2,
       "version_minor": 0
      },
      "text/plain": [
       "Seeds:   0%|          | 0/10 [00:00<?, ?it/s]"
      ]
     },
     "metadata": {},
     "output_type": "display_data"
    },
    {
     "name": "stdout",
     "output_type": "stream",
     "text": [
      "{'dataname': 'energyy1', 'N_feature': 8, 'N_class': 3, 'N_train': 459, 'N_valid': 153, 'N_test': 154}\n"
     ]
    },
    {
     "data": {
      "application/vnd.jupyter.widget-view+json": {
       "model_id": "581b6ba76d9f4401b15c2ddc9af55489",
       "version_major": 2,
       "version_minor": 0
      },
      "text/plain": [
       "Power:   0%|          | 0/4 [00:00<?, ?it/s]"
      ]
     },
     "metadata": {},
     "output_type": "display_data"
    },
    {
     "data": {
      "application/vnd.jupyter.widget-view+json": {
       "model_id": "acbd2be4e1a24f9c9950d0ee790c756c",
       "version_major": 2,
       "version_minor": 0
      },
      "text/plain": [
       "Seeds:   0%|          | 0/10 [00:00<?, ?it/s]"
      ]
     },
     "metadata": {},
     "output_type": "display_data"
    },
    {
     "data": {
      "application/vnd.jupyter.widget-view+json": {
       "model_id": "e6ec19eb21934d06b044ab6f0637da09",
       "version_major": 2,
       "version_minor": 0
      },
      "text/plain": [
       "Seeds:   0%|          | 0/10 [00:00<?, ?it/s]"
      ]
     },
     "metadata": {},
     "output_type": "display_data"
    },
    {
     "data": {
      "application/vnd.jupyter.widget-view+json": {
       "model_id": "d979194c55774738a40728ac53eb8597",
       "version_major": 2,
       "version_minor": 0
      },
      "text/plain": [
       "Seeds:   0%|          | 0/10 [00:00<?, ?it/s]"
      ]
     },
     "metadata": {},
     "output_type": "display_data"
    },
    {
     "data": {
      "application/vnd.jupyter.widget-view+json": {
       "model_id": "a9cc71b8d161400886baacdcc3ab511a",
       "version_major": 2,
       "version_minor": 0
      },
      "text/plain": [
       "Seeds:   0%|          | 0/10 [00:00<?, ?it/s]"
      ]
     },
     "metadata": {},
     "output_type": "display_data"
    },
    {
     "name": "stdout",
     "output_type": "stream",
     "text": [
      "{'dataname': 'energyy2', 'N_feature': 8, 'N_class': 3, 'N_train': 459, 'N_valid': 153, 'N_test': 154}\n"
     ]
    },
    {
     "data": {
      "application/vnd.jupyter.widget-view+json": {
       "model_id": "3be5608c646e4822943061e282ba020f",
       "version_major": 2,
       "version_minor": 0
      },
      "text/plain": [
       "Power:   0%|          | 0/4 [00:00<?, ?it/s]"
      ]
     },
     "metadata": {},
     "output_type": "display_data"
    },
    {
     "data": {
      "application/vnd.jupyter.widget-view+json": {
       "model_id": "64c3c7d9f8624ab9b86218cd254ce6a8",
       "version_major": 2,
       "version_minor": 0
      },
      "text/plain": [
       "Seeds:   0%|          | 0/10 [00:00<?, ?it/s]"
      ]
     },
     "metadata": {},
     "output_type": "display_data"
    },
    {
     "data": {
      "application/vnd.jupyter.widget-view+json": {
       "model_id": "80a81ee8effe423c841366ec737b9532",
       "version_major": 2,
       "version_minor": 0
      },
      "text/plain": [
       "Seeds:   0%|          | 0/10 [00:00<?, ?it/s]"
      ]
     },
     "metadata": {},
     "output_type": "display_data"
    },
    {
     "data": {
      "application/vnd.jupyter.widget-view+json": {
       "model_id": "1d3ddeeb9a4d4125961a795d2eb91dd9",
       "version_major": 2,
       "version_minor": 0
      },
      "text/plain": [
       "Seeds:   0%|          | 0/10 [00:00<?, ?it/s]"
      ]
     },
     "metadata": {},
     "output_type": "display_data"
    },
    {
     "data": {
      "application/vnd.jupyter.widget-view+json": {
       "model_id": "46f7111937ca456782898f5c313d7911",
       "version_major": 2,
       "version_minor": 0
      },
      "text/plain": [
       "Seeds:   0%|          | 0/10 [00:00<?, ?it/s]"
      ]
     },
     "metadata": {},
     "output_type": "display_data"
    },
    {
     "name": "stdout",
     "output_type": "stream",
     "text": [
      "{'dataname': 'iris', 'N_feature': 4, 'N_class': 3, 'N_train': 88, 'N_valid': 29, 'N_test': 31}\n"
     ]
    },
    {
     "data": {
      "application/vnd.jupyter.widget-view+json": {
       "model_id": "4cbd963abdd9417fa165f53422fa8ca2",
       "version_major": 2,
       "version_minor": 0
      },
      "text/plain": [
       "Power:   0%|          | 0/4 [00:00<?, ?it/s]"
      ]
     },
     "metadata": {},
     "output_type": "display_data"
    },
    {
     "data": {
      "application/vnd.jupyter.widget-view+json": {
       "model_id": "2d86dfa6f45b40fca7c80fb9af275bf2",
       "version_major": 2,
       "version_minor": 0
      },
      "text/plain": [
       "Seeds:   0%|          | 0/10 [00:00<?, ?it/s]"
      ]
     },
     "metadata": {},
     "output_type": "display_data"
    },
    {
     "data": {
      "application/vnd.jupyter.widget-view+json": {
       "model_id": "aa35bbe35a004bef8ff6930d0f3b2a65",
       "version_major": 2,
       "version_minor": 0
      },
      "text/plain": [
       "Seeds:   0%|          | 0/10 [00:00<?, ?it/s]"
      ]
     },
     "metadata": {},
     "output_type": "display_data"
    },
    {
     "data": {
      "application/vnd.jupyter.widget-view+json": {
       "model_id": "526ace8cd6aa4e5cbb7b102abc40d300",
       "version_major": 2,
       "version_minor": 0
      },
      "text/plain": [
       "Seeds:   0%|          | 0/10 [00:00<?, ?it/s]"
      ]
     },
     "metadata": {},
     "output_type": "display_data"
    },
    {
     "data": {
      "application/vnd.jupyter.widget-view+json": {
       "model_id": "afc9b4d84c794d94a94e3d9818589bd7",
       "version_major": 2,
       "version_minor": 0
      },
      "text/plain": [
       "Seeds:   0%|          | 0/10 [00:00<?, ?it/s]"
      ]
     },
     "metadata": {},
     "output_type": "display_data"
    },
    {
     "name": "stdout",
     "output_type": "stream",
     "text": [
      "{'dataname': 'mammographic', 'N_feature': 5, 'N_class': 2, 'N_train': 575, 'N_valid': 191, 'N_test': 193}\n"
     ]
    },
    {
     "data": {
      "application/vnd.jupyter.widget-view+json": {
       "model_id": "d718091ad8834cf6ab019f252a4003cb",
       "version_major": 2,
       "version_minor": 0
      },
      "text/plain": [
       "Power:   0%|          | 0/4 [00:00<?, ?it/s]"
      ]
     },
     "metadata": {},
     "output_type": "display_data"
    },
    {
     "data": {
      "application/vnd.jupyter.widget-view+json": {
       "model_id": "4a3fd78cc45d4b7fb9f69d88975520c9",
       "version_major": 2,
       "version_minor": 0
      },
      "text/plain": [
       "Seeds:   0%|          | 0/10 [00:00<?, ?it/s]"
      ]
     },
     "metadata": {},
     "output_type": "display_data"
    },
    {
     "data": {
      "application/vnd.jupyter.widget-view+json": {
       "model_id": "86c49a374a4a4be7bc8a6e0ec89b10dc",
       "version_major": 2,
       "version_minor": 0
      },
      "text/plain": [
       "Seeds:   0%|          | 0/10 [00:00<?, ?it/s]"
      ]
     },
     "metadata": {},
     "output_type": "display_data"
    },
    {
     "data": {
      "application/vnd.jupyter.widget-view+json": {
       "model_id": "4378897a648447868bd4c715019d56ba",
       "version_major": 2,
       "version_minor": 0
      },
      "text/plain": [
       "Seeds:   0%|          | 0/10 [00:00<?, ?it/s]"
      ]
     },
     "metadata": {},
     "output_type": "display_data"
    },
    {
     "data": {
      "application/vnd.jupyter.widget-view+json": {
       "model_id": "7530a4b27954426ead5ad976733b2930",
       "version_major": 2,
       "version_minor": 0
      },
      "text/plain": [
       "Seeds:   0%|          | 0/10 [00:00<?, ?it/s]"
      ]
     },
     "metadata": {},
     "output_type": "display_data"
    },
    {
     "name": "stdout",
     "output_type": "stream",
     "text": [
      "{'dataname': 'Pendigits', 'N_feature': 16, 'N_class': 10, 'N_train': 2198, 'N_valid': 732, 'N_test': 733}\n"
     ]
    },
    {
     "data": {
      "application/vnd.jupyter.widget-view+json": {
       "model_id": "ec9190dcb8764d5f80beeb1a8d4a60a3",
       "version_major": 2,
       "version_minor": 0
      },
      "text/plain": [
       "Power:   0%|          | 0/4 [00:00<?, ?it/s]"
      ]
     },
     "metadata": {},
     "output_type": "display_data"
    },
    {
     "data": {
      "application/vnd.jupyter.widget-view+json": {
       "model_id": "d06a72c507b04141b76740faf140a871",
       "version_major": 2,
       "version_minor": 0
      },
      "text/plain": [
       "Seeds:   0%|          | 0/10 [00:00<?, ?it/s]"
      ]
     },
     "metadata": {},
     "output_type": "display_data"
    },
    {
     "name": "stdout",
     "output_type": "stream",
     "text": [
      "Error loading model_PT: ./models/pNN_data_Pendigits_seed_0_Penalty_AL_Factor_0600.model\n",
      "[Errno 2] No such file or directory: './models/pNN_data_Pendigits_seed_0_Penalty_AL_Factor_0600.model'\n",
      "Error loading model_FT: ./models/pNN_data_Pendigits_seed_1_Penalty_AL_Factor_0600_FT.model\n",
      "[Errno 2] No such file or directory: './models/pNN_data_Pendigits_seed_1_Penalty_AL_Factor_0600_FT.model'\n",
      "Error loading model_FT: ./models/pNN_data_Pendigits_seed_2_Penalty_AL_Factor_0600_FT.model\n",
      "[Errno 2] No such file or directory: './models/pNN_data_Pendigits_seed_2_Penalty_AL_Factor_0600_FT.model'\n",
      "Error loading model_FT: ./models/pNN_data_Pendigits_seed_3_Penalty_AL_Factor_0600_FT.model\n",
      "[Errno 2] No such file or directory: './models/pNN_data_Pendigits_seed_3_Penalty_AL_Factor_0600_FT.model'\n",
      "Error loading model_FT: ./models/pNN_data_Pendigits_seed_6_Penalty_AL_Factor_0600_FT.model\n",
      "[Errno 2] No such file or directory: './models/pNN_data_Pendigits_seed_6_Penalty_AL_Factor_0600_FT.model'\n"
     ]
    },
    {
     "data": {
      "application/vnd.jupyter.widget-view+json": {
       "model_id": "6974e3e28aa64032bb2cca6c92cfbc44",
       "version_major": 2,
       "version_minor": 0
      },
      "text/plain": [
       "Seeds:   0%|          | 0/10 [00:00<?, ?it/s]"
      ]
     },
     "metadata": {},
     "output_type": "display_data"
    },
    {
     "name": "stdout",
     "output_type": "stream",
     "text": [
      "Error loading model_PT: ./models/pNN_data_Pendigits_seed_0_Penalty_AL_Factor_1200.model\n",
      "[Errno 2] No such file or directory: './models/pNN_data_Pendigits_seed_0_Penalty_AL_Factor_1200.model'\n",
      "Error loading model_FT: ./models/pNN_data_Pendigits_seed_1_Penalty_AL_Factor_1200_FT.model\n",
      "[Errno 2] No such file or directory: './models/pNN_data_Pendigits_seed_1_Penalty_AL_Factor_1200_FT.model'\n",
      "Error loading model_FT: ./models/pNN_data_Pendigits_seed_2_Penalty_AL_Factor_1200_FT.model\n",
      "[Errno 2] No such file or directory: './models/pNN_data_Pendigits_seed_2_Penalty_AL_Factor_1200_FT.model'\n",
      "Error loading model_PT: ./models/pNN_data_Pendigits_seed_4_Penalty_AL_Factor_1200.model\n",
      "[Errno 2] No such file or directory: './models/pNN_data_Pendigits_seed_4_Penalty_AL_Factor_1200.model'\n",
      "Error loading model_FT: ./models/pNN_data_Pendigits_seed_9_Penalty_AL_Factor_1200_FT.model\n",
      "[Errno 2] No such file or directory: './models/pNN_data_Pendigits_seed_9_Penalty_AL_Factor_1200_FT.model'\n"
     ]
    },
    {
     "data": {
      "application/vnd.jupyter.widget-view+json": {
       "model_id": "cf1489a7b7364621b1c44e34df3d5e54",
       "version_major": 2,
       "version_minor": 0
      },
      "text/plain": [
       "Seeds:   0%|          | 0/10 [00:00<?, ?it/s]"
      ]
     },
     "metadata": {},
     "output_type": "display_data"
    },
    {
     "name": "stdout",
     "output_type": "stream",
     "text": [
      "Error loading model_PT: ./models/pNN_data_Pendigits_seed_0_Penalty_AL_Factor_1800.model\n",
      "[Errno 2] No such file or directory: './models/pNN_data_Pendigits_seed_0_Penalty_AL_Factor_1800.model'\n",
      "Error loading model_PT: ./models/pNN_data_Pendigits_seed_3_Penalty_AL_Factor_1800.model\n",
      "[Errno 2] No such file or directory: './models/pNN_data_Pendigits_seed_3_Penalty_AL_Factor_1800.model'\n",
      "Error loading model_PT: ./models/pNN_data_Pendigits_seed_4_Penalty_AL_Factor_1800.model\n",
      "[Errno 2] No such file or directory: './models/pNN_data_Pendigits_seed_4_Penalty_AL_Factor_1800.model'\n"
     ]
    },
    {
     "data": {
      "application/vnd.jupyter.widget-view+json": {
       "model_id": "b7a83d349cfb45b9b4a35116df24465e",
       "version_major": 2,
       "version_minor": 0
      },
      "text/plain": [
       "Seeds:   0%|          | 0/10 [00:00<?, ?it/s]"
      ]
     },
     "metadata": {},
     "output_type": "display_data"
    },
    {
     "name": "stdout",
     "output_type": "stream",
     "text": [
      "{'dataname': 'seeds', 'N_feature': 7, 'N_class': 3, 'N_train': 124, 'N_valid': 41, 'N_test': 43}\n"
     ]
    },
    {
     "data": {
      "application/vnd.jupyter.widget-view+json": {
       "model_id": "f56f4f050824419b8e7eda50184999f6",
       "version_major": 2,
       "version_minor": 0
      },
      "text/plain": [
       "Power:   0%|          | 0/4 [00:00<?, ?it/s]"
      ]
     },
     "metadata": {},
     "output_type": "display_data"
    },
    {
     "data": {
      "application/vnd.jupyter.widget-view+json": {
       "model_id": "6afe8aa2a82d483bb8de52e09cb3e3bb",
       "version_major": 2,
       "version_minor": 0
      },
      "text/plain": [
       "Seeds:   0%|          | 0/10 [00:00<?, ?it/s]"
      ]
     },
     "metadata": {},
     "output_type": "display_data"
    },
    {
     "data": {
      "application/vnd.jupyter.widget-view+json": {
       "model_id": "a99e3d715f034079a837c22781c53d31",
       "version_major": 2,
       "version_minor": 0
      },
      "text/plain": [
       "Seeds:   0%|          | 0/10 [00:00<?, ?it/s]"
      ]
     },
     "metadata": {},
     "output_type": "display_data"
    },
    {
     "data": {
      "application/vnd.jupyter.widget-view+json": {
       "model_id": "20250ac6426d4d43b94d5b92ed9b92f8",
       "version_major": 2,
       "version_minor": 0
      },
      "text/plain": [
       "Seeds:   0%|          | 0/10 [00:00<?, ?it/s]"
      ]
     },
     "metadata": {},
     "output_type": "display_data"
    },
    {
     "data": {
      "application/vnd.jupyter.widget-view+json": {
       "model_id": "0011e83a5d2c498d9b6d794b33887cf6",
       "version_major": 2,
       "version_minor": 0
      },
      "text/plain": [
       "Seeds:   0%|          | 0/10 [00:00<?, ?it/s]"
      ]
     },
     "metadata": {},
     "output_type": "display_data"
    },
    {
     "name": "stdout",
     "output_type": "stream",
     "text": [
      "{'dataname': 'tictactoe', 'N_feature': 9, 'N_class': 2, 'N_train': 573, 'N_valid': 191, 'N_test': 192}\n"
     ]
    },
    {
     "data": {
      "application/vnd.jupyter.widget-view+json": {
       "model_id": "9294dff226e74828811bbc0ec86b76fb",
       "version_major": 2,
       "version_minor": 0
      },
      "text/plain": [
       "Power:   0%|          | 0/4 [00:00<?, ?it/s]"
      ]
     },
     "metadata": {},
     "output_type": "display_data"
    },
    {
     "data": {
      "application/vnd.jupyter.widget-view+json": {
       "model_id": "a1d2573354824a5ca542287e28df2053",
       "version_major": 2,
       "version_minor": 0
      },
      "text/plain": [
       "Seeds:   0%|          | 0/10 [00:00<?, ?it/s]"
      ]
     },
     "metadata": {},
     "output_type": "display_data"
    },
    {
     "data": {
      "application/vnd.jupyter.widget-view+json": {
       "model_id": "8031cc588c764ccc981d5bab41362599",
       "version_major": 2,
       "version_minor": 0
      },
      "text/plain": [
       "Seeds:   0%|          | 0/10 [00:00<?, ?it/s]"
      ]
     },
     "metadata": {},
     "output_type": "display_data"
    },
    {
     "data": {
      "application/vnd.jupyter.widget-view+json": {
       "model_id": "61aef8b448c04c17a90cde1356a66dfd",
       "version_major": 2,
       "version_minor": 0
      },
      "text/plain": [
       "Seeds:   0%|          | 0/10 [00:00<?, ?it/s]"
      ]
     },
     "metadata": {},
     "output_type": "display_data"
    },
    {
     "data": {
      "application/vnd.jupyter.widget-view+json": {
       "model_id": "7f47f7cc01eb4d7f847a08e1f5cc2108",
       "version_major": 2,
       "version_minor": 0
      },
      "text/plain": [
       "Seeds:   0%|          | 0/10 [00:00<?, ?it/s]"
      ]
     },
     "metadata": {},
     "output_type": "display_data"
    },
    {
     "name": "stdout",
     "output_type": "stream",
     "text": [
      "{'dataname': 'vertebralcolumn2clases', 'N_feature': 6, 'N_class': 2, 'N_train': 184, 'N_valid': 61, 'N_test': 63}\n"
     ]
    },
    {
     "data": {
      "application/vnd.jupyter.widget-view+json": {
       "model_id": "b2c55cd734fc4e15b10fdf3bae74a02c",
       "version_major": 2,
       "version_minor": 0
      },
      "text/plain": [
       "Power:   0%|          | 0/4 [00:00<?, ?it/s]"
      ]
     },
     "metadata": {},
     "output_type": "display_data"
    },
    {
     "data": {
      "application/vnd.jupyter.widget-view+json": {
       "model_id": "84ff4752056b4d3aa5f6aee083a7992b",
       "version_major": 2,
       "version_minor": 0
      },
      "text/plain": [
       "Seeds:   0%|          | 0/10 [00:00<?, ?it/s]"
      ]
     },
     "metadata": {},
     "output_type": "display_data"
    },
    {
     "data": {
      "application/vnd.jupyter.widget-view+json": {
       "model_id": "57460c3edaf34086ad8418fa7263661e",
       "version_major": 2,
       "version_minor": 0
      },
      "text/plain": [
       "Seeds:   0%|          | 0/10 [00:00<?, ?it/s]"
      ]
     },
     "metadata": {},
     "output_type": "display_data"
    },
    {
     "data": {
      "application/vnd.jupyter.widget-view+json": {
       "model_id": "047323fec4c742baa362fa58854a26a3",
       "version_major": 2,
       "version_minor": 0
      },
      "text/plain": [
       "Seeds:   0%|          | 0/10 [00:00<?, ?it/s]"
      ]
     },
     "metadata": {},
     "output_type": "display_data"
    },
    {
     "data": {
      "application/vnd.jupyter.widget-view+json": {
       "model_id": "1d9adab066bd4ba4930adfd27089886a",
       "version_major": 2,
       "version_minor": 0
      },
      "text/plain": [
       "Seeds:   0%|          | 0/10 [00:00<?, ?it/s]"
      ]
     },
     "metadata": {},
     "output_type": "display_data"
    },
    {
     "name": "stdout",
     "output_type": "stream",
     "text": [
      "{'dataname': 'vertebralcolumn3clases', 'N_feature': 6, 'N_class': 3, 'N_train': 184, 'N_valid': 61, 'N_test': 63}\n"
     ]
    },
    {
     "data": {
      "application/vnd.jupyter.widget-view+json": {
       "model_id": "985d5180a3cd4dff97a454b7799589cb",
       "version_major": 2,
       "version_minor": 0
      },
      "text/plain": [
       "Power:   0%|          | 0/4 [00:00<?, ?it/s]"
      ]
     },
     "metadata": {},
     "output_type": "display_data"
    },
    {
     "data": {
      "application/vnd.jupyter.widget-view+json": {
       "model_id": "cc5275acdf524af1b42c9856547cec62",
       "version_major": 2,
       "version_minor": 0
      },
      "text/plain": [
       "Seeds:   0%|          | 0/10 [00:00<?, ?it/s]"
      ]
     },
     "metadata": {},
     "output_type": "display_data"
    },
    {
     "data": {
      "application/vnd.jupyter.widget-view+json": {
       "model_id": "ee944b9eba8d47f2965b92fe7ece993f",
       "version_major": 2,
       "version_minor": 0
      },
      "text/plain": [
       "Seeds:   0%|          | 0/10 [00:00<?, ?it/s]"
      ]
     },
     "metadata": {},
     "output_type": "display_data"
    },
    {
     "data": {
      "application/vnd.jupyter.widget-view+json": {
       "model_id": "d8cb67a7abbb43e2b0552cbde1cbbf28",
       "version_major": 2,
       "version_minor": 0
      },
      "text/plain": [
       "Seeds:   0%|          | 0/10 [00:00<?, ?it/s]"
      ]
     },
     "metadata": {},
     "output_type": "display_data"
    },
    {
     "data": {
      "application/vnd.jupyter.widget-view+json": {
       "model_id": "6cdf6bf560274eb692ef68a08fce1b85",
       "version_major": 2,
       "version_minor": 0
      },
      "text/plain": [
       "Seeds:   0%|          | 0/10 [00:00<?, ?it/s]"
      ]
     },
     "metadata": {},
     "output_type": "display_data"
    }
   ],
   "source": [
    "from tqdm.notebook import tqdm\n",
    "\n",
    "results = torch.zeros([10, 4, 13, 8])\n",
    "\n",
    "evaluator = Evaluator(args).to(args.DEVICE)\n",
    "\n",
    "for ds in tqdm(range(13), desc=\"Datasets\"):\n",
    "    args.DATASET = ds\n",
    "    valid_loader, datainfo = GetDataLoader(args, 'valid', path='../dataset/')\n",
    "    test_loader, datainfo = GetDataLoader(args, 'test', path='../dataset/')\n",
    "    print(datainfo)\n",
    "\n",
    "    for p, power in enumerate(tqdm(target[:,ds], desc=\"Power\", leave=False)):\n",
    "        \n",
    "        args.powerbalance = power\n",
    "        \n",
    "        for seed in tqdm(range(10), desc=\"Seeds\", leave=False):\n",
    "\n",
    "            args.SEED = seed\n",
    "\n",
    "            setup = f\"data_{datainfo['dataname']}_seed_{args.SEED}_Penalty_{args.powerestimator}_Factor_{int(args.powerbalance):04d}\"\n",
    "\n",
    "            model_PT_name = f'./models/pNN_{setup}.model'\n",
    "            model_FT_name = f'./models/pNN_{setup}_FT.model'\n",
    "            # model_FT_RESET_name = f'./models/pNN_{setup}_FT_reset.model'\n",
    "            \n",
    "            try:\n",
    "                model_PT = torch.load(model_PT_name)\n",
    "            except Exception as e:\n",
    "                print(f\"Error loading model_PT: {model_PT_name}\")\n",
    "                print(e)\n",
    "                continue\n",
    "            \n",
    "            try:\n",
    "                model_FT = torch.load(model_FT_name)\n",
    "            except Exception as e:\n",
    "                print(f\"Error loading model_FT: {model_FT_name}\")\n",
    "                print(e)\n",
    "                continue\n",
    "\n",
    "\n"
   ]
  },
  {
   "cell_type": "code",
   "execution_count": 3,
   "id": "387f6baa-abf8-4eab-ab41-a2fad060a1d5",
   "metadata": {},
   "outputs": [
    {
     "data": {
      "application/vnd.jupyter.widget-view+json": {
       "model_id": "d9933954e9624f0787cfa47a16fe68d0",
       "version_major": 2,
       "version_minor": 0
      },
      "text/plain": [
       "Datasets:   0%|          | 0/13 [00:00<?, ?it/s]"
      ]
     },
     "metadata": {},
     "output_type": "display_data"
    },
    {
     "name": "stdout",
     "output_type": "stream",
     "text": [
      "{'dataname': 'acuteinflammation', 'N_feature': 6, 'N_class': 2, 'N_train': 70, 'N_valid': 23, 'N_test': 25}\n"
     ]
    },
    {
     "data": {
      "application/vnd.jupyter.widget-view+json": {
       "model_id": "c7c5911b54114f21b36abd48dd3382dd",
       "version_major": 2,
       "version_minor": 0
      },
      "text/plain": [
       "Power:   0%|          | 0/4 [00:00<?, ?it/s]"
      ]
     },
     "metadata": {},
     "output_type": "display_data"
    },
    {
     "data": {
      "application/vnd.jupyter.widget-view+json": {
       "model_id": "e9fd85f5831b47568a01c4bc5e3a450a",
       "version_major": 2,
       "version_minor": 0
      },
      "text/plain": [
       "Seeds:   0%|          | 0/10 [00:00<?, ?it/s]"
      ]
     },
     "metadata": {},
     "output_type": "display_data"
    },
    {
     "data": {
      "application/vnd.jupyter.widget-view+json": {
       "model_id": "de8327927acc47a7a53018fd925e087f",
       "version_major": 2,
       "version_minor": 0
      },
      "text/plain": [
       "Seeds:   0%|          | 0/10 [00:00<?, ?it/s]"
      ]
     },
     "metadata": {},
     "output_type": "display_data"
    },
    {
     "data": {
      "application/vnd.jupyter.widget-view+json": {
       "model_id": "ddedc302a1ca4f6381bf1cdbe47abcc9",
       "version_major": 2,
       "version_minor": 0
      },
      "text/plain": [
       "Seeds:   0%|          | 0/10 [00:00<?, ?it/s]"
      ]
     },
     "metadata": {},
     "output_type": "display_data"
    },
    {
     "data": {
      "application/vnd.jupyter.widget-view+json": {
       "model_id": "d5cfb12d19744e299b92d0b277de870b",
       "version_major": 2,
       "version_minor": 0
      },
      "text/plain": [
       "Seeds:   0%|          | 0/10 [00:00<?, ?it/s]"
      ]
     },
     "metadata": {},
     "output_type": "display_data"
    },
    {
     "name": "stdout",
     "output_type": "stream",
     "text": [
      "{'dataname': 'balancescale', 'N_feature': 4, 'N_class': 3, 'N_train': 373, 'N_valid': 124, 'N_test': 126}\n"
     ]
    },
    {
     "data": {
      "application/vnd.jupyter.widget-view+json": {
       "model_id": "c3897f2feb874228bccd30e264a802cd",
       "version_major": 2,
       "version_minor": 0
      },
      "text/plain": [
       "Power:   0%|          | 0/4 [00:00<?, ?it/s]"
      ]
     },
     "metadata": {},
     "output_type": "display_data"
    },
    {
     "data": {
      "application/vnd.jupyter.widget-view+json": {
       "model_id": "abc2c0fe8ffe4b5db366f3a2e6261059",
       "version_major": 2,
       "version_minor": 0
      },
      "text/plain": [
       "Seeds:   0%|          | 0/10 [00:00<?, ?it/s]"
      ]
     },
     "metadata": {},
     "output_type": "display_data"
    },
    {
     "data": {
      "application/vnd.jupyter.widget-view+json": {
       "model_id": "024236d812c34b02b783c62ae7ce4a4a",
       "version_major": 2,
       "version_minor": 0
      },
      "text/plain": [
       "Seeds:   0%|          | 0/10 [00:00<?, ?it/s]"
      ]
     },
     "metadata": {},
     "output_type": "display_data"
    },
    {
     "data": {
      "application/vnd.jupyter.widget-view+json": {
       "model_id": "450302dc7bcb4ac69403cd4a170d2741",
       "version_major": 2,
       "version_minor": 0
      },
      "text/plain": [
       "Seeds:   0%|          | 0/10 [00:00<?, ?it/s]"
      ]
     },
     "metadata": {},
     "output_type": "display_data"
    },
    {
     "data": {
      "application/vnd.jupyter.widget-view+json": {
       "model_id": "1fa38d825051441d89ae5ba75136dd6b",
       "version_major": 2,
       "version_minor": 0
      },
      "text/plain": [
       "Seeds:   0%|          | 0/10 [00:00<?, ?it/s]"
      ]
     },
     "metadata": {},
     "output_type": "display_data"
    },
    {
     "name": "stdout",
     "output_type": "stream",
     "text": [
      "{'dataname': 'breastcancerwisc', 'N_feature': 9, 'N_class': 2, 'N_train': 418, 'N_valid': 139, 'N_test': 140}\n"
     ]
    },
    {
     "data": {
      "application/vnd.jupyter.widget-view+json": {
       "model_id": "b208300485ed4dcea36b9452ec961f15",
       "version_major": 2,
       "version_minor": 0
      },
      "text/plain": [
       "Power:   0%|          | 0/4 [00:00<?, ?it/s]"
      ]
     },
     "metadata": {},
     "output_type": "display_data"
    },
    {
     "data": {
      "application/vnd.jupyter.widget-view+json": {
       "model_id": "9205bbd8007a4ceb9adffe73cee1ca0d",
       "version_major": 2,
       "version_minor": 0
      },
      "text/plain": [
       "Seeds:   0%|          | 0/10 [00:00<?, ?it/s]"
      ]
     },
     "metadata": {},
     "output_type": "display_data"
    },
    {
     "data": {
      "application/vnd.jupyter.widget-view+json": {
       "model_id": "d69d87feb9374be69f7c9f83c74401aa",
       "version_major": 2,
       "version_minor": 0
      },
      "text/plain": [
       "Seeds:   0%|          | 0/10 [00:00<?, ?it/s]"
      ]
     },
     "metadata": {},
     "output_type": "display_data"
    },
    {
     "data": {
      "application/vnd.jupyter.widget-view+json": {
       "model_id": "3916a691870a4201a1e05502a64b3dd3",
       "version_major": 2,
       "version_minor": 0
      },
      "text/plain": [
       "Seeds:   0%|          | 0/10 [00:00<?, ?it/s]"
      ]
     },
     "metadata": {},
     "output_type": "display_data"
    },
    {
     "data": {
      "application/vnd.jupyter.widget-view+json": {
       "model_id": "ec6381b962854df09456ea3263552487",
       "version_major": 2,
       "version_minor": 0
      },
      "text/plain": [
       "Seeds:   0%|          | 0/10 [00:00<?, ?it/s]"
      ]
     },
     "metadata": {},
     "output_type": "display_data"
    },
    {
     "name": "stdout",
     "output_type": "stream",
     "text": [
      "{'dataname': 'cardiotocography3clases', 'N_feature': 21, 'N_class': 3, 'N_train': 1274, 'N_valid': 424, 'N_test': 426}\n"
     ]
    },
    {
     "data": {
      "application/vnd.jupyter.widget-view+json": {
       "model_id": "27d2328e63564fb3b76fe3f6daf81208",
       "version_major": 2,
       "version_minor": 0
      },
      "text/plain": [
       "Power:   0%|          | 0/4 [00:00<?, ?it/s]"
      ]
     },
     "metadata": {},
     "output_type": "display_data"
    },
    {
     "data": {
      "application/vnd.jupyter.widget-view+json": {
       "model_id": "492f7f74d3f4456ba55637ebe420243a",
       "version_major": 2,
       "version_minor": 0
      },
      "text/plain": [
       "Seeds:   0%|          | 0/10 [00:00<?, ?it/s]"
      ]
     },
     "metadata": {},
     "output_type": "display_data"
    },
    {
     "data": {
      "application/vnd.jupyter.widget-view+json": {
       "model_id": "5ffac9cb8f1a4cf49d83045e3a26ce80",
       "version_major": 2,
       "version_minor": 0
      },
      "text/plain": [
       "Seeds:   0%|          | 0/10 [00:00<?, ?it/s]"
      ]
     },
     "metadata": {},
     "output_type": "display_data"
    },
    {
     "data": {
      "application/vnd.jupyter.widget-view+json": {
       "model_id": "dddcbabd87184a968f14953439d0425c",
       "version_major": 2,
       "version_minor": 0
      },
      "text/plain": [
       "Seeds:   0%|          | 0/10 [00:00<?, ?it/s]"
      ]
     },
     "metadata": {},
     "output_type": "display_data"
    },
    {
     "data": {
      "application/vnd.jupyter.widget-view+json": {
       "model_id": "20c41160c61d4a2c8a634b68972097a9",
       "version_major": 2,
       "version_minor": 0
      },
      "text/plain": [
       "Seeds:   0%|          | 0/10 [00:00<?, ?it/s]"
      ]
     },
     "metadata": {},
     "output_type": "display_data"
    },
    {
     "name": "stdout",
     "output_type": "stream",
     "text": [
      "{'dataname': 'energyy1', 'N_feature': 8, 'N_class': 3, 'N_train': 459, 'N_valid': 153, 'N_test': 154}\n"
     ]
    },
    {
     "data": {
      "application/vnd.jupyter.widget-view+json": {
       "model_id": "baaa99ccfd564a99a6772764361c93c5",
       "version_major": 2,
       "version_minor": 0
      },
      "text/plain": [
       "Power:   0%|          | 0/4 [00:00<?, ?it/s]"
      ]
     },
     "metadata": {},
     "output_type": "display_data"
    },
    {
     "data": {
      "application/vnd.jupyter.widget-view+json": {
       "model_id": "7a21b664d773423eb3555c88a90f7849",
       "version_major": 2,
       "version_minor": 0
      },
      "text/plain": [
       "Seeds:   0%|          | 0/10 [00:00<?, ?it/s]"
      ]
     },
     "metadata": {},
     "output_type": "display_data"
    },
    {
     "data": {
      "application/vnd.jupyter.widget-view+json": {
       "model_id": "e11e30c9d19543f6b3e57cbb5da9d8d0",
       "version_major": 2,
       "version_minor": 0
      },
      "text/plain": [
       "Seeds:   0%|          | 0/10 [00:00<?, ?it/s]"
      ]
     },
     "metadata": {},
     "output_type": "display_data"
    },
    {
     "data": {
      "application/vnd.jupyter.widget-view+json": {
       "model_id": "6b9641bb4c674c5aa541f086a20455b2",
       "version_major": 2,
       "version_minor": 0
      },
      "text/plain": [
       "Seeds:   0%|          | 0/10 [00:00<?, ?it/s]"
      ]
     },
     "metadata": {},
     "output_type": "display_data"
    },
    {
     "data": {
      "application/vnd.jupyter.widget-view+json": {
       "model_id": "6ca210667e92441e87c873028f8cc616",
       "version_major": 2,
       "version_minor": 0
      },
      "text/plain": [
       "Seeds:   0%|          | 0/10 [00:00<?, ?it/s]"
      ]
     },
     "metadata": {},
     "output_type": "display_data"
    },
    {
     "name": "stdout",
     "output_type": "stream",
     "text": [
      "{'dataname': 'energyy2', 'N_feature': 8, 'N_class': 3, 'N_train': 459, 'N_valid': 153, 'N_test': 154}\n"
     ]
    },
    {
     "data": {
      "application/vnd.jupyter.widget-view+json": {
       "model_id": "4feee4f80ac44780baceb31e784812dc",
       "version_major": 2,
       "version_minor": 0
      },
      "text/plain": [
       "Power:   0%|          | 0/4 [00:00<?, ?it/s]"
      ]
     },
     "metadata": {},
     "output_type": "display_data"
    },
    {
     "data": {
      "application/vnd.jupyter.widget-view+json": {
       "model_id": "3d9c70a12d7445fd919cd187444cda8d",
       "version_major": 2,
       "version_minor": 0
      },
      "text/plain": [
       "Seeds:   0%|          | 0/10 [00:00<?, ?it/s]"
      ]
     },
     "metadata": {},
     "output_type": "display_data"
    },
    {
     "data": {
      "application/vnd.jupyter.widget-view+json": {
       "model_id": "834f3e10bb47437da7fe10f2b2db8ecf",
       "version_major": 2,
       "version_minor": 0
      },
      "text/plain": [
       "Seeds:   0%|          | 0/10 [00:00<?, ?it/s]"
      ]
     },
     "metadata": {},
     "output_type": "display_data"
    },
    {
     "data": {
      "application/vnd.jupyter.widget-view+json": {
       "model_id": "df83e56523014ff2ac6a33a0d69f2aec",
       "version_major": 2,
       "version_minor": 0
      },
      "text/plain": [
       "Seeds:   0%|          | 0/10 [00:00<?, ?it/s]"
      ]
     },
     "metadata": {},
     "output_type": "display_data"
    },
    {
     "data": {
      "application/vnd.jupyter.widget-view+json": {
       "model_id": "48ff8cdd0234470e91e7fb67fe3e4485",
       "version_major": 2,
       "version_minor": 0
      },
      "text/plain": [
       "Seeds:   0%|          | 0/10 [00:00<?, ?it/s]"
      ]
     },
     "metadata": {},
     "output_type": "display_data"
    },
    {
     "name": "stdout",
     "output_type": "stream",
     "text": [
      "{'dataname': 'iris', 'N_feature': 4, 'N_class': 3, 'N_train': 88, 'N_valid': 29, 'N_test': 31}\n"
     ]
    },
    {
     "data": {
      "application/vnd.jupyter.widget-view+json": {
       "model_id": "4c2facf9ce7f44c3b76f5cc5cf24c497",
       "version_major": 2,
       "version_minor": 0
      },
      "text/plain": [
       "Power:   0%|          | 0/4 [00:00<?, ?it/s]"
      ]
     },
     "metadata": {},
     "output_type": "display_data"
    },
    {
     "data": {
      "application/vnd.jupyter.widget-view+json": {
       "model_id": "547081ea69044ae3935369ce1bf248f7",
       "version_major": 2,
       "version_minor": 0
      },
      "text/plain": [
       "Seeds:   0%|          | 0/10 [00:00<?, ?it/s]"
      ]
     },
     "metadata": {},
     "output_type": "display_data"
    },
    {
     "data": {
      "application/vnd.jupyter.widget-view+json": {
       "model_id": "7971768c8f7747c49da3c6fa3cbc7838",
       "version_major": 2,
       "version_minor": 0
      },
      "text/plain": [
       "Seeds:   0%|          | 0/10 [00:00<?, ?it/s]"
      ]
     },
     "metadata": {},
     "output_type": "display_data"
    },
    {
     "data": {
      "application/vnd.jupyter.widget-view+json": {
       "model_id": "6160e562d4a84e469996284da0ed4610",
       "version_major": 2,
       "version_minor": 0
      },
      "text/plain": [
       "Seeds:   0%|          | 0/10 [00:00<?, ?it/s]"
      ]
     },
     "metadata": {},
     "output_type": "display_data"
    },
    {
     "data": {
      "application/vnd.jupyter.widget-view+json": {
       "model_id": "38faa89ac7064d3da1f78b0f637a4678",
       "version_major": 2,
       "version_minor": 0
      },
      "text/plain": [
       "Seeds:   0%|          | 0/10 [00:00<?, ?it/s]"
      ]
     },
     "metadata": {},
     "output_type": "display_data"
    },
    {
     "name": "stdout",
     "output_type": "stream",
     "text": [
      "{'dataname': 'mammographic', 'N_feature': 5, 'N_class': 2, 'N_train': 575, 'N_valid': 191, 'N_test': 193}\n"
     ]
    },
    {
     "data": {
      "application/vnd.jupyter.widget-view+json": {
       "model_id": "3f0d2d4f1c124e5cbd6e2f12adf44d9b",
       "version_major": 2,
       "version_minor": 0
      },
      "text/plain": [
       "Power:   0%|          | 0/4 [00:00<?, ?it/s]"
      ]
     },
     "metadata": {},
     "output_type": "display_data"
    },
    {
     "data": {
      "application/vnd.jupyter.widget-view+json": {
       "model_id": "8493848b7aae496ea8b00c033037efdc",
       "version_major": 2,
       "version_minor": 0
      },
      "text/plain": [
       "Seeds:   0%|          | 0/10 [00:00<?, ?it/s]"
      ]
     },
     "metadata": {},
     "output_type": "display_data"
    },
    {
     "data": {
      "application/vnd.jupyter.widget-view+json": {
       "model_id": "38187bc89d4b4d86ab45e27bea2a466f",
       "version_major": 2,
       "version_minor": 0
      },
      "text/plain": [
       "Seeds:   0%|          | 0/10 [00:00<?, ?it/s]"
      ]
     },
     "metadata": {},
     "output_type": "display_data"
    },
    {
     "data": {
      "application/vnd.jupyter.widget-view+json": {
       "model_id": "aba8d69eea5f43678c9d2297cece56bc",
       "version_major": 2,
       "version_minor": 0
      },
      "text/plain": [
       "Seeds:   0%|          | 0/10 [00:00<?, ?it/s]"
      ]
     },
     "metadata": {},
     "output_type": "display_data"
    },
    {
     "data": {
      "application/vnd.jupyter.widget-view+json": {
       "model_id": "afd556d418db4d448c6e0866b19f1ea9",
       "version_major": 2,
       "version_minor": 0
      },
      "text/plain": [
       "Seeds:   0%|          | 0/10 [00:00<?, ?it/s]"
      ]
     },
     "metadata": {},
     "output_type": "display_data"
    },
    {
     "name": "stdout",
     "output_type": "stream",
     "text": [
      "{'dataname': 'Pendigits', 'N_feature': 16, 'N_class': 10, 'N_train': 2198, 'N_valid': 732, 'N_test': 733}\n"
     ]
    },
    {
     "data": {
      "application/vnd.jupyter.widget-view+json": {
       "model_id": "f613da4ef8a444b0b505cf22a5a8b70a",
       "version_major": 2,
       "version_minor": 0
      },
      "text/plain": [
       "Power:   0%|          | 0/4 [00:00<?, ?it/s]"
      ]
     },
     "metadata": {},
     "output_type": "display_data"
    },
    {
     "data": {
      "application/vnd.jupyter.widget-view+json": {
       "model_id": "668a34a65d3a45a08841ff37cc3e8236",
       "version_major": 2,
       "version_minor": 0
      },
      "text/plain": [
       "Seeds:   0%|          | 0/10 [00:00<?, ?it/s]"
      ]
     },
     "metadata": {},
     "output_type": "display_data"
    },
    {
     "name": "stdout",
     "output_type": "stream",
     "text": [
      "Error loading model_PT: ./models/pNN_data_Pendigits_seed_0_Penalty_AL_Factor_0600.model\n",
      "[Errno 2] No such file or directory: './models/pNN_data_Pendigits_seed_0_Penalty_AL_Factor_0600.model'\n",
      "Error loading model_PT: ./models/pNN_data_Pendigits_seed_1_Penalty_AL_Factor_0600.model\n",
      "[Errno 2] No such file or directory: './models/pNN_data_Pendigits_seed_1_Penalty_AL_Factor_0600.model'\n",
      "Error loading model_FT: ./models/pNN_data_Pendigits_seed_2_Penalty_AL_Factor_0600_FT.model\n",
      "[Errno 2] No such file or directory: './models/pNN_data_Pendigits_seed_2_Penalty_AL_Factor_0600_FT.model'\n",
      "Error loading model_FT: ./models/pNN_data_Pendigits_seed_3_Penalty_AL_Factor_0600_FT.model\n",
      "[Errno 2] No such file or directory: './models/pNN_data_Pendigits_seed_3_Penalty_AL_Factor_0600_FT.model'\n",
      "Error loading model_PT: ./models/pNN_data_Pendigits_seed_4_Penalty_AL_Factor_0600.model\n",
      "[Errno 2] No such file or directory: './models/pNN_data_Pendigits_seed_4_Penalty_AL_Factor_0600.model'\n",
      "Error loading model_FT: ./models/pNN_data_Pendigits_seed_5_Penalty_AL_Factor_0600_FT.model\n",
      "[Errno 2] No such file or directory: './models/pNN_data_Pendigits_seed_5_Penalty_AL_Factor_0600_FT.model'\n",
      "Error loading model_FT: ./models/pNN_data_Pendigits_seed_6_Penalty_AL_Factor_0600_FT.model\n",
      "[Errno 2] No such file or directory: './models/pNN_data_Pendigits_seed_6_Penalty_AL_Factor_0600_FT.model'\n",
      "Error loading model_FT: ./models/pNN_data_Pendigits_seed_8_Penalty_AL_Factor_0600_FT.model\n",
      "[Errno 2] No such file or directory: './models/pNN_data_Pendigits_seed_8_Penalty_AL_Factor_0600_FT.model'\n",
      "Error loading model_FT: ./models/pNN_data_Pendigits_seed_9_Penalty_AL_Factor_0600_FT.model\n",
      "[Errno 2] No such file or directory: './models/pNN_data_Pendigits_seed_9_Penalty_AL_Factor_0600_FT.model'\n"
     ]
    },
    {
     "data": {
      "application/vnd.jupyter.widget-view+json": {
       "model_id": "0ab06a1bc28a497eb398299dcf6665ed",
       "version_major": 2,
       "version_minor": 0
      },
      "text/plain": [
       "Seeds:   0%|          | 0/10 [00:00<?, ?it/s]"
      ]
     },
     "metadata": {},
     "output_type": "display_data"
    },
    {
     "name": "stdout",
     "output_type": "stream",
     "text": [
      "Error loading model_PT: ./models/pNN_data_Pendigits_seed_0_Penalty_AL_Factor_1200.model\n",
      "[Errno 2] No such file or directory: './models/pNN_data_Pendigits_seed_0_Penalty_AL_Factor_1200.model'\n",
      "Error loading model_FT: ./models/pNN_data_Pendigits_seed_1_Penalty_AL_Factor_1200_FT.model\n",
      "[Errno 2] No such file or directory: './models/pNN_data_Pendigits_seed_1_Penalty_AL_Factor_1200_FT.model'\n",
      "Error loading model_FT: ./models/pNN_data_Pendigits_seed_2_Penalty_AL_Factor_1200_FT.model\n",
      "[Errno 2] No such file or directory: './models/pNN_data_Pendigits_seed_2_Penalty_AL_Factor_1200_FT.model'\n",
      "Error loading model_PT: ./models/pNN_data_Pendigits_seed_3_Penalty_AL_Factor_1200.model\n",
      "[Errno 2] No such file or directory: './models/pNN_data_Pendigits_seed_3_Penalty_AL_Factor_1200.model'\n",
      "Error loading model_PT: ./models/pNN_data_Pendigits_seed_4_Penalty_AL_Factor_1200.model\n",
      "[Errno 2] No such file or directory: './models/pNN_data_Pendigits_seed_4_Penalty_AL_Factor_1200.model'\n",
      "Error loading model_FT: ./models/pNN_data_Pendigits_seed_9_Penalty_AL_Factor_1200_FT.model\n",
      "[Errno 2] No such file or directory: './models/pNN_data_Pendigits_seed_9_Penalty_AL_Factor_1200_FT.model'\n"
     ]
    },
    {
     "data": {
      "application/vnd.jupyter.widget-view+json": {
       "model_id": "d6035e13d72346edbb7c49149b974c85",
       "version_major": 2,
       "version_minor": 0
      },
      "text/plain": [
       "Seeds:   0%|          | 0/10 [00:00<?, ?it/s]"
      ]
     },
     "metadata": {},
     "output_type": "display_data"
    },
    {
     "name": "stdout",
     "output_type": "stream",
     "text": [
      "Error loading model_PT: ./models/pNN_data_Pendigits_seed_0_Penalty_AL_Factor_1800.model\n",
      "[Errno 2] No such file or directory: './models/pNN_data_Pendigits_seed_0_Penalty_AL_Factor_1800.model'\n",
      "Error loading model_PT: ./models/pNN_data_Pendigits_seed_3_Penalty_AL_Factor_1800.model\n",
      "[Errno 2] No such file or directory: './models/pNN_data_Pendigits_seed_3_Penalty_AL_Factor_1800.model'\n",
      "Error loading model_PT: ./models/pNN_data_Pendigits_seed_4_Penalty_AL_Factor_1800.model\n",
      "[Errno 2] No such file or directory: './models/pNN_data_Pendigits_seed_4_Penalty_AL_Factor_1800.model'\n"
     ]
    },
    {
     "data": {
      "application/vnd.jupyter.widget-view+json": {
       "model_id": "1baad30b34db4f5d90da344379837e98",
       "version_major": 2,
       "version_minor": 0
      },
      "text/plain": [
       "Seeds:   0%|          | 0/10 [00:00<?, ?it/s]"
      ]
     },
     "metadata": {},
     "output_type": "display_data"
    },
    {
     "name": "stdout",
     "output_type": "stream",
     "text": [
      "{'dataname': 'seeds', 'N_feature': 7, 'N_class': 3, 'N_train': 124, 'N_valid': 41, 'N_test': 43}\n"
     ]
    },
    {
     "data": {
      "application/vnd.jupyter.widget-view+json": {
       "model_id": "4cc3c7d613d24afa8d860e8273f08e16",
       "version_major": 2,
       "version_minor": 0
      },
      "text/plain": [
       "Power:   0%|          | 0/4 [00:00<?, ?it/s]"
      ]
     },
     "metadata": {},
     "output_type": "display_data"
    },
    {
     "data": {
      "application/vnd.jupyter.widget-view+json": {
       "model_id": "cbb0934835d1459991ac8f4a9ec292fa",
       "version_major": 2,
       "version_minor": 0
      },
      "text/plain": [
       "Seeds:   0%|          | 0/10 [00:00<?, ?it/s]"
      ]
     },
     "metadata": {},
     "output_type": "display_data"
    },
    {
     "data": {
      "application/vnd.jupyter.widget-view+json": {
       "model_id": "a0fbf2c444674046adc2c06c986d9058",
       "version_major": 2,
       "version_minor": 0
      },
      "text/plain": [
       "Seeds:   0%|          | 0/10 [00:00<?, ?it/s]"
      ]
     },
     "metadata": {},
     "output_type": "display_data"
    },
    {
     "data": {
      "application/vnd.jupyter.widget-view+json": {
       "model_id": "23681b80204f4c549a08c94f0dae4289",
       "version_major": 2,
       "version_minor": 0
      },
      "text/plain": [
       "Seeds:   0%|          | 0/10 [00:00<?, ?it/s]"
      ]
     },
     "metadata": {},
     "output_type": "display_data"
    },
    {
     "data": {
      "application/vnd.jupyter.widget-view+json": {
       "model_id": "5f693bfcb95e431c82b6922b572085b1",
       "version_major": 2,
       "version_minor": 0
      },
      "text/plain": [
       "Seeds:   0%|          | 0/10 [00:00<?, ?it/s]"
      ]
     },
     "metadata": {},
     "output_type": "display_data"
    },
    {
     "name": "stdout",
     "output_type": "stream",
     "text": [
      "{'dataname': 'tictactoe', 'N_feature': 9, 'N_class': 2, 'N_train': 573, 'N_valid': 191, 'N_test': 192}\n"
     ]
    },
    {
     "data": {
      "application/vnd.jupyter.widget-view+json": {
       "model_id": "68f68e7f687b463fae56497e0ac4b7c0",
       "version_major": 2,
       "version_minor": 0
      },
      "text/plain": [
       "Power:   0%|          | 0/4 [00:00<?, ?it/s]"
      ]
     },
     "metadata": {},
     "output_type": "display_data"
    },
    {
     "data": {
      "application/vnd.jupyter.widget-view+json": {
       "model_id": "08374877c71b46cca910939ce5e52709",
       "version_major": 2,
       "version_minor": 0
      },
      "text/plain": [
       "Seeds:   0%|          | 0/10 [00:00<?, ?it/s]"
      ]
     },
     "metadata": {},
     "output_type": "display_data"
    },
    {
     "data": {
      "application/vnd.jupyter.widget-view+json": {
       "model_id": "7cdf8c82184942f187e939d3b3bd2c74",
       "version_major": 2,
       "version_minor": 0
      },
      "text/plain": [
       "Seeds:   0%|          | 0/10 [00:00<?, ?it/s]"
      ]
     },
     "metadata": {},
     "output_type": "display_data"
    },
    {
     "data": {
      "application/vnd.jupyter.widget-view+json": {
       "model_id": "d8bd0c7f873a4c29a0dfb2524e4d29d8",
       "version_major": 2,
       "version_minor": 0
      },
      "text/plain": [
       "Seeds:   0%|          | 0/10 [00:00<?, ?it/s]"
      ]
     },
     "metadata": {},
     "output_type": "display_data"
    },
    {
     "data": {
      "application/vnd.jupyter.widget-view+json": {
       "model_id": "b84d946103c14800976517f624e0be3f",
       "version_major": 2,
       "version_minor": 0
      },
      "text/plain": [
       "Seeds:   0%|          | 0/10 [00:00<?, ?it/s]"
      ]
     },
     "metadata": {},
     "output_type": "display_data"
    },
    {
     "name": "stdout",
     "output_type": "stream",
     "text": [
      "{'dataname': 'vertebralcolumn2clases', 'N_feature': 6, 'N_class': 2, 'N_train': 184, 'N_valid': 61, 'N_test': 63}\n"
     ]
    },
    {
     "data": {
      "application/vnd.jupyter.widget-view+json": {
       "model_id": "d28bacb76be14d81b580da87a41856bf",
       "version_major": 2,
       "version_minor": 0
      },
      "text/plain": [
       "Power:   0%|          | 0/4 [00:00<?, ?it/s]"
      ]
     },
     "metadata": {},
     "output_type": "display_data"
    },
    {
     "data": {
      "application/vnd.jupyter.widget-view+json": {
       "model_id": "cf268c321e454d23b0db743374c9d4f2",
       "version_major": 2,
       "version_minor": 0
      },
      "text/plain": [
       "Seeds:   0%|          | 0/10 [00:00<?, ?it/s]"
      ]
     },
     "metadata": {},
     "output_type": "display_data"
    },
    {
     "data": {
      "application/vnd.jupyter.widget-view+json": {
       "model_id": "db98c730819d4f329861c1174b3e2d5b",
       "version_major": 2,
       "version_minor": 0
      },
      "text/plain": [
       "Seeds:   0%|          | 0/10 [00:00<?, ?it/s]"
      ]
     },
     "metadata": {},
     "output_type": "display_data"
    },
    {
     "data": {
      "application/vnd.jupyter.widget-view+json": {
       "model_id": "e264d674ab024f32be0406cbe4d23386",
       "version_major": 2,
       "version_minor": 0
      },
      "text/plain": [
       "Seeds:   0%|          | 0/10 [00:00<?, ?it/s]"
      ]
     },
     "metadata": {},
     "output_type": "display_data"
    },
    {
     "data": {
      "application/vnd.jupyter.widget-view+json": {
       "model_id": "cea348fb7b0b43bd8c0b3bebccfeb014",
       "version_major": 2,
       "version_minor": 0
      },
      "text/plain": [
       "Seeds:   0%|          | 0/10 [00:00<?, ?it/s]"
      ]
     },
     "metadata": {},
     "output_type": "display_data"
    },
    {
     "name": "stdout",
     "output_type": "stream",
     "text": [
      "{'dataname': 'vertebralcolumn3clases', 'N_feature': 6, 'N_class': 3, 'N_train': 184, 'N_valid': 61, 'N_test': 63}\n"
     ]
    },
    {
     "data": {
      "application/vnd.jupyter.widget-view+json": {
       "model_id": "92553fa2a01543998a830d6e8ae50410",
       "version_major": 2,
       "version_minor": 0
      },
      "text/plain": [
       "Power:   0%|          | 0/4 [00:00<?, ?it/s]"
      ]
     },
     "metadata": {},
     "output_type": "display_data"
    },
    {
     "data": {
      "application/vnd.jupyter.widget-view+json": {
       "model_id": "e61615602dee4a23b471f344728a5144",
       "version_major": 2,
       "version_minor": 0
      },
      "text/plain": [
       "Seeds:   0%|          | 0/10 [00:00<?, ?it/s]"
      ]
     },
     "metadata": {},
     "output_type": "display_data"
    },
    {
     "data": {
      "application/vnd.jupyter.widget-view+json": {
       "model_id": "c585fb79dc8349dd8baaa2804b1ba324",
       "version_major": 2,
       "version_minor": 0
      },
      "text/plain": [
       "Seeds:   0%|          | 0/10 [00:00<?, ?it/s]"
      ]
     },
     "metadata": {},
     "output_type": "display_data"
    },
    {
     "data": {
      "application/vnd.jupyter.widget-view+json": {
       "model_id": "f1864fa4ef0c4d68a11be8b132814238",
       "version_major": 2,
       "version_minor": 0
      },
      "text/plain": [
       "Seeds:   0%|          | 0/10 [00:00<?, ?it/s]"
      ]
     },
     "metadata": {},
     "output_type": "display_data"
    },
    {
     "data": {
      "application/vnd.jupyter.widget-view+json": {
       "model_id": "e4c2b905b9e74735ac0558243eb8a657",
       "version_major": 2,
       "version_minor": 0
      },
      "text/plain": [
       "Seeds:   0%|          | 0/10 [00:00<?, ?it/s]"
      ]
     },
     "metadata": {},
     "output_type": "display_data"
    }
   ],
   "source": [
    "from tqdm.notebook import tqdm\n",
    "\n",
    "dataset_num = 13 \n",
    "\n",
    "results = torch.zeros([10, 4, dataset_num, 8])\n",
    "\n",
    "evaluator = Evaluator(args).to(args.DEVICE)\n",
    "\n",
    "for ds in tqdm(range(dataset_num), desc=\"Datasets\"):\n",
    "    args.DATASET = ds\n",
    "    valid_loader, datainfo = GetDataLoader(args, 'valid', path='../dataset/')\n",
    "    test_loader, datainfo = GetDataLoader(args, 'test', path='../dataset/')\n",
    "    print(datainfo)\n",
    "\n",
    "    for p, power in enumerate(tqdm(target[:,ds], desc=\"Power\", leave=False)):\n",
    "        \n",
    "        args.powerbalance = power\n",
    "        \n",
    "        for seed in tqdm(range(10), desc=\"Seeds\", leave=False):\n",
    "\n",
    "            args.SEED = seed\n",
    "            \n",
    "            for x, y in valid_loader:\n",
    "                X_valid, y_valid = x.to(args.DEVICE), y.to(args.DEVICE)\n",
    "            for x, y in test_loader:\n",
    "                X_test, y_test = x.to(args.DEVICE), y.to(args.DEVICE)\n",
    "\n",
    "            setup = f\"data_{datainfo['dataname']}_seed_{args.SEED}_Penalty_{args.powerestimator}_Factor_{int(args.powerbalance):04d}\"\n",
    "\n",
    "            model_PT_name = f'./models/pNN_{setup}.model'\n",
    "            model_FT_name = f'./models/pNN_{setup}_FT.model'\n",
    "            # model_FT_RESET_name = f'./models/pNN_{setup}_FT_reset.model'\n",
    "            \n",
    "            try:\n",
    "                model_PT = torch.load(model_PT_name)\n",
    "            except Exception as e:\n",
    "                print(f\"Error loading model_PT: {model_PT_name}\")\n",
    "                print(e)\n",
    "                continue\n",
    "            \n",
    "            try:\n",
    "                model_FT = torch.load(model_FT_name)\n",
    "            except Exception as e:\n",
    "                print(f\"Error loading model_FT: {model_FT_name}\")\n",
    "                print(e)\n",
    "                continue\n",
    "\n",
    "            # try:\n",
    "            #     model_FT_RESET = torch.load(model_FT_RESET_name)\n",
    "            # except Exception as e:\n",
    "            #     print(f\"Error loading model_FT: {model_FT_RESET_name}\")\n",
    "            #     print(e)\n",
    "            #     continue\n",
    "            \n",
    "            acc_valid_pt, power_valid_pt = evaluator(model_PT, X_valid, y_valid)\n",
    "            acc_test_pt, power_test_pt = evaluator(model_PT, X_test, y_test)\n",
    "\n",
    "            acc_valid_ft, power_valid_ft = evaluator(model_FT, X_valid, y_valid)\n",
    "            acc_test_ft, power_test_ft = evaluator(model_FT, X_test, y_test)\n",
    "\n",
    "            # acc_valid_ft_reset, power_valid_ft_reset = evaluator(model_FT_RESET, X_valid, y_valid)\n",
    "            # acc_test_ft_reset, power_test_ft_reset = evaluator(model_FT_RESET, X_test, y_test)\n",
    "            \n",
    "            results[seed, p, ds, 0] = acc_valid_pt\n",
    "            results[seed, p, ds, 1] = power_valid_pt.cpu().item() * 1000000\n",
    "            results[seed, p, ds, 2] = acc_test_pt\n",
    "            results[seed, p, ds, 3] = power_test_pt.cpu().item() * 1000000\n",
    "\n",
    "            results[seed, p, ds, 4] = acc_valid_ft\n",
    "            results[seed, p, ds, 5] = power_valid_ft.cpu().item() * 1000000\n",
    "            results[seed, p, ds, 6] = acc_test_ft\n",
    "            results[seed, p, ds, 7] = power_test_ft.cpu().item() * 1000000\n",
    "\n",
    "            # results[seed, p, ds, 8] = acc_valid_ft_reset\n",
    "            # results[seed, p, ds, 9] = power_valid_ft_reset.cpu().item() * 1000000\n",
    "            # results[seed, p, ds, 10] = acc_test_ft_reset\n",
    "            # results[seed, p, ds, 11] = power_test_ft_reset.cpu().item() * 1000000\n"
   ]
  },
  {
   "cell_type": "code",
   "execution_count": 4,
   "id": "ceca417c-f036-45cc-a39d-87eda14701c4",
   "metadata": {},
   "outputs": [],
   "source": [
    "torch.save(results, f'./{dataset_num}_sig_result.matrix')\n",
    "torch.save(results, f'../RESULT/{dataset_num}_sig_result_AL.matrix')"
   ]
  },
  {
   "cell_type": "code",
   "execution_count": 5,
   "id": "1b22fe73-bcb4-4cad-a4a3-36061fc2f168",
   "metadata": {},
   "outputs": [],
   "source": [
    "import torch"
   ]
  },
  {
   "cell_type": "code",
   "execution_count": 7,
   "id": "9100dbef-5c09-4a23-96d6-bfea72a8a83f",
   "metadata": {},
   "outputs": [],
   "source": [
    "results = torch.load(f'./{dataset_num}_sig_result.matrix')"
   ]
  },
  {
   "cell_type": "code",
   "execution_count": 8,
   "id": "f20829df-0a08-4595-ad7d-d473002c6c7d",
   "metadata": {},
   "outputs": [
    {
     "data": {
      "text/plain": [
       "torch.Size([10, 4, 13, 8])"
      ]
     },
     "execution_count": 8,
     "metadata": {},
     "output_type": "execute_result"
    }
   ],
   "source": [
    "results.shape"
   ]
  },
  {
   "cell_type": "markdown",
   "id": "405c3dd6",
   "metadata": {},
   "source": []
  },
  {
   "cell_type": "code",
   "execution_count": 9,
   "id": "da58f7e5-b522-4a0d-8a15-2f90803627c2",
   "metadata": {},
   "outputs": [],
   "source": [
    "import torch\n",
    "import os\n",
    "import matplotlib.pyplot as plt\n",
    "import numpy as np\n",
    "import sys\n",
    "sys.path.append('../utils/')\n",
    "import FigureConfig as FC"
   ]
  },
  {
   "cell_type": "code",
   "execution_count": 15,
   "id": "b8d4c259-3790-4389-81b8-9a72b313633a",
   "metadata": {},
   "outputs": [
    {
     "data": {
      "text/plain": [
       "torch.Size([10, 4, 8])"
      ]
     },
     "execution_count": 15,
     "metadata": {},
     "output_type": "execute_result"
    }
   ],
   "source": [
    "ds = 6\n",
    "result_temp = results[:,:,ds,:]\n",
    "result_temp.shape"
   ]
  },
  {
   "cell_type": "code",
   "execution_count": 16,
   "id": "82747ba7-9b2d-4b29-8d31-1fd25d9bbb1b",
   "metadata": {},
   "outputs": [
    {
     "data": {
      "image/png": "[encoded data removed]",
      "text/plain": [
       "<Figure size 640x480 with 1 Axes>"
      ]
     },
     "metadata": {},
     "output_type": "display_data"
    }
   ],
   "source": [
    "plt.figure()\n",
    "for i in range(4):\n",
    "    idx = torch.argmax(result_temp[:,i,2].flatten())\n",
    "    plt.scatter(result_temp[idx,i,3],result_temp[idx,i,2], color = 'blue')\n",
    "    plt.scatter(result_temp[idx,i,7],result_temp[idx,i,6], color = 'red')\n",
    "    # plt.scatter(result_temp[idx,i,11],result_temp[idx,i,10], color = 'orange')"
   ]
  },
  {
   "cell_type": "code",
   "execution_count": 41,
   "id": "84dddbcc-554a-4c84-b21a-c4533f3ebce9",
   "metadata": {},
   "outputs": [
    {
     "data": {
      "text/plain": [
       "tensor(2)"
      ]
     },
     "execution_count": 41,
     "metadata": {},
     "output_type": "execute_result"
    }
   ],
   "source": [
    "torch.argmax(result_temp[:,1,2].flatten())"
   ]
  },
  {
   "cell_type": "code",
   "execution_count": null,
   "id": "d71ec842-6512-4c0a-82d7-b91cd46005de",
   "metadata": {},
   "outputs": [],
   "source": []
  }
 ],
 "metadata": {
  "kernelspec": {
   "display_name": "train-model",
   "language": "python",
   "name": "python3"
  },
  "language_info": {
   "codemirror_mode": {
    "name": "ipython",
    "version": 3
   },
   "file_extension": ".py",
   "mimetype": "text/x-python",
   "name": "python",
   "nbconvert_exporter": "python",
   "pygments_lexer": "ipython3",
   "version": "3.12.2"
  }
 },
 "nbformat": 4,
 "nbformat_minor": 5
}
