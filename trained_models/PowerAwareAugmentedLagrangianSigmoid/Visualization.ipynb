{
 "cells": [
  {
   "cell_type": "code",
   "execution_count": 1,
   "id": "0ad4ffb4-0ffe-4f13-ae95-19a0afc99f32",
   "metadata": {
    "tags": []
   },
   "outputs": [],
   "source": [
    "import torch\n",
    "import os\n",
    "import matplotlib.pyplot as plt\n",
    "import numpy as np\n",
    "import sys\n",
    "sys.path.append('../utils/')\n",
    "import FigureConfig as FC"
   ]
  },
  {
   "cell_type": "code",
   "execution_count": 2,
   "id": "6c0e8dd1-dc2e-4ebf-bd1a-51a3ca40bc25",
   "metadata": {
    "tags": []
   },
   "outputs": [],
   "source": [
    "alpha = torch.linspace(0,1,51)"
   ]
  },
  {
   "cell_type": "code",
   "execution_count": 3,
   "id": "991c6574",
   "metadata": {},
   "outputs": [],
   "source": [
    "dataset_num = 13\n",
    "act = 'sig'"
   ]
  },
  {
   "cell_type": "code",
   "execution_count": 4,
   "id": "337a934b-bae6-4117-98d8-f3533601c4ca",
   "metadata": {
    "tags": []
   },
   "outputs": [
    {
     "data": {
      "text/plain": [
       "torch.Size([10, 4, 13, 8])"
      ]
     },
     "execution_count": 4,
     "metadata": {},
     "output_type": "execute_result"
    }
   ],
   "source": [
    "result = torch.load(f'{dataset_num}_{act}_result.matrix')\n",
    "result.shape"
   ]
  },
  {
   "cell_type": "markdown",
   "id": "cca3f90b-d3a5-484a-8147-d4bd363d13c8",
   "metadata": {},
   "source": [
    "# analysis"
   ]
  },
  {
   "cell_type": "code",
   "execution_count": 5,
   "id": "9455859d-5e8c-4554-aada-596edc6b478f",
   "metadata": {
    "tags": []
   },
   "outputs": [
    {
     "data": {
      "text/plain": [
       "torch.Size([10, 4, 13, 8])"
      ]
     },
     "execution_count": 5,
     "metadata": {},
     "output_type": "execute_result"
    }
   ],
   "source": [
    "result.shape"
   ]
  },
  {
   "cell_type": "code",
   "execution_count": 6,
   "id": "92d97916-a06c-4489-9294-63b8621310c5",
   "metadata": {},
   "outputs": [
    {
     "data": {
      "text/plain": [
       "torch.Size([8])"
      ]
     },
     "execution_count": 6,
     "metadata": {},
     "output_type": "execute_result"
    }
   ],
   "source": [
    "pt_vs_ft = result.mean([0,1,2])\n",
    "pt_vs_ft.shape"
   ]
  },
  {
   "cell_type": "code",
   "execution_count": 7,
   "id": "ae06b896-207a-40e2-b8d8-70912af797a0",
   "metadata": {},
   "outputs": [
    {
     "name": "stdout",
     "output_type": "stream",
     "text": [
      "mena acc and power from pretraining:       [0.6867753267288208, 646.9173583984375]\n"
     ]
    }
   ],
   "source": [
    "print('mena acc and power from pretraining:      ', pt_vs_ft[2:4].tolist())"
   ]
  },
  {
   "cell_type": "code",
   "execution_count": 8,
   "id": "22eb913b-5fe7-4c70-8a22-56e6cb44b64e",
   "metadata": {},
   "outputs": [
    {
     "name": "stdout",
     "output_type": "stream",
     "text": [
      "mean acc and power from fine tuning:       [0.626043438911438, 629.4183349609375]\n"
     ]
    }
   ],
   "source": [
    "print('mean acc and power from fine tuning:      ', pt_vs_ft[6:8].tolist())"
   ]
  },
  {
   "cell_type": "markdown",
   "id": "19f3a5f7-77a2-406a-bcc0-e4cb0b6a6c64",
   "metadata": {},
   "source": [
    "# Pareto"
   ]
  },
  {
   "cell_type": "code",
   "execution_count": null,
   "id": "30f129e0-4ea3-426e-bef5-f6233e495c32",
   "metadata": {
    "tags": []
   },
   "outputs": [
    {
     "data": {
      "text/plain": [
       "torch.Size([10, 4, 13])"
      ]
     },
     "execution_count": 9,
     "metadata": {},
     "output_type": "execute_result"
    }
   ],
   "source": [
    "acc_points_pt = result[:,:,:,2]\n",
    "power_points_pt = result[:,:,:,3] / 1e3\n",
    "acc_points_ft = result[:,:,:,6]\n",
    "power_points_ft = result[:,:,:,7] / 1e3\n",
    "# acc_points_ft_reset = result[:,:,:,6]\n",
    "# power_points_ft_reset = result[:,:,:,7] / 1e3\n",
    "acc_points_pt.shape"
   ]
  },
  {
   "cell_type": "code",
   "execution_count": 10,
   "id": "9bd1f15e-145e-4418-97fc-bb16c66f0142",
   "metadata": {},
   "outputs": [],
   "source": [
    "lims = [[0,1000 / 1e3],\n",
    "        [0,1200 / 1e3],\n",
    "        [0,2000 / 1e3],\n",
    "        [0,2500 / 1e3],\n",
    "        [0,1500 / 1e3],\n",
    "        [0,1500 / 1e3],\n",
    "        [0,1000 / 1e3],\n",
    "        [0,1500 / 1e3],\n",
    "        [0,3000 / 1e3],\n",
    "        [0,1400 / 1e3],\n",
    "        [0,1700 / 1e3],\n",
    "        [0,1400 / 1e3],\n",
    "        [0,1200 / 1e3]]"
   ]
  },
  {
   "cell_type": "code",
   "execution_count": 11,
   "id": "5b412a81-8015-47e7-9f52-6e355cc92c5a",
   "metadata": {},
   "outputs": [],
   "source": [
    "import numpy as np\n",
    "\n",
    "target = [[ 200.,  240.,  400.,  500.,  300.,  300.,  200.,  300.,  600.,  280.,  340.,  280.,  240.],\n",
    "          [ 400.,  480.,  800., 1000.,  600.,  600.,  400.,  600., 1200.,  560.,  680.,  560.,  480.],\n",
    "          [ 600.,  720., 1200., 1500.,  900.,  900.,  600.,  900., 1800.,  840., 1020.,  840.,  720.],\n",
    "          [ 800.,  960., 1600., 2000., 1200., 1200.,  800., 1200., 2400., 1120., 1360., 1120.,  960.]]\n",
    "\n",
    "target = np.array(target)\n",
    "torch.save(torch.tensor(target), f'../RESULT/{dataset_num}_{act}_target.matrix')"
   ]
  },
  {
   "cell_type": "code",
   "execution_count": null,
   "id": "b6007810-1375-4778-a68e-b0e624d3550b",
   "metadata": {},
   "outputs": [],
   "source": []
  }
 ],
 "metadata": {
  "kernelspec": {
   "display_name": "train-model",
   "language": "python",
   "name": "python3"
  },
  "language_info": {
   "codemirror_mode": {
    "name": "ipython",
    "version": 3
   },
   "file_extension": ".py",
   "mimetype": "text/x-python",
   "name": "python",
   "nbconvert_exporter": "python",
   "pygments_lexer": "ipython3",
   "version": "3.12.2"
  }
 },
 "nbformat": 4,
 "nbformat_minor": 5
}
