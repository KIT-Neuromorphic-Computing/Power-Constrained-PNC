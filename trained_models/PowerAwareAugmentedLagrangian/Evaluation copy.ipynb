{
 "cells": [
  {
   "cell_type": "markdown",
   "id": "5129c176",
   "metadata": {},
   "source": [
    "## Import Libraries"
   ]
  },
  {
   "cell_type": "code",
   "execution_count": 1,
   "id": "1ec2c855-90e5-473b-85d4-0938c0fa99b4",
   "metadata": {},
   "outputs": [],
   "source": [
    "import os\n",
    "import sys\n",
    "from pathlib import Path\n",
    "sys.path.append(os.getcwd())\n",
    "sys.path.append(str(Path(os.getcwd()).parent))\n",
    "sys.path.append(os.path.join(os.getcwd(), 'utils'))\n",
    "import matplotlib.pyplot as plt\n",
    "from configuration import *\n",
    "import torch\n",
    "import numpy as np\n",
    "import pprint\n",
    "import pNN_Power_Aware as pNN\n",
    "from utils import *\n",
    "\n",
    "args = parser.parse_args([])\n",
    "args = FormulateArgs(args)\n",
    "\n",
    "args.powerestimator = 'AL'"
   ]
  },
  {
   "cell_type": "markdown",
   "id": "b76f4282",
   "metadata": {},
   "source": [
    "## Constant values"
   ]
  },
  {
   "cell_type": "code",
   "execution_count": 2,
   "id": "264aa840-df61-4c50-93a3-5c5cdcbe53d4",
   "metadata": {},
   "outputs": [
    {
     "data": {
      "text/plain": [
       "(4, 13)"
      ]
     },
     "execution_count": 2,
     "metadata": {},
     "output_type": "execute_result"
    }
   ],
   "source": [
    "target = [[ 200.,  240.,  400.,  500.,  300.,  300.,  200.,  300.,  600.,  280.,  340.,  280.,  240.],\n",
    "          [ 400.,  480.,  800., 1000.,  600.,  600.,  400.,  600., 1200.,  560.,  680.,  560.,  480.],\n",
    "          [ 600.,  720., 1200., 1500.,  900.,  900.,  600.,  900., 1800.,  840., 1020.,  840.,  720.],\n",
    "          [ 800.,  960., 1600., 2000., 1200., 1200.,  800., 1200., 2400., 1120., 1360., 1120.,  960.]]\n",
    "\n",
    "target = np.array(target)\n",
    "target.shape"
   ]
  },
  {
   "cell_type": "markdown",
   "id": "afa5e30c",
   "metadata": {},
   "source": [
    "## Check the model existence"
   ]
  },
  {
   "cell_type": "code",
   "execution_count": 3,
   "id": "5c705551",
   "metadata": {},
   "outputs": [
    {
     "data": {
      "application/vnd.jupyter.widget-view+json": {
       "model_id": "88f9027003ac4fc19decb93d330a333b",
       "version_major": 2,
       "version_minor": 0
      },
      "text/plain": [
       "Datasets:   0%|          | 0/13 [00:00<?, ?it/s]"
      ]
     },
     "metadata": {},
     "output_type": "display_data"
    },
    {
     "name": "stdout",
     "output_type": "stream",
     "text": [
      "{'dataname': 'acuteinflammation', 'N_feature': 6, 'N_class': 2, 'N_train': 70, 'N_valid': 23, 'N_test': 25}\n"
     ]
    },
    {
     "data": {
      "application/vnd.jupyter.widget-view+json": {
       "model_id": "1949541d08e54c90bb309f7162315d37",
       "version_major": 2,
       "version_minor": 0
      },
      "text/plain": [
       "Power:   0%|          | 0/4 [00:00<?, ?it/s]"
      ]
     },
     "metadata": {},
     "output_type": "display_data"
    },
    {
     "data": {
      "application/vnd.jupyter.widget-view+json": {
       "model_id": "67f79897757e444295e14c1f92f71715",
       "version_major": 2,
       "version_minor": 0
      },
      "text/plain": [
       "Seeds:   0%|          | 0/10 [00:00<?, ?it/s]"
      ]
     },
     "metadata": {},
     "output_type": "display_data"
    },
    {
     "data": {
      "application/vnd.jupyter.widget-view+json": {
       "model_id": "81ae798304c640f9bd3280c0e5dea382",
       "version_major": 2,
       "version_minor": 0
      },
      "text/plain": [
       "Seeds:   0%|          | 0/10 [00:00<?, ?it/s]"
      ]
     },
     "metadata": {},
     "output_type": "display_data"
    },
    {
     "data": {
      "application/vnd.jupyter.widget-view+json": {
       "model_id": "0a74e73c29ff44deb04cc508e1ed5ea6",
       "version_major": 2,
       "version_minor": 0
      },
      "text/plain": [
       "Seeds:   0%|          | 0/10 [00:00<?, ?it/s]"
      ]
     },
     "metadata": {},
     "output_type": "display_data"
    },
    {
     "data": {
      "application/vnd.jupyter.widget-view+json": {
       "model_id": "253073ebe64c49b996b11a84389ff489",
       "version_major": 2,
       "version_minor": 0
      },
      "text/plain": [
       "Seeds:   0%|          | 0/10 [00:00<?, ?it/s]"
      ]
     },
     "metadata": {},
     "output_type": "display_data"
    },
    {
     "name": "stdout",
     "output_type": "stream",
     "text": [
      "{'dataname': 'balancescale', 'N_feature': 4, 'N_class': 3, 'N_train': 373, 'N_valid': 124, 'N_test': 126}\n"
     ]
    },
    {
     "data": {
      "application/vnd.jupyter.widget-view+json": {
       "model_id": "49e4412c30dd486a85ef16c17cff4258",
       "version_major": 2,
       "version_minor": 0
      },
      "text/plain": [
       "Power:   0%|          | 0/4 [00:00<?, ?it/s]"
      ]
     },
     "metadata": {},
     "output_type": "display_data"
    },
    {
     "data": {
      "application/vnd.jupyter.widget-view+json": {
       "model_id": "554f731fb3d9449d8a497bd9e0fbb7c5",
       "version_major": 2,
       "version_minor": 0
      },
      "text/plain": [
       "Seeds:   0%|          | 0/10 [00:00<?, ?it/s]"
      ]
     },
     "metadata": {},
     "output_type": "display_data"
    },
    {
     "data": {
      "application/vnd.jupyter.widget-view+json": {
       "model_id": "35aa499efc754499a4e77ae0fa86a535",
       "version_major": 2,
       "version_minor": 0
      },
      "text/plain": [
       "Seeds:   0%|          | 0/10 [00:00<?, ?it/s]"
      ]
     },
     "metadata": {},
     "output_type": "display_data"
    },
    {
     "data": {
      "application/vnd.jupyter.widget-view+json": {
       "model_id": "3a645646091c47dd8921aa7b7d032e72",
       "version_major": 2,
       "version_minor": 0
      },
      "text/plain": [
       "Seeds:   0%|          | 0/10 [00:00<?, ?it/s]"
      ]
     },
     "metadata": {},
     "output_type": "display_data"
    },
    {
     "data": {
      "application/vnd.jupyter.widget-view+json": {
       "model_id": "49f81b9048014084a706ea84764fad97",
       "version_major": 2,
       "version_minor": 0
      },
      "text/plain": [
       "Seeds:   0%|          | 0/10 [00:00<?, ?it/s]"
      ]
     },
     "metadata": {},
     "output_type": "display_data"
    },
    {
     "name": "stdout",
     "output_type": "stream",
     "text": [
      "{'dataname': 'breastcancerwisc', 'N_feature': 9, 'N_class': 2, 'N_train': 418, 'N_valid': 139, 'N_test': 140}\n"
     ]
    },
    {
     "data": {
      "application/vnd.jupyter.widget-view+json": {
       "model_id": "f1ef15eb480e4d64b71f27407cf30784",
       "version_major": 2,
       "version_minor": 0
      },
      "text/plain": [
       "Power:   0%|          | 0/4 [00:00<?, ?it/s]"
      ]
     },
     "metadata": {},
     "output_type": "display_data"
    },
    {
     "data": {
      "application/vnd.jupyter.widget-view+json": {
       "model_id": "1f0e91854f3d47688db6b1585f407aa0",
       "version_major": 2,
       "version_minor": 0
      },
      "text/plain": [
       "Seeds:   0%|          | 0/10 [00:00<?, ?it/s]"
      ]
     },
     "metadata": {},
     "output_type": "display_data"
    },
    {
     "data": {
      "application/vnd.jupyter.widget-view+json": {
       "model_id": "d72e07a0b3534a2691ebd36b85201f4c",
       "version_major": 2,
       "version_minor": 0
      },
      "text/plain": [
       "Seeds:   0%|          | 0/10 [00:00<?, ?it/s]"
      ]
     },
     "metadata": {},
     "output_type": "display_data"
    },
    {
     "data": {
      "application/vnd.jupyter.widget-view+json": {
       "model_id": "f9e6b7d6a9c941d49003715a9dda5784",
       "version_major": 2,
       "version_minor": 0
      },
      "text/plain": [
       "Seeds:   0%|          | 0/10 [00:00<?, ?it/s]"
      ]
     },
     "metadata": {},
     "output_type": "display_data"
    },
    {
     "data": {
      "application/vnd.jupyter.widget-view+json": {
       "model_id": "f362e9497d844659a35ff042319c64b7",
       "version_major": 2,
       "version_minor": 0
      },
      "text/plain": [
       "Seeds:   0%|          | 0/10 [00:00<?, ?it/s]"
      ]
     },
     "metadata": {},
     "output_type": "display_data"
    },
    {
     "name": "stdout",
     "output_type": "stream",
     "text": [
      "{'dataname': 'cardiotocography3clases', 'N_feature': 21, 'N_class': 3, 'N_train': 1274, 'N_valid': 424, 'N_test': 426}\n"
     ]
    },
    {
     "data": {
      "application/vnd.jupyter.widget-view+json": {
       "model_id": "ceecc5d07d6847cfa1ae6c5b7750b79f",
       "version_major": 2,
       "version_minor": 0
      },
      "text/plain": [
       "Power:   0%|          | 0/4 [00:00<?, ?it/s]"
      ]
     },
     "metadata": {},
     "output_type": "display_data"
    },
    {
     "data": {
      "application/vnd.jupyter.widget-view+json": {
       "model_id": "04b7c8cab84841a387e4c495307aee38",
       "version_major": 2,
       "version_minor": 0
      },
      "text/plain": [
       "Seeds:   0%|          | 0/10 [00:00<?, ?it/s]"
      ]
     },
     "metadata": {},
     "output_type": "display_data"
    },
    {
     "data": {
      "application/vnd.jupyter.widget-view+json": {
       "model_id": "dff9051ff3cb4c468f516b344aea2a4b",
       "version_major": 2,
       "version_minor": 0
      },
      "text/plain": [
       "Seeds:   0%|          | 0/10 [00:00<?, ?it/s]"
      ]
     },
     "metadata": {},
     "output_type": "display_data"
    },
    {
     "data": {
      "application/vnd.jupyter.widget-view+json": {
       "model_id": "f5f2d584878046f4868500e21f7c6f13",
       "version_major": 2,
       "version_minor": 0
      },
      "text/plain": [
       "Seeds:   0%|          | 0/10 [00:00<?, ?it/s]"
      ]
     },
     "metadata": {},
     "output_type": "display_data"
    },
    {
     "data": {
      "application/vnd.jupyter.widget-view+json": {
       "model_id": "bb018e65fe62461ba3f5f1e4d1903ee5",
       "version_major": 2,
       "version_minor": 0
      },
      "text/plain": [
       "Seeds:   0%|          | 0/10 [00:00<?, ?it/s]"
      ]
     },
     "metadata": {},
     "output_type": "display_data"
    },
    {
     "name": "stdout",
     "output_type": "stream",
     "text": [
      "{'dataname': 'energyy1', 'N_feature': 8, 'N_class': 3, 'N_train': 459, 'N_valid': 153, 'N_test': 154}\n"
     ]
    },
    {
     "data": {
      "application/vnd.jupyter.widget-view+json": {
       "model_id": "6bf4fec443934c5db6b2695fba900428",
       "version_major": 2,
       "version_minor": 0
      },
      "text/plain": [
       "Power:   0%|          | 0/4 [00:00<?, ?it/s]"
      ]
     },
     "metadata": {},
     "output_type": "display_data"
    },
    {
     "data": {
      "application/vnd.jupyter.widget-view+json": {
       "model_id": "7f333707ed6549d1a778173b82f06b80",
       "version_major": 2,
       "version_minor": 0
      },
      "text/plain": [
       "Seeds:   0%|          | 0/10 [00:00<?, ?it/s]"
      ]
     },
     "metadata": {},
     "output_type": "display_data"
    },
    {
     "data": {
      "application/vnd.jupyter.widget-view+json": {
       "model_id": "8372562b93ec48a7b4d8954463a6c8ba",
       "version_major": 2,
       "version_minor": 0
      },
      "text/plain": [
       "Seeds:   0%|          | 0/10 [00:00<?, ?it/s]"
      ]
     },
     "metadata": {},
     "output_type": "display_data"
    },
    {
     "data": {
      "application/vnd.jupyter.widget-view+json": {
       "model_id": "28b2c7f835de4690a5c4d2a09b6161e2",
       "version_major": 2,
       "version_minor": 0
      },
      "text/plain": [
       "Seeds:   0%|          | 0/10 [00:00<?, ?it/s]"
      ]
     },
     "metadata": {},
     "output_type": "display_data"
    },
    {
     "data": {
      "application/vnd.jupyter.widget-view+json": {
       "model_id": "77f9325bd8604410a513684b67ae0682",
       "version_major": 2,
       "version_minor": 0
      },
      "text/plain": [
       "Seeds:   0%|          | 0/10 [00:00<?, ?it/s]"
      ]
     },
     "metadata": {},
     "output_type": "display_data"
    },
    {
     "name": "stdout",
     "output_type": "stream",
     "text": [
      "{'dataname': 'energyy2', 'N_feature': 8, 'N_class': 3, 'N_train': 459, 'N_valid': 153, 'N_test': 154}\n"
     ]
    },
    {
     "data": {
      "application/vnd.jupyter.widget-view+json": {
       "model_id": "4228e9f527804c63b33bc5f4f3843700",
       "version_major": 2,
       "version_minor": 0
      },
      "text/plain": [
       "Power:   0%|          | 0/4 [00:00<?, ?it/s]"
      ]
     },
     "metadata": {},
     "output_type": "display_data"
    },
    {
     "data": {
      "application/vnd.jupyter.widget-view+json": {
       "model_id": "cc6841ce36c743049d35b556aa0c0575",
       "version_major": 2,
       "version_minor": 0
      },
      "text/plain": [
       "Seeds:   0%|          | 0/10 [00:00<?, ?it/s]"
      ]
     },
     "metadata": {},
     "output_type": "display_data"
    },
    {
     "data": {
      "application/vnd.jupyter.widget-view+json": {
       "model_id": "bfda9bb982634943b9ba706bcc456539",
       "version_major": 2,
       "version_minor": 0
      },
      "text/plain": [
       "Seeds:   0%|          | 0/10 [00:00<?, ?it/s]"
      ]
     },
     "metadata": {},
     "output_type": "display_data"
    },
    {
     "data": {
      "application/vnd.jupyter.widget-view+json": {
       "model_id": "3797abc68ea1420db4f117c33dd365de",
       "version_major": 2,
       "version_minor": 0
      },
      "text/plain": [
       "Seeds:   0%|          | 0/10 [00:00<?, ?it/s]"
      ]
     },
     "metadata": {},
     "output_type": "display_data"
    },
    {
     "data": {
      "application/vnd.jupyter.widget-view+json": {
       "model_id": "4824cc2ed2e4416bb9d81d351cd59c73",
       "version_major": 2,
       "version_minor": 0
      },
      "text/plain": [
       "Seeds:   0%|          | 0/10 [00:00<?, ?it/s]"
      ]
     },
     "metadata": {},
     "output_type": "display_data"
    },
    {
     "name": "stdout",
     "output_type": "stream",
     "text": [
      "{'dataname': 'iris', 'N_feature': 4, 'N_class': 3, 'N_train': 88, 'N_valid': 29, 'N_test': 31}\n"
     ]
    },
    {
     "data": {
      "application/vnd.jupyter.widget-view+json": {
       "model_id": "f432f57a910e40c59ffe9d2238467889",
       "version_major": 2,
       "version_minor": 0
      },
      "text/plain": [
       "Power:   0%|          | 0/4 [00:00<?, ?it/s]"
      ]
     },
     "metadata": {},
     "output_type": "display_data"
    },
    {
     "data": {
      "application/vnd.jupyter.widget-view+json": {
       "model_id": "f35d4bbb4c8b48d0b474ebc82c8d0e8b",
       "version_major": 2,
       "version_minor": 0
      },
      "text/plain": [
       "Seeds:   0%|          | 0/10 [00:00<?, ?it/s]"
      ]
     },
     "metadata": {},
     "output_type": "display_data"
    },
    {
     "data": {
      "application/vnd.jupyter.widget-view+json": {
       "model_id": "2947facd663e4d368aeb5d507441cd6c",
       "version_major": 2,
       "version_minor": 0
      },
      "text/plain": [
       "Seeds:   0%|          | 0/10 [00:00<?, ?it/s]"
      ]
     },
     "metadata": {},
     "output_type": "display_data"
    },
    {
     "data": {
      "application/vnd.jupyter.widget-view+json": {
       "model_id": "bf143b49037e4abdbcb77d5fb69b9b88",
       "version_major": 2,
       "version_minor": 0
      },
      "text/plain": [
       "Seeds:   0%|          | 0/10 [00:00<?, ?it/s]"
      ]
     },
     "metadata": {},
     "output_type": "display_data"
    },
    {
     "data": {
      "application/vnd.jupyter.widget-view+json": {
       "model_id": "e42e6ebf6d66435e97152f6d432fa3f2",
       "version_major": 2,
       "version_minor": 0
      },
      "text/plain": [
       "Seeds:   0%|          | 0/10 [00:00<?, ?it/s]"
      ]
     },
     "metadata": {},
     "output_type": "display_data"
    },
    {
     "name": "stdout",
     "output_type": "stream",
     "text": [
      "{'dataname': 'mammographic', 'N_feature': 5, 'N_class': 2, 'N_train': 575, 'N_valid': 191, 'N_test': 193}\n"
     ]
    },
    {
     "data": {
      "application/vnd.jupyter.widget-view+json": {
       "model_id": "736582cb4ac14839aa6f381fe34185fd",
       "version_major": 2,
       "version_minor": 0
      },
      "text/plain": [
       "Power:   0%|          | 0/4 [00:00<?, ?it/s]"
      ]
     },
     "metadata": {},
     "output_type": "display_data"
    },
    {
     "data": {
      "application/vnd.jupyter.widget-view+json": {
       "model_id": "9408ed7268d44346b8db898de9d50e0a",
       "version_major": 2,
       "version_minor": 0
      },
      "text/plain": [
       "Seeds:   0%|          | 0/10 [00:00<?, ?it/s]"
      ]
     },
     "metadata": {},
     "output_type": "display_data"
    },
    {
     "data": {
      "application/vnd.jupyter.widget-view+json": {
       "model_id": "da2a19d1ad8e4168bf06b43fdb22a601",
       "version_major": 2,
       "version_minor": 0
      },
      "text/plain": [
       "Seeds:   0%|          | 0/10 [00:00<?, ?it/s]"
      ]
     },
     "metadata": {},
     "output_type": "display_data"
    },
    {
     "data": {
      "application/vnd.jupyter.widget-view+json": {
       "model_id": "138a5a78b0544ef08f6c2cd43d9e9e93",
       "version_major": 2,
       "version_minor": 0
      },
      "text/plain": [
       "Seeds:   0%|          | 0/10 [00:00<?, ?it/s]"
      ]
     },
     "metadata": {},
     "output_type": "display_data"
    },
    {
     "data": {
      "application/vnd.jupyter.widget-view+json": {
       "model_id": "8e7454d072b14fe29306b41f91fb7cca",
       "version_major": 2,
       "version_minor": 0
      },
      "text/plain": [
       "Seeds:   0%|          | 0/10 [00:00<?, ?it/s]"
      ]
     },
     "metadata": {},
     "output_type": "display_data"
    },
    {
     "name": "stdout",
     "output_type": "stream",
     "text": [
      "{'dataname': 'Pendigits', 'N_feature': 16, 'N_class': 10, 'N_train': 2198, 'N_valid': 732, 'N_test': 733}\n"
     ]
    },
    {
     "data": {
      "application/vnd.jupyter.widget-view+json": {
       "model_id": "1a0507c469854b31b1d0354fbb8f8e8a",
       "version_major": 2,
       "version_minor": 0
      },
      "text/plain": [
       "Power:   0%|          | 0/4 [00:00<?, ?it/s]"
      ]
     },
     "metadata": {},
     "output_type": "display_data"
    },
    {
     "data": {
      "application/vnd.jupyter.widget-view+json": {
       "model_id": "6561e8f5e0cf48bfa2b25f88c5ec4ddc",
       "version_major": 2,
       "version_minor": 0
      },
      "text/plain": [
       "Seeds:   0%|          | 0/10 [00:00<?, ?it/s]"
      ]
     },
     "metadata": {},
     "output_type": "display_data"
    },
    {
     "name": "stdout",
     "output_type": "stream",
     "text": [
      "Error loading model_PT: ./models/pNN_data_Pendigits_seed_1_Penalty_AL_Factor_0600.model\n",
      "[Errno 2] No such file or directory: './models/pNN_data_Pendigits_seed_1_Penalty_AL_Factor_0600.model'\n",
      "Error loading model_FT: ./models/pNN_data_Pendigits_seed_2_Penalty_AL_Factor_0600_FT.model\n",
      "[Errno 2] No such file or directory: './models/pNN_data_Pendigits_seed_2_Penalty_AL_Factor_0600_FT.model'\n",
      "Error loading model_PT: ./models/pNN_data_Pendigits_seed_3_Penalty_AL_Factor_0600.model\n",
      "[Errno 2] No such file or directory: './models/pNN_data_Pendigits_seed_3_Penalty_AL_Factor_0600.model'\n",
      "Error loading model_PT: ./models/pNN_data_Pendigits_seed_4_Penalty_AL_Factor_0600.model\n",
      "[Errno 2] No such file or directory: './models/pNN_data_Pendigits_seed_4_Penalty_AL_Factor_0600.model'\n",
      "Error loading model_PT: ./models/pNN_data_Pendigits_seed_5_Penalty_AL_Factor_0600.model\n",
      "[Errno 2] No such file or directory: './models/pNN_data_Pendigits_seed_5_Penalty_AL_Factor_0600.model'\n",
      "Error loading model_FT: ./models/pNN_data_Pendigits_seed_7_Penalty_AL_Factor_0600_FT.model\n",
      "[Errno 2] No such file or directory: './models/pNN_data_Pendigits_seed_7_Penalty_AL_Factor_0600_FT.model'\n",
      "Error loading model_PT: ./models/pNN_data_Pendigits_seed_8_Penalty_AL_Factor_0600.model\n",
      "[Errno 2] No such file or directory: './models/pNN_data_Pendigits_seed_8_Penalty_AL_Factor_0600.model'\n"
     ]
    },
    {
     "data": {
      "application/vnd.jupyter.widget-view+json": {
       "model_id": "3b50ec13f4bb4594b67ef0f5ab5b8d3c",
       "version_major": 2,
       "version_minor": 0
      },
      "text/plain": [
       "Seeds:   0%|          | 0/10 [00:00<?, ?it/s]"
      ]
     },
     "metadata": {},
     "output_type": "display_data"
    },
    {
     "name": "stdout",
     "output_type": "stream",
     "text": [
      "Error loading model_PT: ./models/pNN_data_Pendigits_seed_0_Penalty_AL_Factor_1200.model\n",
      "[Errno 2] No such file or directory: './models/pNN_data_Pendigits_seed_0_Penalty_AL_Factor_1200.model'\n",
      "Error loading model_PT: ./models/pNN_data_Pendigits_seed_1_Penalty_AL_Factor_1200.model\n",
      "[Errno 2] No such file or directory: './models/pNN_data_Pendigits_seed_1_Penalty_AL_Factor_1200.model'\n",
      "Error loading model_PT: ./models/pNN_data_Pendigits_seed_3_Penalty_AL_Factor_1200.model\n",
      "[Errno 2] No such file or directory: './models/pNN_data_Pendigits_seed_3_Penalty_AL_Factor_1200.model'\n",
      "Error loading model_PT: ./models/pNN_data_Pendigits_seed_5_Penalty_AL_Factor_1200.model\n",
      "[Errno 2] No such file or directory: './models/pNN_data_Pendigits_seed_5_Penalty_AL_Factor_1200.model'\n",
      "Error loading model_PT: ./models/pNN_data_Pendigits_seed_6_Penalty_AL_Factor_1200.model\n",
      "[Errno 2] No such file or directory: './models/pNN_data_Pendigits_seed_6_Penalty_AL_Factor_1200.model'\n",
      "Error loading model_PT: ./models/pNN_data_Pendigits_seed_7_Penalty_AL_Factor_1200.model\n",
      "[Errno 2] No such file or directory: './models/pNN_data_Pendigits_seed_7_Penalty_AL_Factor_1200.model'\n",
      "Error loading model_PT: ./models/pNN_data_Pendigits_seed_8_Penalty_AL_Factor_1200.model\n",
      "[Errno 2] No such file or directory: './models/pNN_data_Pendigits_seed_8_Penalty_AL_Factor_1200.model'\n",
      "Error loading model_PT: ./models/pNN_data_Pendigits_seed_9_Penalty_AL_Factor_1200.model\n",
      "[Errno 2] No such file or directory: './models/pNN_data_Pendigits_seed_9_Penalty_AL_Factor_1200.model'\n"
     ]
    },
    {
     "data": {
      "application/vnd.jupyter.widget-view+json": {
       "model_id": "42653942c2e84450ac39f1a2b74922e5",
       "version_major": 2,
       "version_minor": 0
      },
      "text/plain": [
       "Seeds:   0%|          | 0/10 [00:00<?, ?it/s]"
      ]
     },
     "metadata": {},
     "output_type": "display_data"
    },
    {
     "name": "stdout",
     "output_type": "stream",
     "text": [
      "Error loading model_PT: ./models/pNN_data_Pendigits_seed_0_Penalty_AL_Factor_1800.model\n",
      "[Errno 2] No such file or directory: './models/pNN_data_Pendigits_seed_0_Penalty_AL_Factor_1800.model'\n",
      "Error loading model_PT: ./models/pNN_data_Pendigits_seed_2_Penalty_AL_Factor_1800.model\n",
      "[Errno 2] No such file or directory: './models/pNN_data_Pendigits_seed_2_Penalty_AL_Factor_1800.model'\n",
      "Error loading model_PT: ./models/pNN_data_Pendigits_seed_4_Penalty_AL_Factor_1800.model\n",
      "[Errno 2] No such file or directory: './models/pNN_data_Pendigits_seed_4_Penalty_AL_Factor_1800.model'\n",
      "Error loading model_PT: ./models/pNN_data_Pendigits_seed_6_Penalty_AL_Factor_1800.model\n",
      "[Errno 2] No such file or directory: './models/pNN_data_Pendigits_seed_6_Penalty_AL_Factor_1800.model'\n",
      "Error loading model_PT: ./models/pNN_data_Pendigits_seed_7_Penalty_AL_Factor_1800.model\n",
      "[Errno 2] No such file or directory: './models/pNN_data_Pendigits_seed_7_Penalty_AL_Factor_1800.model'\n",
      "Error loading model_PT: ./models/pNN_data_Pendigits_seed_8_Penalty_AL_Factor_1800.model\n",
      "[Errno 2] No such file or directory: './models/pNN_data_Pendigits_seed_8_Penalty_AL_Factor_1800.model'\n"
     ]
    },
    {
     "data": {
      "application/vnd.jupyter.widget-view+json": {
       "model_id": "0135be15ecb64ab3b6d75336384454b5",
       "version_major": 2,
       "version_minor": 0
      },
      "text/plain": [
       "Seeds:   0%|          | 0/10 [00:00<?, ?it/s]"
      ]
     },
     "metadata": {},
     "output_type": "display_data"
    },
    {
     "name": "stdout",
     "output_type": "stream",
     "text": [
      "{'dataname': 'seeds', 'N_feature': 7, 'N_class': 3, 'N_train': 124, 'N_valid': 41, 'N_test': 43}\n"
     ]
    },
    {
     "data": {
      "application/vnd.jupyter.widget-view+json": {
       "model_id": "31a13e1505bd42fb9debd35ed714188b",
       "version_major": 2,
       "version_minor": 0
      },
      "text/plain": [
       "Power:   0%|          | 0/4 [00:00<?, ?it/s]"
      ]
     },
     "metadata": {},
     "output_type": "display_data"
    },
    {
     "data": {
      "application/vnd.jupyter.widget-view+json": {
       "model_id": "71970db08e4b484bad03325aa6a6dcae",
       "version_major": 2,
       "version_minor": 0
      },
      "text/plain": [
       "Seeds:   0%|          | 0/10 [00:00<?, ?it/s]"
      ]
     },
     "metadata": {},
     "output_type": "display_data"
    },
    {
     "data": {
      "application/vnd.jupyter.widget-view+json": {
       "model_id": "8d3bbc990a0341fb9e0ec346ebf5d8a3",
       "version_major": 2,
       "version_minor": 0
      },
      "text/plain": [
       "Seeds:   0%|          | 0/10 [00:00<?, ?it/s]"
      ]
     },
     "metadata": {},
     "output_type": "display_data"
    },
    {
     "data": {
      "application/vnd.jupyter.widget-view+json": {
       "model_id": "c56271c573b0425989953bc9cb509a64",
       "version_major": 2,
       "version_minor": 0
      },
      "text/plain": [
       "Seeds:   0%|          | 0/10 [00:00<?, ?it/s]"
      ]
     },
     "metadata": {},
     "output_type": "display_data"
    },
    {
     "data": {
      "application/vnd.jupyter.widget-view+json": {
       "model_id": "5f3a02b9dba94509af1c56aca96de053",
       "version_major": 2,
       "version_minor": 0
      },
      "text/plain": [
       "Seeds:   0%|          | 0/10 [00:00<?, ?it/s]"
      ]
     },
     "metadata": {},
     "output_type": "display_data"
    },
    {
     "name": "stdout",
     "output_type": "stream",
     "text": [
      "{'dataname': 'tictactoe', 'N_feature': 9, 'N_class': 2, 'N_train': 573, 'N_valid': 191, 'N_test': 192}\n"
     ]
    },
    {
     "data": {
      "application/vnd.jupyter.widget-view+json": {
       "model_id": "c253af39dc6749f2b6ca76caeb63d1e0",
       "version_major": 2,
       "version_minor": 0
      },
      "text/plain": [
       "Power:   0%|          | 0/4 [00:00<?, ?it/s]"
      ]
     },
     "metadata": {},
     "output_type": "display_data"
    },
    {
     "data": {
      "application/vnd.jupyter.widget-view+json": {
       "model_id": "611e32618b1d4ee78f5d259de188f14e",
       "version_major": 2,
       "version_minor": 0
      },
      "text/plain": [
       "Seeds:   0%|          | 0/10 [00:00<?, ?it/s]"
      ]
     },
     "metadata": {},
     "output_type": "display_data"
    },
    {
     "data": {
      "application/vnd.jupyter.widget-view+json": {
       "model_id": "76b6cd0472bc48288a139c1b9674dcdb",
       "version_major": 2,
       "version_minor": 0
      },
      "text/plain": [
       "Seeds:   0%|          | 0/10 [00:00<?, ?it/s]"
      ]
     },
     "metadata": {},
     "output_type": "display_data"
    },
    {
     "data": {
      "application/vnd.jupyter.widget-view+json": {
       "model_id": "cec9aaed134a452cb9a550c1a75eca32",
       "version_major": 2,
       "version_minor": 0
      },
      "text/plain": [
       "Seeds:   0%|          | 0/10 [00:00<?, ?it/s]"
      ]
     },
     "metadata": {},
     "output_type": "display_data"
    },
    {
     "data": {
      "application/vnd.jupyter.widget-view+json": {
       "model_id": "358b7167d8e24e3c941b3b4c2b677764",
       "version_major": 2,
       "version_minor": 0
      },
      "text/plain": [
       "Seeds:   0%|          | 0/10 [00:00<?, ?it/s]"
      ]
     },
     "metadata": {},
     "output_type": "display_data"
    },
    {
     "name": "stdout",
     "output_type": "stream",
     "text": [
      "{'dataname': 'vertebralcolumn2clases', 'N_feature': 6, 'N_class': 2, 'N_train': 184, 'N_valid': 61, 'N_test': 63}\n"
     ]
    },
    {
     "data": {
      "application/vnd.jupyter.widget-view+json": {
       "model_id": "04bc6aa42d8a49608a7fda121a14fdfe",
       "version_major": 2,
       "version_minor": 0
      },
      "text/plain": [
       "Power:   0%|          | 0/4 [00:00<?, ?it/s]"
      ]
     },
     "metadata": {},
     "output_type": "display_data"
    },
    {
     "data": {
      "application/vnd.jupyter.widget-view+json": {
       "model_id": "d1d8d59a687b4ec8bf6d0d58ef8a1893",
       "version_major": 2,
       "version_minor": 0
      },
      "text/plain": [
       "Seeds:   0%|          | 0/10 [00:00<?, ?it/s]"
      ]
     },
     "metadata": {},
     "output_type": "display_data"
    },
    {
     "data": {
      "application/vnd.jupyter.widget-view+json": {
       "model_id": "d80bf63d4a9343a79d1214058672b001",
       "version_major": 2,
       "version_minor": 0
      },
      "text/plain": [
       "Seeds:   0%|          | 0/10 [00:00<?, ?it/s]"
      ]
     },
     "metadata": {},
     "output_type": "display_data"
    },
    {
     "data": {
      "application/vnd.jupyter.widget-view+json": {
       "model_id": "c795e9f2dab24850b226fddbad39ff0b",
       "version_major": 2,
       "version_minor": 0
      },
      "text/plain": [
       "Seeds:   0%|          | 0/10 [00:00<?, ?it/s]"
      ]
     },
     "metadata": {},
     "output_type": "display_data"
    },
    {
     "data": {
      "application/vnd.jupyter.widget-view+json": {
       "model_id": "8c73c7661993466daa9c7f9c291e3a82",
       "version_major": 2,
       "version_minor": 0
      },
      "text/plain": [
       "Seeds:   0%|          | 0/10 [00:00<?, ?it/s]"
      ]
     },
     "metadata": {},
     "output_type": "display_data"
    },
    {
     "name": "stdout",
     "output_type": "stream",
     "text": [
      "{'dataname': 'vertebralcolumn3clases', 'N_feature': 6, 'N_class': 3, 'N_train': 184, 'N_valid': 61, 'N_test': 63}\n"
     ]
    },
    {
     "data": {
      "application/vnd.jupyter.widget-view+json": {
       "model_id": "2b68d39a069a43e7a7a06a362d112caa",
       "version_major": 2,
       "version_minor": 0
      },
      "text/plain": [
       "Power:   0%|          | 0/4 [00:00<?, ?it/s]"
      ]
     },
     "metadata": {},
     "output_type": "display_data"
    },
    {
     "data": {
      "application/vnd.jupyter.widget-view+json": {
       "model_id": "a53b2272d46d413bb2e27975bdad38d8",
       "version_major": 2,
       "version_minor": 0
      },
      "text/plain": [
       "Seeds:   0%|          | 0/10 [00:00<?, ?it/s]"
      ]
     },
     "metadata": {},
     "output_type": "display_data"
    },
    {
     "data": {
      "application/vnd.jupyter.widget-view+json": {
       "model_id": "8be366540f614dd08e1099b8272982eb",
       "version_major": 2,
       "version_minor": 0
      },
      "text/plain": [
       "Seeds:   0%|          | 0/10 [00:00<?, ?it/s]"
      ]
     },
     "metadata": {},
     "output_type": "display_data"
    },
    {
     "data": {
      "application/vnd.jupyter.widget-view+json": {
       "model_id": "ac0f6508dbc34dc4acf8ac76b4469097",
       "version_major": 2,
       "version_minor": 0
      },
      "text/plain": [
       "Seeds:   0%|          | 0/10 [00:00<?, ?it/s]"
      ]
     },
     "metadata": {},
     "output_type": "display_data"
    },
    {
     "data": {
      "application/vnd.jupyter.widget-view+json": {
       "model_id": "6d26df0bbf804fb4b51965558dec3834",
       "version_major": 2,
       "version_minor": 0
      },
      "text/plain": [
       "Seeds:   0%|          | 0/10 [00:00<?, ?it/s]"
      ]
     },
     "metadata": {},
     "output_type": "display_data"
    }
   ],
   "source": [
    "from tqdm.notebook import tqdm\n",
    "\n",
    "\n",
    "for ds in tqdm(range(13), desc=\"Datasets\"):\n",
    "    args.DATASET = ds\n",
    "    valid_loader, datainfo = GetDataLoader(args, 'valid', path='../dataset/')\n",
    "    test_loader, datainfo = GetDataLoader(args, 'test', path='../dataset/')\n",
    "    print(datainfo)\n",
    "\n",
    "    for p, power in enumerate(tqdm(target[:,ds], desc=\"Power\", leave=False)):\n",
    "        \n",
    "        args.powerbalance = power\n",
    "        \n",
    "        for seed in tqdm(range(10), desc=\"Seeds\", leave=False):\n",
    "\n",
    "            args.SEED = seed\n",
    "\n",
    "            setup = f\"data_{datainfo['dataname']}_seed_{args.SEED}_Penalty_{args.powerestimator}_Factor_{int(args.powerbalance):04d}\"\n",
    "\n",
    "            model_PT_name = f'./models/pNN_{setup}.model'\n",
    "            model_FT_name = f'./models/pNN_{setup}_FT.model'\n",
    "            \n",
    "            try:\n",
    "                model_PT = torch.load(model_PT_name)\n",
    "            except Exception as e:\n",
    "                print(f\"Error loading model_PT: {model_PT_name}\")\n",
    "                print(e)\n",
    "                continue\n",
    "            \n",
    "            try:\n",
    "                model_FT = torch.load(model_FT_name)\n",
    "            except Exception as e:\n",
    "                print(f\"Error loading model_FT: {model_FT_name}\")\n",
    "                print(e)\n",
    "                continue\n"
   ]
  },
  {
   "cell_type": "markdown",
   "id": "cb25c676",
   "metadata": {},
   "source": [
    "## Evalute model on val-test set"
   ]
  },
  {
   "cell_type": "code",
   "execution_count": null,
   "id": "387f6baa-abf8-4eab-ab41-a2fad060a1d5",
   "metadata": {},
   "outputs": [],
   "source": [
    "# from tqdm.notebook import tqdm\n",
    "\n",
    "# results = torch.zeros([10, 4, 13, 8])\n",
    "\n",
    "# evaluator = Evaluator(args).to(args.DEVICE)\n",
    "\n",
    "# for ds in tqdm(range(13), desc=\"Datasets\"):\n",
    "#     args.DATASET = ds\n",
    "#     valid_loader, datainfo = GetDataLoader(args, 'valid', path='../dataset/')\n",
    "#     test_loader, datainfo = GetDataLoader(args, 'test', path='../dataset/')\n",
    "#     print(datainfo)\n",
    "\n",
    "#     for p, power in enumerate(tqdm(target[:,ds], desc=\"Power\", leave=False)):\n",
    "        \n",
    "#         args.powerbalance = power\n",
    "        \n",
    "#         for seed in tqdm(range(10), desc=\"Seeds\", leave=False):\n",
    "\n",
    "#             args.SEED = seed\n",
    "            \n",
    "#             for x, y in valid_loader:\n",
    "#                 X_valid, y_valid = x.to(args.DEVICE), y.to(args.DEVICE)\n",
    "#             for x, y in test_loader:\n",
    "#                 X_test, y_test = x.to(args.DEVICE), y.to(args.DEVICE)\n",
    "\n",
    "#             setup = f\"data_{datainfo['dataname']}_seed_{args.SEED}_Penalty_{args.powerestimator}_Factor_{int(args.powerbalance):04d}\"\n",
    "\n",
    "#             model_PT_name = f'./models/pNN_{setup}.model'\n",
    "#             model_FT_name = f'./models/pNN_{setup}_FT.model'\n",
    "#             # model_FT_RESET_name = f'./models/pNN_{setup}_FT_reset.model'\n",
    "            \n",
    "#             try:\n",
    "#                 model_PT = torch.load(model_PT_name)\n",
    "#             except Exception as e:\n",
    "#                 print(f\"Error loading model_PT: {model_PT_name}\")\n",
    "#                 print(e)\n",
    "#                 continue\n",
    "            \n",
    "#             try:\n",
    "#                 model_FT = torch.load(model_FT_name)\n",
    "#             except Exception as e:\n",
    "#                 print(f\"Error loading model_FT: {model_FT_name}\")\n",
    "#                 print(e)\n",
    "#                 continue\n",
    "\n",
    "#             # try:\n",
    "#             #     model_FT_RESET = torch.load(model_FT_RESET_name)\n",
    "#             # except Exception as e:\n",
    "#             #     print(f\"Error loading model_FT: {model_FT_RESET_name}\")\n",
    "#             #     print(e)\n",
    "#             #     continue\n",
    "            \n",
    "#             acc_valid_pt, power_valid_pt = evaluator(model_PT, X_valid, y_valid)\n",
    "#             acc_test_pt, power_test_pt = evaluator(model_PT, X_test, y_test)\n",
    "\n",
    "#             acc_valid_ft, power_valid_ft = evaluator(model_FT, X_valid, y_valid)\n",
    "#             acc_test_ft, power_test_ft = evaluator(model_FT, X_test, y_test)\n",
    "\n",
    "#             # acc_valid_ft_reset, power_valid_ft_reset = evaluator(model_FT_RESET, X_valid, y_valid)\n",
    "#             # acc_test_ft_reset, power_test_ft_reset = evaluator(model_FT_RESET, X_test, y_test)\n",
    "            \n",
    "#             results[seed, p, ds, 0] = acc_valid_pt\n",
    "#             results[seed, p, ds, 1] = power_valid_pt.cpu().item() * 1000000\n",
    "#             results[seed, p, ds, 2] = acc_test_pt\n",
    "#             results[seed, p, ds, 3] = power_test_pt.cpu().item() * 1000000\n",
    "\n",
    "#             results[seed, p, ds, 4] = acc_valid_ft\n",
    "#             results[seed, p, ds, 5] = power_valid_ft.cpu().item() * 1000000\n",
    "#             results[seed, p, ds, 6] = acc_test_ft\n",
    "#             results[seed, p, ds, 7] = power_test_ft.cpu().item() * 1000000\n",
    "\n",
    "#             # results[seed, p, ds, 8] = acc_valid_ft_reset\n",
    "#             # results[seed, p, ds, 9] = power_valid_ft_reset.cpu().item() * 1000000\n",
    "#             # results[seed, p, ds, 10] = acc_test_ft_reset\n",
    "#             # results[seed, p, ds, 11] = power_test_ft_reset.cpu().item() * 1000000\n"
   ]
  },
  {
   "cell_type": "code",
   "execution_count": null,
   "id": "ceca417c-f036-45cc-a39d-87eda14701c4",
   "metadata": {},
   "outputs": [],
   "source": [
    "# torch.save(results, './result.matrix')\n",
    "# torch.save(results, '../RESULT/result_AL_hs.matrix')"
   ]
  },
  {
   "cell_type": "markdown",
   "id": "c54e1239",
   "metadata": {},
   "source": [
    "## Visualize data"
   ]
  },
  {
   "cell_type": "markdown",
   "id": "66ed11a7",
   "metadata": {},
   "source": [
    "### Load data"
   ]
  },
  {
   "cell_type": "code",
   "execution_count": 4,
   "id": "9100dbef-5c09-4a23-96d6-bfea72a8a83f",
   "metadata": {},
   "outputs": [
    {
     "data": {
      "text/plain": [
       "torch.Size([10, 4, 13, 12])"
      ]
     },
     "execution_count": 4,
     "metadata": {},
     "output_type": "execute_result"
    }
   ],
   "source": [
    "results = torch.load('./result.matrix')\n",
    "results.shape"
   ]
  },
  {
   "cell_type": "code",
   "execution_count": 5,
   "id": "da58f7e5-b522-4a0d-8a15-2f90803627c2",
   "metadata": {},
   "outputs": [],
   "source": [
    "sys.path.append('../utils/')\n",
    "import FigureConfig as FC"
   ]
  },
  {
   "cell_type": "code",
   "execution_count": 8,
   "id": "b8d4c259-3790-4389-81b8-9a72b313633a",
   "metadata": {},
   "outputs": [
    {
     "data": {
      "text/plain": [
       "torch.Size([10, 4, 8])"
      ]
     },
     "execution_count": 8,
     "metadata": {},
     "output_type": "execute_result"
    }
   ],
   "source": [
    "ds = 5\n",
    "result_temp = results[:,:,ds,:]\n",
    "result_temp.shape"
   ]
  },
  {
   "cell_type": "code",
   "execution_count": 10,
   "id": "82747ba7-9b2d-4b29-8d31-1fd25d9bbb1b",
   "metadata": {},
   "outputs": [
    {
     "data": {
      "image/png": "[encoded data removed]",
      "text/plain": [
       "<Figure size 640x480 with 1 Axes>"
      ]
     },
     "metadata": {},
     "output_type": "display_data"
    }
   ],
   "source": [
    "plt.figure()\n",
    "for i in range(4):\n",
    "    idx = torch.argmax(result_temp[:,i,2].flatten())\n",
    "    plt.scatter(result_temp[idx,i,3],result_temp[idx,i,2], color = 'blue', label = 'PT', marker = 'x')\n",
    "    plt.scatter(result_temp[idx,i,7],result_temp[idx,i,6], color = 'red', label = 'FT', marker = '+')\n",
    "    # plt.scatter(result_temp[idx,i,11],result_temp[idx,i,10], color = 'orange')"
   ]
  },
  {
   "cell_type": "code",
   "execution_count": 11,
   "id": "e49c590d",
   "metadata": {},
   "outputs": [
    {
     "data": {
      "text/plain": [
       "(tensor([0.7662, 0.7273, 0.7273, 0.7273, 0.7273, 0.7273, 0.7273, 0.7273, 0.7857,\n",
       "         0.7662]),\n",
       " tensor(8))"
      ]
     },
     "execution_count": 11,
     "metadata": {},
     "output_type": "execute_result"
    }
   ],
   "source": [
    "result_temp[:,1,2].flatten(), torch.argmax(result_temp[:,1,2].flatten())"
   ]
  }
 ],
 "metadata": {
  "kernelspec": {
   "display_name": "train-model",
   "language": "python",
   "name": "python3"
  },
  "language_info": {
   "codemirror_mode": {
    "name": "ipython",
    "version": 3
   },
   "file_extension": ".py",
   "mimetype": "text/x-python",
   "name": "python",
   "nbconvert_exporter": "python",
   "pygments_lexer": "ipython3",
   "version": "3.12.2"
  }
 },
 "nbformat": 4,
 "nbformat_minor": 5
}
